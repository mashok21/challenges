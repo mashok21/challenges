{
 "cells": [
  {
   "cell_type": "code",
   "execution_count": 1,
   "metadata": {},
   "outputs": [
    {
     "data": {
      "text/plain": [
       "range(0, 5)"
      ]
     },
     "execution_count": 1,
     "metadata": {},
     "output_type": "execute_result"
    }
   ],
   "source": [
    "range(5)"
   ]
  },
  {
   "cell_type": "code",
   "execution_count": 2,
   "metadata": {},
   "outputs": [
    {
     "data": {
      "text/plain": [
       "range(2, 5)"
      ]
     },
     "execution_count": 2,
     "metadata": {},
     "output_type": "execute_result"
    }
   ],
   "source": [
    "range(2,5)"
   ]
  },
  {
   "cell_type": "code",
   "execution_count": 3,
   "metadata": {},
   "outputs": [
    {
     "data": {
      "text/plain": [
       "range(1, 10, 2)"
      ]
     },
     "execution_count": 3,
     "metadata": {},
     "output_type": "execute_result"
    }
   ],
   "source": [
    "range(1,10,2)"
   ]
  },
  {
   "cell_type": "code",
   "execution_count": 4,
   "metadata": {},
   "outputs": [
    {
     "name": "stdout",
     "output_type": "stream",
     "text": [
      "value of l is  0\n",
      "value of l is  1\n",
      "value of l is  2\n",
      "value of l is  3\n",
      "value of l is  4\n"
     ]
    }
   ],
   "source": [
    "for i in range(5):\n",
    "    print(\"value of l is \", i )"
   ]
  },
  {
   "cell_type": "code",
   "execution_count": 5,
   "metadata": {},
   "outputs": [
    {
     "name": "stdout",
     "output_type": "stream",
     "text": [
      "value of l is  1\n",
      "value of l is  2\n",
      "value of l is  3\n",
      "value of l is  4\n"
     ]
    }
   ],
   "source": [
    "for i in range(1,5):\n",
    "    print(\"value of l is \", i)"
   ]
  },
  {
   "cell_type": "markdown",
   "metadata": {},
   "source": [
    "for i in range(1,10,2):\n",
    "    print(\"value of l is \", i)"
   ]
  },
  {
   "cell_type": "code",
   "execution_count": 16,
   "metadata": {},
   "outputs": [
    {
     "name": "stdout",
     "output_type": "stream",
     "text": [
      "i is less than 10---> 0\n",
      "i is less than 10---> 1\n",
      "i is less than 10---> 2\n",
      "i is less than 10---> 3\n",
      "i is less than 10---> 4\n",
      "i is less than 10---> 5\n",
      "i is less than 10---> 6\n",
      "i is less than 10---> 7\n",
      "i is less than 10---> 8\n",
      "i is less than 10---> 9\n",
      "exit from loop\n"
     ]
    }
   ],
   "source": [
    "i = 0\n",
    "while i < 10:\n",
    "    print(\"i is less than 10--->\", i)\n",
    "    i += 1\n",
    "print(\"exit from loop\")"
   ]
  },
  {
   "cell_type": "markdown",
   "metadata": {},
   "source": [
    "Jump Statement"
   ]
  },
  {
   "cell_type": "code",
   "execution_count": 31,
   "metadata": {},
   "outputs": [
    {
     "name": "stdout",
     "output_type": "stream",
     "text": [
      "i is equal to >>> 1\n",
      "i is equal to >>> 2\n"
     ]
    }
   ],
   "source": [
    "for i in range(1,6):\n",
    "    if i == 3:\n",
    "        break\n",
    "    print(\"i is equal to >>>\", i)"
   ]
  },
  {
   "cell_type": "code",
   "execution_count": 44,
   "metadata": {},
   "outputs": [
    {
     "name": "stdout",
     "output_type": "stream",
     "text": [
      "i is equal to >>> 1\n",
      "i is equal to >>> 2\n",
      "i is equal to >>> 4\n",
      "i is equal to >>> 5\n"
     ]
    }
   ],
   "source": [
    "for i in range(1,6):\n",
    "    if i == 3:\n",
    "        continue # just skips the condition\n",
    "    print(\"i is equal to >>>\", i)"
   ]
  },
  {
   "cell_type": "code",
   "execution_count": 51,
   "metadata": {},
   "outputs": [
    {
     "name": "stdout",
     "output_type": "stream",
     "text": [
      "i is equal to >>> 1\n",
      "i is equal to >>> 2\n",
      "i is equal to >>> 4\n"
     ]
    }
   ],
   "source": [
    "for i in range(1,6):\n",
    "    if i == 3 or i == 5: # combined conditions\n",
    "        continue\n",
    "    print(\"i is equal to >>>\", i)"
   ]
  },
  {
   "cell_type": "code",
   "execution_count": 47,
   "metadata": {},
   "outputs": [],
   "source": [
    "for i in range(1,6):\n",
    "    pass"
   ]
  },
  {
   "cell_type": "code",
   "execution_count": 48,
   "metadata": {},
   "outputs": [
    {
     "name": "stdout",
     "output_type": "stream",
     "text": [
      "i is equal to >>> 1\n",
      "i is equal to >>> 2\n",
      "i is equal to >>> 3\n",
      "i is equal to >>> 4\n",
      "i is equal to >>> 5\n"
     ]
    }
   ],
   "source": [
    "for i in range(1,6):\n",
    "    if i == 3:\n",
    "        pass\n",
    "    print(\"i is equal to >>>\", i)"
   ]
  },
  {
   "cell_type": "code",
   "execution_count": 52,
   "metadata": {
    "scrolled": true
   },
   "outputs": [
    {
     "name": "stdout",
     "output_type": "stream",
     "text": [
      "i is  1 j is  0\n",
      "i is  1 j is  1\n",
      "i is  1 j is  2\n",
      "i is  2 j is  0\n",
      "i is  2 j is  1\n",
      "i is  2 j is  2\n",
      "i is  3 j is  0\n",
      "i is  3 j is  1\n",
      "i is  3 j is  2\n",
      "i is  4 j is  0\n",
      "i is  4 j is  1\n",
      "i is  4 j is  2\n"
     ]
    }
   ],
   "source": [
    "for i in range(1,5):\n",
    "    for j in range(3):\n",
    "        print(\"i is \", i, 'j is ', j)"
   ]
  },
  {
   "cell_type": "code",
   "execution_count": 18,
   "metadata": {},
   "outputs": [
    {
     "name": "stdout",
     "output_type": "stream",
     "text": [
      "x is :  0 y is : 0\n",
      "x is :  0 y is : 1\n",
      "x is :  0 y is : 2\n",
      "x is :  1 y is : 0\n",
      "x is :  1 y is : 1\n",
      "x is :  1 y is : 2\n",
      "x is :  2 y is : 0\n",
      "x is :  2 y is : 1\n",
      "x is :  2 y is : 2\n",
      "x is :  3 y is : 0\n",
      "x is :  3 y is : 1\n",
      "x is :  3 y is : 2\n",
      "x is :  4 y is : 0\n",
      "x is :  4 y is : 1\n",
      "x is :  4 y is : 2\n"
     ]
    }
   ],
   "source": [
    "x = 0\n",
    "y = 0\n",
    "while x <5:\n",
    "    y = 0\n",
    "    while y < 3:\n",
    "        print('x is : ', x, 'y is :', y)\n",
    "        y += 1\n",
    "    x += 1"
   ]
  },
  {
   "cell_type": "code",
   "execution_count": 4,
   "metadata": {},
   "outputs": [
    {
     "name": "stdout",
     "output_type": "stream",
     "text": [
      "enter a number: 100\n",
      "sum of given num is :  1\n"
     ]
    }
   ],
   "source": [
    "num = int(input(\"enter a number: \"))\n",
    "sumn = 0\n",
    "rem = 0\n",
    "while num > 0:\n",
    "    rem = num % 10\n",
    "    sumn += rem\n",
    "    num = num // 10\n",
    "print('sum of given num is : ', sumn)"
   ]
  },
  {
   "cell_type": "code",
   "execution_count": 11,
   "metadata": {},
   "outputs": [
    {
     "name": "stdout",
     "output_type": "stream",
     "text": [
      "*       \n",
      "\n",
      "*       *       \n",
      "\n",
      "*       *       *       \n",
      "\n",
      "*       *       *       *       \n",
      "\n",
      "*       *       *       *       *       \n",
      "\n"
     ]
    }
   ],
   "source": [
    "for i in range(1,6):\n",
    "    for j in range(i):\n",
    "        print('*', end = \"       \")\n",
    "        # print('*')\n",
    "    print('\\n')"
   ]
  },
  {
   "cell_type": "code",
   "execution_count": 17,
   "metadata": {
    "collapsed": true
   },
   "outputs": [
    {
     "data": {
      "text/plain": [
       "'\\nWrite a program ...\\n\\n1. to find a given number is even or odd\\n2. to find a given number is prime or not\\n3. to find a big number among two numbers\\n4. to find a small number among two numbers\\n5. to find a big number among three numbers\\n6. to find a small number among three numbers\\n7. to find the sum of digits of given number\\n8. to find the product of digits of a given number\\n9. to reverse a given number\\n10. to find the given number is palindrom or not\\n11. to find the given number is arm strong number o not\\n12. to find the given year is leap year or not?\\n13. to print the below pattern\\n\\n*\\n**\\n***\\n****\\n*****\\n\\n14. to print the below pattern\\n****\\n***\\n**\\n*\\n\\n15. Write a program to print the below pattern\\n1\\n22\\n333\\n4444\\n55555\\n\\n16. to print the below pattern\\n1 2\\n1 2 3 \\n1 2 3 4\\n1 2 3 4 5 \\n\\n17. to prnt the below pattern \\n\\n55555\\n4444\\n333\\n22\\n1\\n\\n12345\\n1234\\n123\\n12\\n1\\n\\n\\n\\n\\n\\n\\n\\n\\n\\n\\n'"
      ]
     },
     "execution_count": 17,
     "metadata": {},
     "output_type": "execute_result"
    }
   ],
   "source": [
    "'''\n",
    "Write a program ...\n",
    "\n",
    "1. to find a given number is even or odd\n",
    "2. to find a given number is prime or not\n",
    "3. to find a big number among two numbers\n",
    "4. to find a small number among two numbers\n",
    "5. to find a big number among three numbers\n",
    "6. to find a small number among three numbers\n",
    "7. to find the sum of digits of given number\n",
    "8. to find the product of digits of a given number\n",
    "9. to reverse a given number\n",
    "10. to find the given number is palindrom or not\n",
    "11. to find the given number is arm strong number or not\n",
    "12. to find the given year is leap year or not?\n",
    "13. to print the below pattern\n",
    "\n",
    "*\n",
    "**\n",
    "***\n",
    "****\n",
    "*****\n",
    "\n",
    "14. to print the below pattern\n",
    "****\n",
    "***\n",
    "**\n",
    "*\n",
    "\n",
    "15. Write a program to print the below pattern\n",
    "1\n",
    "22\n",
    "333\n",
    "4444\n",
    "55555\n",
    "\n",
    "16. to print the below pattern\n",
    "1 2\n",
    "1 2 3 \n",
    "1 2 3 4\n",
    "1 2 3 4 5 \n",
    "\n",
    "17. to prnt the below pattern \n",
    "\n",
    "55555\n",
    "4444\n",
    "333\n",
    "22\n",
    "1\n",
    "\n",
    "12345\n",
    "1234\n",
    "123\n",
    "12\n",
    "1\n",
    "\n",
    "\n",
    "\n",
    "\n",
    "\n",
    "\n",
    "\n",
    "\n",
    "\n",
    "\n",
    "'''\n"
   ]
  },
  {
   "cell_type": "markdown",
   "metadata": {},
   "source": [
    "# Function\n",
    "collecton of or group of statements to perform a specific task\n",
    "implement functions in python by using def keyword\n",
    " - with arguments\n",
    " - without arguments \n",
    " - with return type \n",
    "\n",
    "''' def funcname(args) \n",
    "  \n",
    "  ------\n",
    "  ------\n",
    "  -----\n",
    "  \n",
    "'''\n",
    "Two applications using function - a) reduce code size b) debug becomes easy"
   ]
  },
  {
   "cell_type": "code",
   "execution_count": 25,
   "metadata": {},
   "outputs": [],
   "source": [
    "def calculation():\n",
    "    a = int(input(\"enter a number:\"))\n",
    "    b = int(input(\"enter a number:\"))\n",
    "    print('addition:', a + b)\n",
    "    print('substraction: ', a - b)\n",
    "    print('multiplication: ', a * b)\n",
    "    print ('division:', a / b)\n",
    "    print('Modulus: ', a % b)\n"
   ]
  },
  {
   "cell_type": "code",
   "execution_count": 27,
   "metadata": {},
   "outputs": [
    {
     "name": "stdout",
     "output_type": "stream",
     "text": [
      "enter a number:100\n",
      "enter a number:0\n",
      "addition: 100\n",
      "substraction:  100\n",
      "multiplication:  0\n"
     ]
    },
    {
     "ename": "ZeroDivisionError",
     "evalue": "division by zero",
     "output_type": "error",
     "traceback": [
      "\u001b[1;31m---------------------------------------------------------------------------\u001b[0m",
      "\u001b[1;31mZeroDivisionError\u001b[0m                         Traceback (most recent call last)",
      "\u001b[1;32m<ipython-input-27-14d19a0305e2>\u001b[0m in \u001b[0;36m<module>\u001b[1;34m\u001b[0m\n\u001b[1;32m----> 1\u001b[1;33m \u001b[0mcalculation\u001b[0m\u001b[1;33m(\u001b[0m\u001b[1;33m)\u001b[0m\u001b[1;33m\u001b[0m\u001b[1;33m\u001b[0m\u001b[0m\n\u001b[0m",
      "\u001b[1;32m<ipython-input-25-a4728b5dfa77>\u001b[0m in \u001b[0;36mcalculation\u001b[1;34m()\u001b[0m\n\u001b[0;32m      5\u001b[0m     \u001b[0mprint\u001b[0m\u001b[1;33m(\u001b[0m\u001b[1;34m'substraction: '\u001b[0m\u001b[1;33m,\u001b[0m \u001b[0ma\u001b[0m \u001b[1;33m-\u001b[0m \u001b[0mb\u001b[0m\u001b[1;33m)\u001b[0m\u001b[1;33m\u001b[0m\u001b[1;33m\u001b[0m\u001b[0m\n\u001b[0;32m      6\u001b[0m     \u001b[0mprint\u001b[0m\u001b[1;33m(\u001b[0m\u001b[1;34m'multiplication: '\u001b[0m\u001b[1;33m,\u001b[0m \u001b[0ma\u001b[0m \u001b[1;33m*\u001b[0m \u001b[0mb\u001b[0m\u001b[1;33m)\u001b[0m\u001b[1;33m\u001b[0m\u001b[1;33m\u001b[0m\u001b[0m\n\u001b[1;32m----> 7\u001b[1;33m     \u001b[0mprint\u001b[0m \u001b[1;33m(\u001b[0m\u001b[1;34m'division:'\u001b[0m\u001b[1;33m,\u001b[0m \u001b[0ma\u001b[0m \u001b[1;33m/\u001b[0m \u001b[0mb\u001b[0m\u001b[1;33m)\u001b[0m\u001b[1;33m\u001b[0m\u001b[1;33m\u001b[0m\u001b[0m\n\u001b[0m\u001b[0;32m      8\u001b[0m     \u001b[0mprint\u001b[0m\u001b[1;33m(\u001b[0m\u001b[1;34m'Modulus: '\u001b[0m\u001b[1;33m,\u001b[0m \u001b[0ma\u001b[0m \u001b[1;33m%\u001b[0m \u001b[0mb\u001b[0m\u001b[1;33m)\u001b[0m\u001b[1;33m\u001b[0m\u001b[1;33m\u001b[0m\u001b[0m\n",
      "\u001b[1;31mZeroDivisionError\u001b[0m: division by zero"
     ]
    }
   ],
   "source": [
    "calculation()"
   ]
  },
  {
   "cell_type": "code",
   "execution_count": 28,
   "metadata": {},
   "outputs": [],
   "source": [
    "# stack frame "
   ]
  },
  {
   "cell_type": "code",
   "execution_count": null,
   "metadata": {},
   "outputs": [],
   "source": [
    "def calculation(x,y):\n",
    "    print('addition:', x + y)\n",
    "    print('substraction: ', x - y)\n",
    "    print('multiplication: ', x * y)\n",
    "    print ('division:', x / y)\n",
    "    print('Modulus: ', x % y)\n",
    "\n",
    "a = int(input(\"enter a number:\"))\n",
    "b = int(input(\"enter a number:\"))\n",
    "calculation(a, b)\n"
   ]
  },
  {
   "cell_type": "code",
   "execution_count": 31,
   "metadata": {},
   "outputs": [
    {
     "name": "stdout",
     "output_type": "stream",
     "text": [
      "addition: 30\n",
      "substraction:  -10\n",
      "multiplication:  200\n",
      "division: 0.5\n",
      "Modulus:  10\n"
     ]
    }
   ],
   "source": [
    "calculation(10,20)"
   ]
  },
  {
   "cell_type": "code",
   "execution_count": 4,
   "metadata": {},
   "outputs": [
    {
     "name": "stdout",
     "output_type": "stream",
     "text": [
      "enter a number:2\n",
      "enter a number2\n",
      "Res is: 4\n"
     ]
    }
   ],
   "source": [
    "def sume(a,b):\n",
    "    res = a+b\n",
    "    return res # a keyword for two action a) exit from func b) output for the func\n",
    "    print('after exit')\n",
    "a = int(input(\"enter a number:\"))\n",
    "b = int(input('enter a number'))\n",
    "result = sume(a,b)\n",
    "print('Res is:', result)"
   ]
  },
  {
   "cell_type": "code",
   "execution_count": 3,
   "metadata": {},
   "outputs": [
    {
     "data": {
      "text/plain": [
       "5"
      ]
     },
     "execution_count": 3,
     "metadata": {},
     "output_type": "execute_result"
    }
   ],
   "source": [
    "sume(3,2)"
   ]
  },
  {
   "cell_type": "code",
   "execution_count": 2,
   "metadata": {},
   "outputs": [
    {
     "name": "stdout",
     "output_type": "stream",
     "text": [
      "enter a number:12\n",
      "enter a number12\n"
     ]
    }
   ],
   "source": [
    "def calculation(a, b):\n",
    "    add = a + b\n",
    "    sub = a - b\n",
    "    mul = a - b\n",
    "    return add, sub, mul \n",
    "a = int(input(\"enter a number:\"))\n",
    "b = int(input('enter a number'))"
   ]
  },
  {
   "cell_type": "code",
   "execution_count": 3,
   "metadata": {},
   "outputs": [
    {
     "data": {
      "text/plain": [
       "(24, 0, 0)"
      ]
     },
     "execution_count": 3,
     "metadata": {},
     "output_type": "execute_result"
    }
   ],
   "source": [
    "calculation(12,12)"
   ]
  },
  {
   "cell_type": "code",
   "execution_count": 4,
   "metadata": {},
   "outputs": [],
   "source": [
    "x, y, z = calculation(a,b)"
   ]
  },
  {
   "cell_type": "code",
   "execution_count": 5,
   "metadata": {},
   "outputs": [
    {
     "name": "stdout",
     "output_type": "stream",
     "text": [
      "addition is  24\n"
     ]
    }
   ],
   "source": [
    "print('addition is ', x)"
   ]
  },
  {
   "cell_type": "code",
   "execution_count": 6,
   "metadata": {},
   "outputs": [],
   "source": [
    "# Recursive Function"
   ]
  },
  {
   "cell_type": "code",
   "execution_count": 7,
   "metadata": {},
   "outputs": [
    {
     "name": "stdout",
     "output_type": "stream",
     "text": [
      "The factorial of 5 is 120\n"
     ]
    }
   ],
   "source": [
    "def calc_factorial(x):\n",
    "#   return (x * calc_factoria(x-1))\n",
    "    if x == 1:\n",
    "        return 1\n",
    "    else:\n",
    "        return (x * calc_factorial(x-1))\n",
    "num = 5\n",
    "fact = calc_factorial(num)\n",
    "print('The factorial of', num, 'is', fact)"
   ]
  },
  {
   "cell_type": "code",
   "execution_count": null,
   "metadata": {},
   "outputs": [],
   "source": []
  }
 ],
 "metadata": {
  "kernelspec": {
   "display_name": "Python 3",
   "language": "python",
   "name": "python3"
  },
  "language_info": {
   "codemirror_mode": {
    "name": "ipython",
    "version": 3
   },
   "file_extension": ".py",
   "mimetype": "text/x-python",
   "name": "python",
   "nbconvert_exporter": "python",
   "pygments_lexer": "ipython3",
   "version": "3.7.4"
  }
 },
 "nbformat": 4,
 "nbformat_minor": 2
}
