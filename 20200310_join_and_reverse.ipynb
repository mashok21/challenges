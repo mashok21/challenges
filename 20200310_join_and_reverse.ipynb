{
 "cells": [
  {
   "cell_type": "code",
   "execution_count": 5,
   "metadata": {},
   "outputs": [
    {
     "name": "stdout",
     "output_type": "stream",
     "text": [
      "1505, 1540, 1575, 1610, 1645, 1680, 1715, 1750, 1785, 1820, 1855, 1890, 1925, 1960, 1995, "
     ]
    }
   ],
   "source": [
    "for x in range(1500,2001):\n",
    "    if (x % 5 == 0) and (x % 7 == 0):\n",
    "        print(x, end = ', ')"
   ]
  },
  {
   "cell_type": "code",
   "execution_count": 22,
   "metadata": {},
   "outputs": [
    {
     "name": "stdout",
     "output_type": "stream",
     "text": [
      "1505, 1540, 1575, 1610, 1645, 1680, 1715, 1750, 1785, 1820, 1855, 1890, 1925, 1960, 1995, "
     ]
    }
   ],
   "source": [
    "for x in range(1500,2001):\n",
    "    if (x % 35 == 0):\n",
    "        print(x, end = ', ')"
   ]
  },
  {
   "cell_type": "code",
   "execution_count": 12,
   "metadata": {},
   "outputs": [
    {
     "data": {
      "text/plain": [
       "'Hi,ashok'"
      ]
     },
     "execution_count": 12,
     "metadata": {},
     "output_type": "execute_result"
    }
   ],
   "source": [
    "a = ['Hi', 'ashok']\n",
    "','.join(a)"
   ]
  },
  {
   "cell_type": "code",
   "execution_count": 10,
   "metadata": {},
   "outputs": [
    {
     "data": {
      "text/plain": [
       "'a,s,h,o,k'"
      ]
     },
     "execution_count": 10,
     "metadata": {},
     "output_type": "execute_result"
    }
   ],
   "source": [
    "a = 'ashok'\n",
    "','.join(a)"
   ]
  },
  {
   "cell_type": "code",
   "execution_count": 16,
   "metadata": {},
   "outputs": [],
   "source": [
    "a = {'a': 100, 'a': 200, 'b': 300, 'a': 400}"
   ]
  },
  {
   "cell_type": "code",
   "execution_count": 17,
   "metadata": {},
   "outputs": [
    {
     "data": {
      "text/plain": [
       "dict"
      ]
     },
     "execution_count": 17,
     "metadata": {},
     "output_type": "execute_result"
    }
   ],
   "source": [
    "type(a)"
   ]
  },
  {
   "cell_type": "code",
   "execution_count": 18,
   "metadata": {},
   "outputs": [
    {
     "data": {
      "text/plain": [
       "{'a': 400, 'b': 300}"
      ]
     },
     "execution_count": 18,
     "metadata": {},
     "output_type": "execute_result"
    }
   ],
   "source": [
    "a"
   ]
  },
  {
   "cell_type": "code",
   "execution_count": 19,
   "metadata": {},
   "outputs": [],
   "source": [
    "fruits = ['a', 'b']"
   ]
  },
  {
   "cell_type": "code",
   "execution_count": 20,
   "metadata": {},
   "outputs": [],
   "source": [
    "fruits.reverse()"
   ]
  },
  {
   "cell_type": "code",
   "execution_count": 21,
   "metadata": {},
   "outputs": [
    {
     "data": {
      "text/plain": [
       "['b', 'a']"
      ]
     },
     "execution_count": 21,
     "metadata": {},
     "output_type": "execute_result"
    }
   ],
   "source": [
    "fruits"
   ]
  },
  {
   "cell_type": "code",
   "execution_count": null,
   "metadata": {},
   "outputs": [],
   "source": [
    "x = input('for C to F press c or for F to C press F: ')\n",
    "y = float(input('enter the temp'))\n",
    "if x.upper() == 'C' :\n",
    "    fr = (y*9/5)+32\n",
    "    print(f'the temp in celcius is {fr:.2f}')\n",
    "elif x.upper() == 'F':\n",
    "    c = (y-32/9)*5\n",
    "    print(f'the temp in farenheit is {c:.2f}')\n"
   ]
  },
  {
   "cell_type": "code",
   "execution_count": 12,
   "metadata": {},
   "outputs": [
    {
     "name": "stdout",
     "output_type": "stream",
     "text": [
      "for C to F press c or for F to C press F: c\n",
      "enter the temp 60\n",
      "the temp in Farenheit is 140.00\n"
     ]
    }
   ],
   "source": [
    "x = input('for C to F press c or for F to C press F: ')\n",
    "y = float(input('enter the temp '))\n",
    "if x.upper() == 'C' :\n",
    "    fr = (y*9/5)+32\n",
    "    print(f'the temp in Farenheit is {fr:.2f}')\n",
    "elif x.upper() == 'F':\n",
    "    c = ((y-32)/9)*5\n",
    "    print(f'the temp in Celcius is {c:.2f}')\n"
   ]
  },
  {
   "cell_type": "code",
   "execution_count": 3,
   "metadata": {},
   "outputs": [
    {
     "name": "stdout",
     "output_type": "stream",
     "text": [
      "enter a word byte\n",
      "etyb\n"
     ]
    }
   ],
   "source": [
    "word = input('enter a word ')\n",
    "reverse_word = word[::-1]\n",
    "print(reverse_word)"
   ]
  },
  {
   "cell_type": "code",
   "execution_count": 22,
   "metadata": {},
   "outputs": [
    {
     "name": "stdout",
     "output_type": "stream",
     "text": [
      "Enter a number --- = 10\n",
      "Guess again. You have 9 attempts left :)\n",
      "\n",
      "Enter a number--- > 12\n",
      "Guess again. You have 8 attempts left :)\n",
      "\n",
      "Enter a number--- > 16\n",
      "Guess again. You have 7 attempts left :)\n",
      "\n",
      "Enter a number--- > 17\n",
      "Guess again. You have 6 attempts left :)\n",
      "\n",
      "Enter a number--- > 1\n",
      "Guess again. You have 5 attempts left :)\n",
      "\n",
      "Enter a number--- > 2\n",
      "Guess again. You have 4 attempts left :)\n",
      "\n",
      "Enter a number--- > 3\n",
      "\n",
      "Awesome Job!!\n"
     ]
    }
   ],
   "source": [
    "import random\n",
    "guess = random.randint(0,20)\n",
    "x = int(input('Enter a number --- = '))\n",
    "count = 0\n",
    "while x != guess:\n",
    "    if count < 8:\n",
    "        count += 1\n",
    "        print('Guess again. You have', 10-count, 'attempts left :)' )\n",
    "        x = int(input('\\nEnter a number--- > '))\n",
    "        pass\n",
    "    elif count == 8:\n",
    "        count += 1\n",
    "        print('Guess again.', count, 'attempts over. ', 'Your last chance!')\n",
    "        x = int(input('\\nEnter a number--- > '))\n",
    "        pass\n",
    "    elif count == 9:\n",
    "        count += 1\n",
    "        print('\\nStopping game now :( ', 'Total attempts: --- > ', count,'.', 'Better luck next time :) ')\n",
    "        break\n",
    "else:\n",
    "        print('\\nAwesome Job!!')\n",
    "        \n",
    "    "
   ]
  },
  {
   "cell_type": "code",
   "execution_count": null,
   "metadata": {},
   "outputs": [],
   "source": []
  }
 ],
 "metadata": {
  "kernelspec": {
   "display_name": "Python 3",
   "language": "python",
   "name": "python3"
  },
  "language_info": {
   "codemirror_mode": {
    "name": "ipython",
    "version": 3
   },
   "file_extension": ".py",
   "mimetype": "text/x-python",
   "name": "python",
   "nbconvert_exporter": "python",
   "pygments_lexer": "ipython3",
   "version": "3.7.4"
  }
 },
 "nbformat": 4,
 "nbformat_minor": 2
}
