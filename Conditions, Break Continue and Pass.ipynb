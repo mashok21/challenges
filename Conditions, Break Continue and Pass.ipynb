{
 "cells": [
  {
   "cell_type": "markdown",
   "metadata": {},
   "source": [
    "## 1. If conditions"
   ]
  },
  {
   "cell_type": "markdown",
   "metadata": {},
   "source": [
    "Python Conditions and If statements\n",
    "\n",
    "Python supports the usual comparision conditions from mathematics:\n",
    "\n",
    "    Equals: a == b\n",
    "\n",
    "    Not Equals: a != b\n",
    "\n",
    "    Less than: a < b\n",
    "\n",
    "    Less than or equal to: a <= b\n",
    "\n",
    "    Greater than: a > b\n",
    "\n",
    "    Greater than or equal to: a >= b\n",
    "\n",
    "    These conditions can be used in several ways, most commonly in \"if statements\" and loops.\n",
    "\n",
    "    An \"if statement\" is written by using the if keyword."
   ]
  },
  {
   "cell_type": "code",
   "execution_count": 1,
   "metadata": {},
   "outputs": [
    {
     "data": {
      "text/plain": [
       "'Syntax'"
      ]
     },
     "execution_count": 1,
     "metadata": {},
     "output_type": "execute_result"
    }
   ],
   "source": [
    "'Syntax'\n",
    "\n",
    "# if condition:\n",
    "#     statements to be executed\n",
    "# else:\n",
    "#     statements to be executed"
   ]
  },
  {
   "cell_type": "code",
   "execution_count": 2,
   "metadata": {},
   "outputs": [
    {
     "name": "stdout",
     "output_type": "stream",
     "text": [
      "hello\n",
      "\n"
     ]
    }
   ],
   "source": [
    "'Basic example'\n",
    "\n",
    "if 1>5:\n",
    "    print('hi')\n",
    "else:\n",
    "    print('hello')\n",
    "print()"
   ]
  },
  {
   "cell_type": "code",
   "execution_count": 46,
   "metadata": {},
   "outputs": [
    {
     "name": "stdout",
     "output_type": "stream",
     "text": [
      "enter first number 4\n",
      "enter second number 4\n",
      "4 is equal to 4\n"
     ]
    }
   ],
   "source": [
    "'''input 2 numbers from the user and print out the greater'''\n",
    "\n",
    "a = int(input(\"enter first number \"))\n",
    "b = int(input(\"enter second number \"))\n",
    "\n",
    "if (a>b):\n",
    "    print(f\"{a} is greater\")\n",
    "    \n",
    "elif (b>a):\n",
    "    print(f\"{b} is greater\")\n",
    "    \n",
    "else:\n",
    "    print(f\"{a} is equal to {b}\")"
   ]
  },
  {
   "cell_type": "code",
   "execution_count": 48,
   "metadata": {},
   "outputs": [
    {
     "name": "stdout",
     "output_type": "stream",
     "text": [
      "my name is vivek\n"
     ]
    }
   ],
   "source": [
    "a=\"vivek\"\n",
    "print(f\"my name is {a}\")"
   ]
  },
  {
   "cell_type": "code",
   "execution_count": 49,
   "metadata": {},
   "outputs": [
    {
     "name": "stdout",
     "output_type": "stream",
     "text": [
      "b is equal to a\n"
     ]
    }
   ],
   "source": [
    "'''if there is only one statement to be executed,\n",
    "the if condition and statement can be written in the same line.'''\n",
    "\n",
    "a = 4\n",
    "b = 4\n",
    "\n",
    "if a>b: print(\"a is greater than b\")\n",
    "    \n",
    "elif b>a: print('b greater than a')\n",
    "    \n",
    "else: print('b is equal to a')"
   ]
  },
  {
   "cell_type": "code",
   "execution_count": 50,
   "metadata": {},
   "outputs": [
    {
     "name": "stdout",
     "output_type": "stream",
     "text": [
      "enter 1st number 5\n",
      "enter 2nd number 3\n",
      "enter 3rd number 2\n",
      "the greatest number is : 5\n"
     ]
    }
   ],
   "source": [
    "'''Input three numbers from the user and print out the greatest number'''\n",
    "\n",
    "a = int(input(\"enter 1st number \"))\n",
    "b = int(input('enter 2nd number '))\n",
    "c = int(input('enter 3rd number '))\n",
    "# x = True\n",
    "\n",
    "\n",
    "if a>b and a>c:\n",
    "    print(\"the greatest number is :\", a)\n",
    "#     if x==True:\n",
    "#         print('x is true')\n",
    "#     else:\n",
    "#         print('x is false')\n",
    "\n",
    "elif b>a and b>c:\n",
    "    print(\"the greatest number is :\", b)\n",
    "\n",
    "elif c>a and c>b:\n",
    "    print(\"the greatest number is :\", c)\n",
    "\n",
    "elif a==b==c:\n",
    "    print('All are equal')\n",
    "       \n",
    "elif a==b or b==c or a==c:\n",
    "    print('Two numbers are equal')"
   ]
  },
  {
   "cell_type": "code",
   "execution_count": 64,
   "metadata": {},
   "outputs": [
    {
     "name": "stdout",
     "output_type": "stream",
     "text": [
      "element present in list\n",
      "false\n"
     ]
    }
   ],
   "source": [
    "'if else for collection datatypes'\n",
    "\n",
    "l = [1,2,3,4,10]\n",
    "e = 2\n",
    "\n",
    "if e in l:\n",
    "    print('element present in list')\n",
    "else:\n",
    "    print('element not present in list')\n",
    "\n",
    "\n",
    "d = {10:1,2:20 ,'g':[2,5]}\n",
    "\n",
    "if e in d.values():\n",
    "    print('True')\n",
    "else:\n",
    "    print(\"false\")"
   ]
  },
  {
   "cell_type": "markdown",
   "metadata": {},
   "source": [
    "## 2. While Loops\n",
    "    With the while loop we can execute a set of statements as long as a condition is true."
   ]
  },
  {
   "cell_type": "code",
   "execution_count": 79,
   "metadata": {},
   "outputs": [
    {
     "name": "stdout",
     "output_type": "stream",
     "text": [
      "hi hi hi hi hi hi "
     ]
    }
   ],
   "source": [
    "'''print hi 5 times'''\n",
    "\n",
    "num = 1\n",
    "while num<=6:\n",
    "    print('hi', end = ' ')\n",
    "    num = num + 1"
   ]
  },
  {
   "cell_type": "code",
   "execution_count": 80,
   "metadata": {},
   "outputs": [
    {
     "name": "stdout",
     "output_type": "stream",
     "text": [
      "5 6 7 8 9 10 11 12 13 14 15 16 17 18 19 20 21 22 23 24 25 26 27 28 29 30 31 32 33 34 35 36 37 38 39 40 "
     ]
    }
   ],
   "source": [
    "'''print integers from 0 to 40'''\n",
    "\n",
    "num = 5\n",
    "while (num<41):\n",
    "    print(num, end = ' ')\n",
    "    num = num+1"
   ]
  },
  {
   "cell_type": "code",
   "execution_count": 95,
   "metadata": {},
   "outputs": [
    {
     "name": "stdout",
     "output_type": "stream",
     "text": [
      "0 5 10 15 20 25 30 35 40 45 50 55 60 65 70 75 80 85 90 95 "
     ]
    }
   ],
   "source": [
    "'''print integers divisible by 5 between 1 to 100'''\n",
    "\n",
    "num = 0\n",
    "while (num<100):\n",
    "    if num%5==0:\n",
    "        print(num, end = ' ')\n",
    "    else:\n",
    "        pass\n",
    "    num = num+1\n",
    "    "
   ]
  },
  {
   "cell_type": "code",
   "execution_count": 96,
   "metadata": {},
   "outputs": [
    {
     "name": "stdout",
     "output_type": "stream",
     "text": [
      "0 1 4 9 16 25 36 49 64 81 100 "
     ]
    }
   ],
   "source": [
    "'''print squares of integers between 0 to 10'''\n",
    "\n",
    "x = 0\n",
    "while (x<=10):\n",
    "    print(x**2, end=' ')\n",
    "    x = x + 1"
   ]
  },
  {
   "cell_type": "code",
   "execution_count": 99,
   "metadata": {},
   "outputs": [
    {
     "name": "stdout",
     "output_type": "stream",
     "text": [
      "100 95 90 85 80 75 70 65 60 55 50 45 40 35 30 25 20 15 10 5 0 "
     ]
    }
   ],
   "source": [
    "'''print integers from 100 to 0 which are divisible by 5.\n",
    "# decrement in while loop'''\n",
    "\n",
    "num = 100\n",
    "while (num>=0):\n",
    "    print(num, end=' ')\n",
    "    num = num - 5"
   ]
  },
  {
   "cell_type": "code",
   "execution_count": 101,
   "metadata": {},
   "outputs": [
    {
     "name": "stdout",
     "output_type": "stream",
     "text": [
      "0 1 2 3 4 5 \n",
      "exit value: 6\n"
     ]
    }
   ],
   "source": [
    "'''check exit value of iterator'''\n",
    "count=0\n",
    "while(count <= 5):\n",
    "    print(count, end=' ')\n",
    "    count = count + 1\n",
    "    \n",
    "print(\"\\nexit value:\", count)"
   ]
  },
  {
   "cell_type": "code",
   "execution_count": 8,
   "metadata": {},
   "outputs": [
    {
     "name": "stdout",
     "output_type": "stream",
     "text": [
      "[20, 30, 10, 40]\n",
      "[20, 30, 10]\n",
      "[20, 30]\n"
     ]
    }
   ],
   "source": [
    "'''keep popping items from list till element e=10 is popped.\n",
    "list = [20, 30, 10, 40, 50]'''\n",
    "\n",
    "l = [20,30,10,40,50]\n",
    "e = 10\n",
    "while e in l:\n",
    "    l.pop() \n",
    "    print(l)"
   ]
  },
  {
   "cell_type": "code",
   "execution_count": 9,
   "metadata": {},
   "outputs": [
    {
     "name": "stdout",
     "output_type": "stream",
     "text": [
      "I like  katrina\n",
      "I like  karina\n",
      "I like  deepika\n",
      "I like  ranvir\n"
     ]
    }
   ],
   "source": [
    "'''looping through collective datatypes'''\n",
    "actor_names = ['katrina', 'karina', 'deepika', 'ranvir']\n",
    "\n",
    "# print(actor_names[0])\n",
    "\n",
    "num = 0\n",
    "while num<len(actor_names):\n",
    "    print(\"I like \", actor_names[num])\n",
    "    num = num + 1"
   ]
  },
  {
   "cell_type": "markdown",
   "metadata": {},
   "source": [
    "## 3. For Loops\n",
    "    A for loop is used for iterating over a sequence (that is either a list, a tuple, a dictionary, a set, or a string).\n",
    "    \n",
    "    This is less like the for keyword in other programming languages, \n",
    "    and works more like an iterator method as found in other object-orientated programming languages.\n",
    "\n",
    "    With the for loop we can execute a set of statements, once for each item in a list, tuple, set etc."
   ]
  },
  {
   "cell_type": "code",
   "execution_count": 104,
   "metadata": {},
   "outputs": [
    {
     "name": "stdout",
     "output_type": "stream",
     "text": [
      "0 1 2 3 4 "
     ]
    }
   ],
   "source": [
    "for i in range(5):\n",
    "    print(i, end=' ')"
   ]
  },
  {
   "cell_type": "code",
   "execution_count": 11,
   "metadata": {},
   "outputs": [
    {
     "name": "stdout",
     "output_type": "stream",
     "text": [
      "hi 0 hi 1 hi 2 hi 3 hi 4 "
     ]
    }
   ],
   "source": [
    "for num in range(5):\n",
    "    print(\"hi\", num, end=' ')"
   ]
  },
  {
   "cell_type": "code",
   "execution_count": 105,
   "metadata": {},
   "outputs": [
    {
     "name": "stdout",
     "output_type": "stream",
     "text": [
      "3 6 9 "
     ]
    }
   ],
   "source": [
    "a = [1,2,3,4,5,6,7,8,9,10]\n",
    "\n",
    "for i in range(len(a)):    # >> means for i in range(10):\n",
    "    if a[i]%3==0:\n",
    "        print(a[i], end = ' ')\n",
    "        \n",
    "# for i in a:\n",
    "#     if i%3==0:\n",
    "#         print(i, end=' ')"
   ]
  },
  {
   "cell_type": "code",
   "execution_count": 112,
   "metadata": {},
   "outputs": [
    {
     "name": "stdout",
     "output_type": "stream",
     "text": [
      "vivek hi "
     ]
    }
   ],
   "source": [
    "a = ['vivek',\"hi\"]\n",
    "for j in range (len(a)):\n",
    "    print(a[j], end=' ')"
   ]
  },
  {
   "cell_type": "code",
   "execution_count": 114,
   "metadata": {},
   "outputs": [
    {
     "name": "stdout",
     "output_type": "stream",
     "text": [
      "100 98 96 94 92 90 88 86 84 82 80 78 76 74 72 70 68 66 64 62 60 58 56 54 52 50 48 46 44 42 40 38 36 34 32 30 28 26 24 22 20 18 16 14 12 10 8 6 4 2 "
     ]
    }
   ],
   "source": [
    "for i in range(100, 0, -2): #[100:0:-2]\n",
    "    print(i, end=' ')"
   ]
  },
  {
   "cell_type": "code",
   "execution_count": 16,
   "metadata": {},
   "outputs": [
    {
     "name": "stdout",
     "output_type": "stream",
     "text": [
      "100 95 90 85 80 75 70 65 60 55 50 45 40 35 30 25 20 15 10 5 "
     ]
    }
   ],
   "source": [
    "for i in range(100, 0, -5):\n",
    "    print(i, end=' ')"
   ]
  },
  {
   "cell_type": "code",
   "execution_count": 117,
   "metadata": {},
   "outputs": [
    {
     "name": "stdout",
     "output_type": "stream",
     "text": [
      "10\n",
      "20\n"
     ]
    }
   ],
   "source": [
    "l = [1,2,3,4,5,6,7]\n",
    "x = l[0:5]\n",
    "x\n",
    "d = {1:10, 2:20}\n",
    "for i in d.values():\n",
    "    print(i)"
   ]
  },
  {
   "cell_type": "code",
   "execution_count": 18,
   "metadata": {},
   "outputs": [
    {
     "name": "stdout",
     "output_type": "stream",
     "text": [
      "12, 11, 10, 9, 8, 7, 6, 5, 4, 3, 2, 1, "
     ]
    }
   ],
   "source": [
    "# range - step\n",
    "\n",
    "for i in range(12, 0, -1):\n",
    "    print(i, end=', ')"
   ]
  },
  {
   "cell_type": "code",
   "execution_count": 19,
   "metadata": {},
   "outputs": [
    {
     "name": "stdout",
     "output_type": "stream",
     "text": [
      "0 1 4 9 16 25 36 49 64 81 100 "
     ]
    }
   ],
   "source": [
    "'''print the squares of numbers from 0 to 10'''\n",
    "\n",
    "for i in range(11):\n",
    "    print(i**2, end=' ')"
   ]
  },
  {
   "cell_type": "code",
   "execution_count": 20,
   "metadata": {},
   "outputs": [
    {
     "name": "stdout",
     "output_type": "stream",
     "text": [
      "1  is odd\n",
      "2  is even\n",
      "3  is odd\n",
      "4  is even\n",
      "5  is odd\n",
      "6  is even\n",
      "7  is odd\n",
      "8  is even\n",
      "9  is odd\n",
      "10  is even\n"
     ]
    }
   ],
   "source": [
    "'print even and odd numbers from 1 to 10'\n",
    "\n",
    "for i in range(1, 11):\n",
    "    if i%2==0:\n",
    "        print(i,\" is even\")\n",
    "    else:\n",
    "        print(i,\" is odd\")"
   ]
  },
  {
   "cell_type": "code",
   "execution_count": 21,
   "metadata": {},
   "outputs": [
    {
     "data": {
      "text/plain": [
       "[1, 4, 9, 16, 25, 36, 49, 64, 81, 100]"
      ]
     },
     "execution_count": 21,
     "metadata": {},
     "output_type": "execute_result"
    }
   ],
   "source": [
    "# List Comprehension\n",
    "\n",
    "sqlist=[]\n",
    "for x in range(1,11):\n",
    "    sqlist.append(x*x)\n",
    "\n",
    "sqlist"
   ]
  },
  {
   "cell_type": "code",
   "execution_count": 22,
   "metadata": {},
   "outputs": [
    {
     "data": {
      "text/plain": [
       "[1, 4, 9, 16, 25, 36, 49, 64, 81, 100]"
      ]
     },
     "execution_count": 22,
     "metadata": {},
     "output_type": "execute_result"
    }
   ],
   "source": [
    "sqlist = [x*x for x in range(1,11)]\n",
    "sqlist"
   ]
  },
  {
   "cell_type": "code",
   "execution_count": 23,
   "metadata": {},
   "outputs": [
    {
     "name": "stdout",
     "output_type": "stream",
     "text": [
      "I like katrina\n",
      "I like Karina\n",
      "I like deepika\n",
      "I like ranvir\n",
      "\n",
      "\n",
      "I like katrina\n",
      "I like Karina\n",
      "I like deepika\n",
      "I like ranvir\n"
     ]
    }
   ],
   "source": [
    "# looping through collective datatypes\n",
    "\n",
    "names = ['katrina','Karina','deepika','ranvir']\n",
    "\n",
    "# d = {1:'aditya', 2:'Ahad'}\n",
    "\n",
    "for x in range(len(names)):\n",
    "    print(\"I like\", names[x])\n",
    "    \n",
    "print('\\n')    \n",
    "for x in names:\n",
    "    print(\"I like\", x)"
   ]
  },
  {
   "cell_type": "code",
   "execution_count": 24,
   "metadata": {},
   "outputs": [
    {
     "name": "stdout",
     "output_type": "stream",
     "text": [
      "ariya2\n",
      "x-men\n",
      "KGF\n"
     ]
    }
   ],
   "source": [
    "movies=[\"ariya2\",\"x-men\",\"KGF\"]\n",
    "for x in movies:\n",
    "    print(x)"
   ]
  },
  {
   "cell_type": "markdown",
   "metadata": {},
   "source": [
    "#### Usage of for loops in strings"
   ]
  },
  {
   "cell_type": "code",
   "execution_count": 25,
   "metadata": {},
   "outputs": [
    {
     "name": "stdout",
     "output_type": "stream",
     "text": [
      "a\n",
      "r\n",
      "i\n",
      "y\n",
      "a\n"
     ]
    }
   ],
   "source": [
    "s = \"ariya\"\n",
    "\n",
    "for x in s:\n",
    "    print(x)"
   ]
  },
  {
   "cell_type": "code",
   "execution_count": 26,
   "metadata": {},
   "outputs": [
    {
     "name": "stdout",
     "output_type": "stream",
     "text": [
      "yes no no yes no no yes "
     ]
    }
   ],
   "source": [
    "s = \"1001001\"\n",
    "\n",
    "for i in s:\n",
    "    if i == \"1\":\n",
    "        print(\"yes\", end=' ')\n",
    "    else:\n",
    "        print('no', end=' ')"
   ]
  },
  {
   "cell_type": "code",
   "execution_count": 141,
   "metadata": {},
   "outputs": [
    {
     "name": "stdout",
     "output_type": "stream",
     "text": [
      "3\n"
     ]
    }
   ],
   "source": [
    "y = [\"abhishek\",\"veeresh\",\"kamalesh\",\"rudresh\",\"vivek\",\"aditya\"]\n",
    "count=0\n",
    "for x in y:\n",
    "     if x[-1] == 'h':\n",
    "        count += 1\n",
    "print(count)\n",
    "# print(y[1][-2])"
   ]
  },
  {
   "cell_type": "code",
   "execution_count": 1,
   "metadata": {},
   "outputs": [
    {
     "name": "stdout",
     "output_type": "stream",
     "text": [
      "vivek\n",
      "aditya\n",
      "ashwin\n"
     ]
    }
   ],
   "source": [
    "y = ['vivek','aditya','ashwin']\n",
    "for x in y:\n",
    "    print(x)"
   ]
  },
  {
   "cell_type": "code",
   "execution_count": 2,
   "metadata": {},
   "outputs": [
    {
     "name": "stdout",
     "output_type": "stream",
     "text": [
      "vivek\n",
      "aditya\n",
      "ashwin\n"
     ]
    }
   ],
   "source": [
    "y = ['vivek','aditya','ashwin']\n",
    "for x in y:\n",
    "    print(x)"
   ]
  },
  {
   "cell_type": "markdown",
   "metadata": {},
   "source": [
    "## Break, continue and pass"
   ]
  },
  {
   "cell_type": "code",
   "execution_count": 5,
   "metadata": {},
   "outputs": [
    {
     "name": "stdout",
     "output_type": "stream",
     "text": [
      "a s h w i n "
     ]
    }
   ],
   "source": [
    "# Break Usage:\n",
    "\n",
    "for i in \"ashwin_kumar\":\n",
    "    if i=='_':\n",
    "        break\n",
    "    print(i, end=' ')"
   ]
  },
  {
   "cell_type": "code",
   "execution_count": 36,
   "metadata": {},
   "outputs": [
    {
     "name": "stdout",
     "output_type": "stream",
     "text": [
      "1 1 1 1 1 "
     ]
    }
   ],
   "source": [
    "# continue Usage:\n",
    "\n",
    "for i in \"1000100010001001\":\n",
    "    if i =='0':\n",
    "        continue\n",
    "    print(i, end=' ')"
   ]
  },
  {
   "cell_type": "code",
   "execution_count": 38,
   "metadata": {},
   "outputs": [
    {
     "name": "stdout",
     "output_type": "stream",
     "text": [
      "a s h w i n _ k u m a r "
     ]
    }
   ],
   "source": [
    "# pass\n",
    "\n",
    "for i in \"ashwin_kumar\":\n",
    "    if i=='k':\n",
    "        pass\n",
    "    print(i, end=' ')"
   ]
  },
  {
   "cell_type": "code",
   "execution_count": null,
   "metadata": {},
   "outputs": [],
   "source": []
  },
  {
   "cell_type": "markdown",
   "metadata": {},
   "source": [
    "###### '''#2. Write a Python program to find those numbers which are divisible by 7 and multiple of 5,\n",
    "between 1500 and 2000 (both included).'''"
   ]
  },
  {
   "cell_type": "code",
   "execution_count": 40,
   "metadata": {},
   "outputs": [
    {
     "name": "stdout",
     "output_type": "stream",
     "text": [
      "1505, 1540, 1575, 1610, 1645, 1680, 1715, 1750, 1785, 1820, 1855, 1890, 1925, 1960, 1995, "
     ]
    }
   ],
   "source": [
    "for x in range(1500, 2001):\n",
    "    if (x%7==0) and (x%5==0):\n",
    "        print(x, end=', ')"
   ]
  },
  {
   "cell_type": "code",
   "execution_count": 11,
   "metadata": {},
   "outputs": [
    {
     "name": "stdout",
     "output_type": "stream",
     "text": [
      "vivek hi\n"
     ]
    }
   ],
   "source": [
    "# print('A: ', a)\n",
    "# print('B: ', b)\n",
    "A = [\"vivek\",\"hi\"]\n",
    "x = ' '.join(A)\n",
    "print(x)\n",
    "# print(', '.join(a))\n",
    "# joining the elements of the list wit a ,(comma)"
   ]
  },
  {
   "cell_type": "code",
   "execution_count": null,
   "metadata": {},
   "outputs": [],
   "source": [
    "#  Write a Python program to convert temperatures to and from celsius, fahrenheit.\n",
    "# [ Formula : c/5 = (f-32)/9 [ where c = temperature in celsius and f = temperature in fahrenheit ]\n",
    "# Expected Output :\n",
    "# 60°C is 140 in Fahrenheit\n",
    "# 45°F is 7 in Celsius\n",
    "x = input(\"c to F press C and F to C press F\")\n",
    "y = int(input(\"enter the temp\"))\n",
    "z = 0\n",
    "if x == 'F':\n",
    "    z = int((((y-32)/9)*5))\n",
    "    print(\"the temp in C is\",z)\n",
    "elif x == 'C':\n",
    "     z=((y/5)*9)+32\n",
    "     print(\"the temp in F is\",z)\n",
    "        \n"
   ]
  },
  {
   "cell_type": "code",
   "execution_count": 2,
   "metadata": {},
   "outputs": [
    {
     "name": "stdout",
     "output_type": "stream",
     "text": [
      "guess a number from 1 to 9 4\n",
      "guess a number from 1 to 9 1\n",
      "guess a number from 1 to 9 2\n",
      "guess a number from 1 to 9 0\n",
      "guess a number from 1 to 9 1\n",
      "guess a number from 1 to 9 2\n",
      "guess a number from 1 to 9 5\n",
      "well guessed!..\n"
     ]
    }
   ],
   "source": [
    "# 3. Write a Python program to guess a number between 1 to 9. Go to the editor\n",
    "# Note : User is prompted to enter a guess. If the user guesses wrong then the prompt appears again \n",
    "# until the guess is correct, on successful guess, user will get a \"Well guessed!\" message, and the program \n",
    "# will exit\n",
    "\n",
    "guess = 5\n",
    " \n",
    "\n",
    "for i in range(9):\n",
    "    x = int(input(\"guess a number from 1 to 9 \"))\n",
    "    if x == guess:\n",
    "        print(\"well guessed!..\")\n",
    "        break\n",
    "    else:\n",
    "        pass"
   ]
  },
  {
   "cell_type": "code",
   "execution_count": 3,
   "metadata": {},
   "outputs": [
    {
     "name": "stdout",
     "output_type": "stream",
     "text": [
      "enter a wordvivek\n"
     ]
    }
   ],
   "source": [
    "# 5. Write a Python program that accepts a word from the user and reverse it\n",
    "\n",
    "word = input(\"enter a word\")\n",
    "for i in range(0,len(word),-1):\n",
    "    print(word[i])\n",
    "\n",
    "# print(word.reverse())"
   ]
  },
  {
   "cell_type": "code",
   "execution_count": null,
   "metadata": {},
   "outputs": [],
   "source": []
  }
 ],
 "metadata": {
  "kernelspec": {
   "display_name": "Python 3",
   "language": "python",
   "name": "python3"
  },
  "language_info": {
   "codemirror_mode": {
    "name": "ipython",
    "version": 3
   },
   "file_extension": ".py",
   "mimetype": "text/x-python",
   "name": "python",
   "nbconvert_exporter": "python",
   "pygments_lexer": "ipython3",
   "version": "3.7.4"
  }
 },
 "nbformat": 4,
 "nbformat_minor": 2
}
