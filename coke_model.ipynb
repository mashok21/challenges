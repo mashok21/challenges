{
 "cells": [
  {
   "cell_type": "markdown",
   "metadata": {},
   "source": [
    "## A financial model to calculate value of \"The Coca Cola Company\" using the discounted cash flow method "
   ]
  },
  {
   "cell_type": "markdown",
   "metadata": {},
   "source": [
    "#### Importing the required libraries"
   ]
  },
  {
   "cell_type": "code",
   "execution_count": 1,
   "metadata": {},
   "outputs": [],
   "source": [
    "import numpy as np\n",
    "import pandas as pd"
   ]
  },
  {
   "cell_type": "markdown",
   "metadata": {},
   "source": [
    "#### Creating a Series called 'sales' to hold the sales data. Index set to years"
   ]
  },
  {
   "cell_type": "code",
   "execution_count": 2,
   "metadata": {},
   "outputs": [],
   "source": [
    "# defining the start year, years for projections and end year\n",
    "\n",
    "start_year      = 2019\n",
    "\n",
    "years_projected = 10\n",
    "\n",
    "end_year        = start_year + 10\n",
    "\n",
    "# generating years columns using list comprehension\n",
    "\n",
    "year            = [str(year)+'E' for year in range(start_year,end_year+1)]\n",
    "\n",
    "# distinguishing start year as actual data\n",
    "\n",
    "year[0]         = str(start_year) + 'A' "
   ]
  },
  {
   "cell_type": "code",
   "execution_count": 3,
   "metadata": {},
   "outputs": [],
   "source": [
    "# creating the first Series in the columnar data table\n",
    "\n",
    "sales   = pd.Series(index = year)"
   ]
  },
  {
   "cell_type": "code",
   "execution_count": 4,
   "metadata": {},
   "outputs": [],
   "source": [
    "# input variable, actual sales data from 2019 Annual Report ($ millions)\n",
    "\n",
    "sales['2019A'] = 37266 "
   ]
  },
  {
   "cell_type": "markdown",
   "metadata": {},
   "source": [
    "#### Generating the sales Series "
   ]
  },
  {
   "cell_type": "code",
   "execution_count": 5,
   "metadata": {},
   "outputs": [
    {
     "name": "stdout",
     "output_type": "stream",
     "text": [
      "2019A    37266.0\n",
      "2020E        NaN\n",
      "2021E        NaN\n",
      "2022E        NaN\n",
      "2023E        NaN\n",
      "2024E        NaN\n",
      "2025E        NaN\n",
      "2026E        NaN\n",
      "2027E        NaN\n",
      "2028E        NaN\n",
      "2029E        NaN\n",
      "dtype: float64\n"
     ]
    }
   ],
   "source": [
    "# sales projections. Future years show NaN as projections are yet to be made. \n",
    "\n",
    "print(sales)"
   ]
  },
  {
   "cell_type": "markdown",
   "metadata": {},
   "source": [
    "#### Assuming a constant growth rate, generating sales projection data for next 10 years using range function"
   ]
  },
  {
   "cell_type": "code",
   "execution_count": 6,
   "metadata": {},
   "outputs": [],
   "source": [
    "# Input Variable\n",
    "\n",
    "growth_rate = 0.03"
   ]
  },
  {
   "cell_type": "code",
   "execution_count": 7,
   "metadata": {},
   "outputs": [],
   "source": [
    "# using loop to generate sales projections\n",
    "\n",
    "for year in range(1,11):\n",
    "    \n",
    "    sales[year] = sales[year - 1] * (1 + growth_rate)"
   ]
  },
  {
   "cell_type": "code",
   "execution_count": 8,
   "metadata": {},
   "outputs": [
    {
     "name": "stdout",
     "output_type": "stream",
     "text": [
      "2019A    37266.000000\n",
      "2020E    38383.980000\n",
      "2021E    39535.499400\n",
      "2022E    40721.564382\n",
      "2023E    41943.211313\n",
      "2024E    43201.507653\n",
      "2025E    44497.552882\n",
      "2026E    45832.479469\n",
      "2027E    47207.453853\n",
      "2028E    48623.677469\n",
      "2029E    50082.387793\n",
      "dtype: float64\n"
     ]
    }
   ],
   "source": [
    "# a look at the sales Series data with projections\n",
    "\n",
    "print(sales)"
   ]
  },
  {
   "cell_type": "markdown",
   "metadata": {},
   "source": [
    "#### NOPAT: Arriving at Net Operating Profit after Taxes"
   ]
  },
  {
   "cell_type": "code",
   "execution_count": 9,
   "metadata": {},
   "outputs": [],
   "source": [
    "# input data, based on actual figures from 2019 Annual report\n",
    "\n",
    "ebitda_margin    = 0.30                                  \n",
    "\n",
    "depr_percent     = 0.03                                  \n",
    "\n",
    "tax_rate         = 0.17                                 "
   ]
  },
  {
   "cell_type": "code",
   "execution_count": 10,
   "metadata": {},
   "outputs": [],
   "source": [
    "# projecting major financial statement items\n",
    "\n",
    "ebitda           = sales * ebitda_margin\n",
    "\n",
    "depreciation     = sales * depr_percent\n",
    "\n",
    "ebit             = ebitda - depreciation\n",
    "\n",
    "tax_payment      = -ebit * tax_rate\n",
    "\n",
    "tax_payment      = tax_payment.apply(lambda x: min(x,0))"
   ]
  },
  {
   "cell_type": "code",
   "execution_count": 11,
   "metadata": {},
   "outputs": [],
   "source": [
    "# deriving NOPAT (Net Operating Profit after Tax)\n",
    "\n",
    "def nopat(e, t):\n",
    "    \n",
    "    n = e + t\n",
    "    \n",
    "    return n\n",
    "\n",
    "# calling and assigning the nopat function return value to a variable for easy access\n",
    "\n",
    "no_pat = nopat(ebit, tax_payment)\n"
   ]
  },
  {
   "cell_type": "markdown",
   "metadata": {},
   "source": [
    "#### Generating the nopat Series data"
   ]
  },
  {
   "cell_type": "code",
   "execution_count": 12,
   "metadata": {},
   "outputs": [
    {
     "name": "stdout",
     "output_type": "stream",
     "text": [
      "2019A     8351.310600\n",
      "2020E     8601.849918\n",
      "2021E     8859.905416\n",
      "2022E     9125.702578\n",
      "2023E     9399.473655\n",
      "2024E     9681.457865\n",
      "2025E     9971.901601\n",
      "2026E    10271.058649\n",
      "2027E    10579.190408\n",
      "2028E    10896.566121\n",
      "2029E    11223.463104\n",
      "dtype: float64\n"
     ]
    }
   ],
   "source": [
    "# calling function\n",
    "\n",
    "print(no_pat)"
   ]
  },
  {
   "cell_type": "markdown",
   "metadata": {},
   "source": [
    "#### Assumption regarding net working capital (nwc) and capex - required to arrive at free cash flow"
   ]
  },
  {
   "cell_type": "code",
   "execution_count": 13,
   "metadata": {},
   "outputs": [],
   "source": [
    "# input variable, actual data based on 2019 annual report.\n",
    "\n",
    "# nwc_percent = (current asset less current liabilities) / Sales\n",
    "\n",
    "# Actual working capital is negative for the company. Yet, we take a small postive figure here. \n",
    "\n",
    "nwc_percent     = 0.01    "
   ]
  },
  {
   "cell_type": "code",
   "execution_count": 14,
   "metadata": {},
   "outputs": [],
   "source": [
    "# deriving key data for net working capital, change in working capital and capex\n",
    "\n",
    "nwc             = sales * nwc_percent\n",
    "\n",
    "change_in_nwc   = nwc.shift(1) - nwc\n",
    "\n",
    "# assuming capital expenditure equals yearly depreciation\n",
    "\n",
    "capex_percent   = depr_percent"
   ]
  },
  {
   "cell_type": "code",
   "execution_count": 15,
   "metadata": {},
   "outputs": [],
   "source": [
    "# writing a function to calculate capex\n",
    "\n",
    "def capex():\n",
    "   \n",
    "    return -(sales * capex_percent)\n",
    "\n",
    "capital_expenditure = capex()"
   ]
  },
  {
   "cell_type": "markdown",
   "metadata": {},
   "source": [
    "#### Arriving at free cash flow "
   ]
  },
  {
   "cell_type": "code",
   "execution_count": 16,
   "metadata": {},
   "outputs": [],
   "source": [
    "# defining a function to calculate free cash flow\n",
    "\n",
    "# invoking a function inside a function\n",
    "\n",
    "def free_cash_flow(a = depreciation, b = change_in_nwc, c = no_pat, d = capital_expenditure):\n",
    "    \n",
    "    return a + b + c + d"
   ]
  },
  {
   "cell_type": "markdown",
   "metadata": {},
   "source": [
    "#### Generating the free cash flow data Series for projected years"
   ]
  },
  {
   "cell_type": "code",
   "execution_count": 17,
   "metadata": {},
   "outputs": [
    {
     "name": "stdout",
     "output_type": "stream",
     "text": [
      "2019A             NaN\n",
      "2020E     8590.670118\n",
      "2021E     8848.390222\n",
      "2022E     9113.841928\n",
      "2023E     9387.257186\n",
      "2024E     9668.874902\n",
      "2025E     9958.941149\n",
      "2026E    10257.709383\n",
      "2027E    10565.440665\n",
      "2028E    10882.403885\n",
      "2029E    11208.876001\n",
      "dtype: float64\n"
     ]
    }
   ],
   "source": [
    "# assigning the function return value to a variable for easy access\n",
    "\n",
    "fcf = free_cash_flow()\n",
    "\n",
    "# invoking the free cash flow function to generate the required series\n",
    "\n",
    "print(fcf)"
   ]
  },
  {
   "cell_type": "markdown",
   "metadata": {},
   "source": [
    "### Calculating beta in order to arrive at cost of equity using CAPM "
   ]
  },
  {
   "cell_type": "markdown",
   "metadata": {},
   "source": [
    "#### Importing the daily return stock (Coca Cola) and Dow market return data for last one year. Source Yahoo! finance"
   ]
  },
  {
   "cell_type": "code",
   "execution_count": 18,
   "metadata": {},
   "outputs": [],
   "source": [
    "df = pd.read_excel(\"beta.xlsx\")"
   ]
  },
  {
   "cell_type": "code",
   "execution_count": 19,
   "metadata": {},
   "outputs": [
    {
     "data": {
      "text/html": [
       "<div>\n",
       "<style scoped>\n",
       "    .dataframe tbody tr th:only-of-type {\n",
       "        vertical-align: middle;\n",
       "    }\n",
       "\n",
       "    .dataframe tbody tr th {\n",
       "        vertical-align: top;\n",
       "    }\n",
       "\n",
       "    .dataframe thead th {\n",
       "        text-align: right;\n",
       "    }\n",
       "</style>\n",
       "<table border=\"1\" class=\"dataframe\">\n",
       "  <thead>\n",
       "    <tr style=\"text-align: right;\">\n",
       "      <th></th>\n",
       "      <th>Coke</th>\n",
       "      <th>Dow</th>\n",
       "    </tr>\n",
       "  </thead>\n",
       "  <tbody>\n",
       "    <tr>\n",
       "      <td>0</td>\n",
       "      <td>-0.002201</td>\n",
       "      <td>0.002755</td>\n",
       "    </tr>\n",
       "    <tr>\n",
       "      <td>1</td>\n",
       "      <td>0.006801</td>\n",
       "      <td>0.008458</td>\n",
       "    </tr>\n",
       "    <tr>\n",
       "      <td>2</td>\n",
       "      <td>0.006208</td>\n",
       "      <td>0.001673</td>\n",
       "    </tr>\n",
       "    <tr>\n",
       "      <td>3</td>\n",
       "      <td>-0.008225</td>\n",
       "      <td>0.001364</td>\n",
       "    </tr>\n",
       "  </tbody>\n",
       "</table>\n",
       "</div>"
      ],
      "text/plain": [
       "       Coke       Dow\n",
       "0 -0.002201  0.002755\n",
       "1  0.006801  0.008458\n",
       "2  0.006208  0.001673\n",
       "3 -0.008225  0.001364"
      ]
     },
     "execution_count": 19,
     "metadata": {},
     "output_type": "execute_result"
    }
   ],
   "source": [
    "# a quick look at the sample of returns\n",
    "\n",
    "df.head(4) "
   ]
  },
  {
   "cell_type": "markdown",
   "metadata": {},
   "source": [
    "#### To calculate beta of the stock we need to cast the data into an numpy array"
   ]
  },
  {
   "cell_type": "code",
   "execution_count": 20,
   "metadata": {},
   "outputs": [],
   "source": [
    "# generating a numpy array using the dataframe value property\n",
    "\n",
    "np_array = df.values\n",
    "\n",
    "# assigning the second column to variable 'm'\n",
    "# the 1 represents second column in the array (market return)\n",
    "\n",
    "m = np_array[:,1]       \n",
    "\n",
    "# assigning the first column to variable 'n'\n",
    "# the 0 represents first column in the array (stock return)\n",
    "\n",
    "s = np_array[:,0]       "
   ]
  },
  {
   "cell_type": "markdown",
   "metadata": {},
   "source": [
    "#### Calculating beta using covariance formula"
   ]
  },
  {
   "cell_type": "code",
   "execution_count": 21,
   "metadata": {},
   "outputs": [
    {
     "name": "stdout",
     "output_type": "stream",
     "text": [
      "0.7482084608985896\n"
     ]
    }
   ],
   "source": [
    "# generating the covariance matrix for the two arrays - m and s\n",
    "\n",
    "covariance = np.cov(m,s)\n",
    "\n",
    "# calculating beta from the covariance matrix\n",
    "\n",
    "beta = covariance[1,0]/covariance[0,0]\n",
    "\n",
    "# output beta\n",
    "\n",
    "print(beta)"
   ]
  },
  {
   "cell_type": "markdown",
   "metadata": {},
   "source": [
    "#### Calculating cost of equity using CAPM formula"
   ]
  },
  {
   "cell_type": "code",
   "execution_count": 22,
   "metadata": {},
   "outputs": [],
   "source": [
    "# input variables, assumed long term return of the stock market\n",
    "\n",
    "market_return     = 0.06                                   \n",
    "\n",
    "# long term govt. bond rate assumed\n",
    "\n",
    "risk_free_rate    = 0.03                                   "
   ]
  },
  {
   "cell_type": "code",
   "execution_count": 23,
   "metadata": {},
   "outputs": [],
   "source": [
    "# Using CAPM formula, cost of equity = risk free return + risk premium x beta\n",
    "\n",
    "# risk premium = market return - risk free return\n",
    "\n",
    "def coe(m, r, b):\n",
    "    \n",
    "    premium           = m - r\n",
    "\n",
    "    cost_of_equity    = r + premium * b\n",
    "    \n",
    "    return cost_of_equity\n",
    "    "
   ]
  },
  {
   "cell_type": "code",
   "execution_count": 24,
   "metadata": {},
   "outputs": [
    {
     "name": "stdout",
     "output_type": "stream",
     "text": [
      "0.05244625382695769\n"
     ]
    }
   ],
   "source": [
    "# assigning coe function's return value to a variable\n",
    "\n",
    "cost_of_equity = coe(market_return, risk_free_rate, beta)\n",
    "\n",
    "# output by calling function\n",
    "\n",
    "print(cost_of_equity)"
   ]
  },
  {
   "cell_type": "markdown",
   "metadata": {},
   "source": [
    "#### Calculating the present value discount factors for projection years using list comprehension"
   ]
  },
  {
   "cell_type": "code",
   "execution_count": 25,
   "metadata": {},
   "outputs": [],
   "source": [
    "# using list comprehension\n",
    "\n",
    "discount_factors = [(1/(1+cost_of_equity))**i for i in range(1,11)]"
   ]
  },
  {
   "cell_type": "code",
   "execution_count": 26,
   "metadata": {},
   "outputs": [
    {
     "data": {
      "text/plain": [
       "[0.9501672853732436,\n",
       " 0.9028178701935589,\n",
       " 0.8578280049082673,\n",
       " 0.8150801067408338]"
      ]
     },
     "execution_count": 26,
     "metadata": {},
     "output_type": "execute_result"
    }
   ],
   "source": [
    "# generating the discount factors for first four projection years (sample)\n",
    "\n",
    "discount_factors[:4]   "
   ]
  },
  {
   "cell_type": "markdown",
   "metadata": {},
   "source": [
    "#### Calculating the terminal value and discounted cash flows"
   ]
  },
  {
   "cell_type": "code",
   "execution_count": 27,
   "metadata": {},
   "outputs": [],
   "source": [
    "# input variable, terminal year growth assumed\n",
    "\n",
    "terminal_growth = 0.02"
   ]
  },
  {
   "cell_type": "code",
   "execution_count": 28,
   "metadata": {},
   "outputs": [],
   "source": [
    "# calculating terminal value \n",
    "\n",
    "terminal_value = ((fcf[-1] * (1 + terminal_growth))/(cost_of_equity - terminal_growth))\n",
    "\n",
    "# calculating dcf value as the sum of discounted cash flows of projected years and terminal value discounted back to start year \n",
    "\n",
    "dcf_value      = (sum(fcf[1:] * discount_factors) + terminal_value * discount_factors[-1])"
   ]
  },
  {
   "cell_type": "code",
   "execution_count": 29,
   "metadata": {},
   "outputs": [
    {
     "name": "stdout",
     "output_type": "stream",
     "text": [
      "285569.20530573797\n"
     ]
    }
   ],
   "source": [
    "# output, the present value of future cash flows accruing to equity (in $ millions)\n",
    "\n",
    "print(dcf_value)"
   ]
  },
  {
   "cell_type": "markdown",
   "metadata": {},
   "source": [
    "#### Bringing it all together - completing full dataframe"
   ]
  },
  {
   "cell_type": "code",
   "execution_count": 30,
   "metadata": {},
   "outputs": [],
   "source": [
    "output = pd.DataFrame([sales, ebit, tax_payment, no_pat, \n",
    "                       depreciation, capital_expenditure, change_in_nwc,\n",
    "                       fcf],\n",
    "                    index=[\"Sales\", \"EBIT\", \"Tax Expense\",\"NOPAT\", \n",
    "                            \"D&A Expense\", \"Capital Expenditures\", \"Increase in NWC\",\n",
    "                            \"Free Cash Flow\"]).round(2)"
   ]
  },
  {
   "cell_type": "code",
   "execution_count": 31,
   "metadata": {},
   "outputs": [
    {
     "name": "stdout",
     "output_type": "stream",
     "text": [
      "                         2019A     2020E     2021E     2022E     2023E  \\\n",
      "Sales                 37266.00  38383.98  39535.50  40721.56  41943.21   \n",
      "EBIT                  10061.82  10363.67  10674.58  10994.82  11324.67   \n",
      "Tax Expense           -1710.51  -1761.82  -1814.68  -1869.12  -1925.19   \n",
      "NOPAT                  8351.31   8601.85   8859.91   9125.70   9399.47   \n",
      "D&A Expense            1117.98   1151.52   1186.06   1221.65   1258.30   \n",
      "Capital Expenditures  -1117.98  -1151.52  -1186.06  -1221.65  -1258.30   \n",
      "Increase in NWC            NaN    -11.18    -11.52    -11.86    -12.22   \n",
      "Free Cash Flow             NaN   8590.67   8848.39   9113.84   9387.26   \n",
      "\n",
      "                         2024E     2025E     2026E     2027E     2028E  \\\n",
      "Sales                 43201.51  44497.55  45832.48  47207.45  48623.68   \n",
      "EBIT                  11664.41  12014.34  12374.77  12746.01  13128.39   \n",
      "Tax Expense           -1982.95  -2042.44  -2103.71  -2166.82  -2231.83   \n",
      "NOPAT                  9681.46   9971.90  10271.06  10579.19  10896.57   \n",
      "D&A Expense            1296.05   1334.93   1374.97   1416.22   1458.71   \n",
      "Capital Expenditures  -1296.05  -1334.93  -1374.97  -1416.22  -1458.71   \n",
      "Increase in NWC         -12.58    -12.96    -13.35    -13.75    -14.16   \n",
      "Free Cash Flow         9668.87   9958.94  10257.71  10565.44  10882.40   \n",
      "\n",
      "                         2029E  \n",
      "Sales                 50082.39  \n",
      "EBIT                  13522.24  \n",
      "Tax Expense           -2298.78  \n",
      "NOPAT                 11223.46  \n",
      "D&A Expense            1502.47  \n",
      "Capital Expenditures  -1502.47  \n",
      "Increase in NWC         -14.59  \n",
      "Free Cash Flow        11208.88  \n"
     ]
    }
   ],
   "source": [
    "# gnenerating the dataframe\n",
    "\n",
    "print(output)"
   ]
  },
  {
   "cell_type": "code",
   "execution_count": 32,
   "metadata": {},
   "outputs": [],
   "source": [
    "output.to_excel('Python_DCF_Model.xlsx') # data exported to an Excel file"
   ]
  }
 ],
 "metadata": {
  "kernelspec": {
   "display_name": "Python 3",
   "language": "python",
   "name": "python3"
  },
  "language_info": {
   "codemirror_mode": {
    "name": "ipython",
    "version": 3
   },
   "file_extension": ".py",
   "mimetype": "text/x-python",
   "name": "python",
   "nbconvert_exporter": "python",
   "pygments_lexer": "ipython3",
   "version": "3.7.4"
  }
 },
 "nbformat": 4,
 "nbformat_minor": 2
}
