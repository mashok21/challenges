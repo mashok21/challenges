{
 "cells": [
  {
   "cell_type": "code",
   "execution_count": 1,
   "metadata": {},
   "outputs": [
    {
     "name": "stdout",
     "output_type": "stream",
     "text": [
      "hello\n"
     ]
    }
   ],
   "source": [
    "if 1 > 5:\n",
    "    print('hi')\n",
    "else:\n",
    "    print('hello')"
   ]
  },
  {
   "cell_type": "code",
   "execution_count": 3,
   "metadata": {},
   "outputs": [
    {
     "name": "stdout",
     "output_type": "stream",
     "text": [
      "enter a number4\n",
      "enter a number4\n",
      "4 and 4 are equal\n"
     ]
    }
   ],
   "source": [
    "a = int(input('enter a number'))\n",
    "b = int(input('enter a number'))\n",
    "\n",
    "if (a>b):\n",
    "    print(f'{a} is greater than b')\n",
    "elif (b>a):\n",
    "    print(f'{a} is greater than b')\n",
    "else:\n",
    "    print(f'{a} and {b} are equal')"
   ]
  },
  {
   "cell_type": "code",
   "execution_count": 7,
   "metadata": {},
   "outputs": [
    {
     "name": "stdout",
     "output_type": "stream",
     "text": [
      "enter a number4\n",
      "enter a number6\n",
      "4 is greater than b\n"
     ]
    }
   ],
   "source": [
    "a = int(input('enter a number'))\n",
    "b = int(input('enter a number'))\n",
    "\n",
    "if (a>b): print(f'{a} is greater than b')\n",
    "elif (b>a): print(f'{a} is greater than b')\n",
    "else: print(f'{a} and {b} are equal')"
   ]
  },
  {
   "cell_type": "code",
   "execution_count": 11,
   "metadata": {},
   "outputs": [
    {
     "name": "stdout",
     "output_type": "stream",
     "text": [
      "enter a no.1 10\n",
      "enter a no.2 10\n",
      "enter a no.3 10\n",
      "10, 10 and 10 are equal\n"
     ]
    }
   ],
   "source": [
    "a = int(input('enter a no.1 '))\n",
    "b = int(input('enter a no.2 '))\n",
    "c = int(input('enter a no.3 '))\n",
    "\n",
    "if a > b and a > c:\n",
    "    print(f'{a} is the greatest number')\n",
    "elif b > a and b > c:\n",
    "    print('f{b} is the greatest number')\n",
    "elif c > a and c > b:\n",
    "    print('f{c} is the greatest number')\n",
    "elif a == b == c:\n",
    "    print(f'{a}, {b} and {c} are equal')\n",
    "elif a == b or b == c or c == a:\n",
    "    print('two numbers are equal')"
   ]
  },
  {
   "cell_type": "code",
   "execution_count": 12,
   "metadata": {},
   "outputs": [
    {
     "name": "stdout",
     "output_type": "stream",
     "text": [
      "\"e\" is not present\n"
     ]
    }
   ],
   "source": [
    "L = [1,2,3,4]\n",
    "e = 10\n",
    "\n",
    "if e in L:\n",
    "    print('\"e\" is present')\n",
    "else:\n",
    "    print('\"e\" is not present')"
   ]
  },
  {
   "cell_type": "code",
   "execution_count": 15,
   "metadata": {},
   "outputs": [],
   "source": [
    "d = {1:10, 2:20, 'g': [2,5]}"
   ]
  },
  {
   "cell_type": "code",
   "execution_count": 23,
   "metadata": {},
   "outputs": [
    {
     "name": "stdout",
     "output_type": "stream",
     "text": [
      "e is present\n"
     ]
    }
   ],
   "source": [
    "if e in d.values():\n",
    "    print('e is present')\n",
    "else:\n",
    "    print('e is not present')"
   ]
  },
  {
   "cell_type": "code",
   "execution_count": 32,
   "metadata": {},
   "outputs": [
    {
     "name": "stdout",
     "output_type": "stream",
     "text": [
      "hi hi hi hi hi hi "
     ]
    }
   ],
   "source": [
    "num = 1\n",
    "while (num <= 6):\n",
    "    print('hi', end = ' ')\n",
    "    num += 1"
   ]
  },
  {
   "cell_type": "code",
   "execution_count": 34,
   "metadata": {},
   "outputs": [
    {
     "name": "stdout",
     "output_type": "stream",
     "text": [
      "5 6 7 8 9 10 11 12 13 14 15 16 17 18 19 20 21 22 23 24 25 26 27 28 29 30 31 32 33 34 35 36 37 38 39 40 "
     ]
    }
   ],
   "source": [
    "num = 5\n",
    "while num < 41:\n",
    "    print(num, end = ' ')\n",
    "    num += 1"
   ]
  },
  {
   "cell_type": "code",
   "execution_count": 11,
   "metadata": {},
   "outputs": [
    {
     "name": "stdout",
     "output_type": "stream",
     "text": [
      "0 5 10 15 20 25 30 35 40 45 50 55 60 65 70 75 80 85 90 95 100 "
     ]
    }
   ],
   "source": [
    "num = 0\n",
    "while num <= 100:\n",
    "    if num % 5 == 0:\n",
    "        print(num, end = ' ')\n",
    "    else:\n",
    "        pass\n",
    "    num += 1"
   ]
  },
  {
   "cell_type": "code",
   "execution_count": 14,
   "metadata": {},
   "outputs": [
    {
     "name": "stdout",
     "output_type": "stream",
     "text": [
      "0 | 1 | 4 | 9 | 16 | 25 | 36 | 49 | 64 | 81 | 100 | "
     ]
    }
   ],
   "source": [
    "x = 0\n",
    "while x <= 10:\n",
    "    print(x ** 2, end = ' | ')\n",
    "    x += 1"
   ]
  },
  {
   "cell_type": "code",
   "execution_count": 2,
   "metadata": {},
   "outputs": [
    {
     "name": "stdout",
     "output_type": "stream",
     "text": [
      "100 | 95 | 90 | 85 | 80 | 75 | 70 | 65 | 60 | 55 | 50 | 45 | 40 | 35 | 30 | 25 | 20 | 15 | 10 | 5 | 0 | "
     ]
    }
   ],
   "source": [
    "num = 100\n",
    "while num >= 0:\n",
    "    if num % 5 == 0:\n",
    "        print(num, end = ' | ')\n",
    "    num -= 1"
   ]
  },
  {
   "cell_type": "code",
   "execution_count": 13,
   "metadata": {},
   "outputs": [
    {
     "name": "stdout",
     "output_type": "stream",
     "text": [
      "0 1 2 3 4 \n",
      "exit val:  5\n"
     ]
    }
   ],
   "source": [
    "count = 0 \n",
    "while count < 5:\n",
    "    print(count, end = ' ')\n",
    "    count += 1\n",
    "print('\\nexit val: ', count)"
   ]
  },
  {
   "cell_type": "code",
   "execution_count": 14,
   "metadata": {},
   "outputs": [
    {
     "name": "stdout",
     "output_type": "stream",
     "text": [
      "[2, 3]\n",
      "[2]\n"
     ]
    }
   ],
   "source": [
    "l = [2,3,4]\n",
    "e = 3\n",
    "while e in l:\n",
    "    l.pop()\n",
    "    print(l)"
   ]
  },
  {
   "cell_type": "code",
   "execution_count": 22,
   "metadata": {},
   "outputs": [
    {
     "name": "stdout",
     "output_type": "stream",
     "text": [
      "I like katrina\n",
      "I like kareena\n",
      "I like deepika\n",
      "I like ranvir\n"
     ]
    }
   ],
   "source": [
    "actors = ['katrina', 'kareena', 'deepika', 'ranvir']\n",
    "\n",
    "num = 0\n",
    "while num < len(actors):\n",
    "    print('I like', actors[num])\n",
    "    num += 1"
   ]
  },
  {
   "cell_type": "code",
   "execution_count": 23,
   "metadata": {},
   "outputs": [
    {
     "name": "stdout",
     "output_type": "stream",
     "text": [
      "0 1 2 3 4 "
     ]
    }
   ],
   "source": [
    "for i in range(5):\n",
    "    print(i, end = ' ')"
   ]
  },
  {
   "cell_type": "code",
   "execution_count": 26,
   "metadata": {},
   "outputs": [
    {
     "name": "stdout",
     "output_type": "stream",
     "text": [
      "0 Hi | 1 Hi | 2 Hi | 3 Hi | 4 Hi | "
     ]
    }
   ],
   "source": [
    "for num in range(5):\n",
    "    print(num, 'Hi', end = ' | ')"
   ]
  },
  {
   "cell_type": "code",
   "execution_count": 37,
   "metadata": {},
   "outputs": [
    {
     "name": "stdout",
     "output_type": "stream",
     "text": [
      "pos- , 2 3 | pos- , 5 6 | pos- , 8 9 | "
     ]
    }
   ],
   "source": [
    "a= [1,2,3,4,5,6,7,8,9,10]\n",
    "\n",
    "for i in range(len(a)):\n",
    "    if a[i] % 3 == 0:\n",
    "        print(\"pos-\",\",\",i, a[i], end = \" | \")"
   ]
  },
  {
   "cell_type": "code",
   "execution_count": 47,
   "metadata": {},
   "outputs": [
    {
     "name": "stdout",
     "output_type": "stream",
     "text": [
      "100 - 98 - 96 - 94 - 92 - 90 - 88 - 86 - 84 - 82 - 80 - 78 - 76 - 74 - 72 - 70 - 68 - 66 - 64 - 62 - 60 - 58 - 56 - 54 - 52 - 50 - 48 - 46 - 44 - 42 - 40 - 38 - 36 - 34 - 32 - 30 - 28 - 26 - 24 - 22 - 20 - 18 - 16 - 14 - 12 - 10 - 8 - 6 - 4 - 2 - "
     ]
    }
   ],
   "source": [
    "for i in range(100,0,-2):\n",
    "    print(i, end = ' - ')"
   ]
  },
  {
   "cell_type": "code",
   "execution_count": 48,
   "metadata": {},
   "outputs": [
    {
     "name": "stdout",
     "output_type": "stream",
     "text": [
      "100 - 95 - 90 - 85 - 80 - 75 - 70 - 65 - 60 - 55 - 50 - 45 - 40 - 35 - 30 - 25 - 20 - 15 - 10 - 5 - "
     ]
    }
   ],
   "source": [
    "for i in range(100,0,-5):\n",
    "    print(i, end = ' - ')"
   ]
  },
  {
   "cell_type": "code",
   "execution_count": 49,
   "metadata": {},
   "outputs": [],
   "source": [
    "sqlist = []\n",
    "for x in range(1,11):\n",
    "    sqlist.append(x**2)"
   ]
  },
  {
   "cell_type": "code",
   "execution_count": 50,
   "metadata": {},
   "outputs": [
    {
     "data": {
      "text/plain": [
       "[1, 4, 9, 16, 25, 36, 49, 64, 81, 100]"
      ]
     },
     "execution_count": 50,
     "metadata": {},
     "output_type": "execute_result"
    }
   ],
   "source": [
    "sqlist"
   ]
  },
  {
   "cell_type": "code",
   "execution_count": 59,
   "metadata": {},
   "outputs": [
    {
     "name": "stdout",
     "output_type": "stream",
     "text": [
      "veeresh\n",
      "kamalesh\n",
      "rudresh\n",
      "3\n"
     ]
    }
   ],
   "source": [
    "y = ['abhishek', 'veeresh', 'kamalesh', 'rudresh', 'vivek', 'aditya']\n",
    "count = 0\n",
    "for x in y:\n",
    "    if x[-1] == 'h':\n",
    "        count += 1\n",
    "        print(x)\n",
    "print(count)\n",
    "    "
   ]
  },
  {
   "cell_type": "code",
   "execution_count": null,
   "metadata": {},
   "outputs": [],
   "source": []
  }
 ],
 "metadata": {
  "kernelspec": {
   "display_name": "Python 3",
   "language": "python",
   "name": "python3"
  },
  "language_info": {
   "codemirror_mode": {
    "name": "ipython",
    "version": 3
   },
   "file_extension": ".py",
   "mimetype": "text/x-python",
   "name": "python",
   "nbconvert_exporter": "python",
   "pygments_lexer": "ipython3",
   "version": "3.7.4"
  }
 },
 "nbformat": 4,
 "nbformat_minor": 2
}
