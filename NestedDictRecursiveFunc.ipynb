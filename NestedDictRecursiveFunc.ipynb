{
 "cells": [
  {
   "cell_type": "code",
   "execution_count": 3,
   "metadata": {},
   "outputs": [],
   "source": [
    " data = {\n",
    "   \"A\": 6,\n",
    "   \"Foo\": {\n",
    "      \"Bar\": {\n",
    "         \"B\": 4\n",
    "      },\n",
    "   },\n",
    "   \"Foo2\": {\n",
    "      \"Bar2\": {\n",
    "         \"Baz\": {\n",
    "            \"C\": 25\n",
    "         }\n",
    "      },\n",
    "   }\n",
    "}"
   ]
  },
  {
   "cell_type": "code",
   "execution_count": 4,
   "metadata": {},
   "outputs": [
    {
     "name": "stdout",
     "output_type": "stream",
     "text": [
      "{'A': 6, 'Foo': {'Bar': {'B': 4}}, 'Foo2': {'Bar2': {'Baz': {'C': 25}}}}\n"
     ]
    }
   ],
   "source": [
    "import pprint\n",
    "pp = pprint.PrettyPrinter(depth=4)\n",
    "pp.pprint(data)"
   ]
  },
  {
   "cell_type": "code",
   "execution_count": 5,
   "metadata": {},
   "outputs": [],
   "source": [
    "def get_nested(data, *args):\n",
    "    if args and data:\n",
    "        element  = args[0]\n",
    "        if element:\n",
    "            value = data.get(element)\n",
    "            return value if len(args) == 1 else get_nested(value, *args[1:])"
   ]
  },
  {
   "cell_type": "code",
   "execution_count": 29,
   "metadata": {},
   "outputs": [
    {
     "name": "stdout",
     "output_type": "stream",
     "text": [
      "A: 6\n",
      "B: 4\n",
      "C: 25\n"
     ]
    }
   ],
   "source": [
    "print('A:', get_nested(data, 'A'))\n",
    "print('B:', get_nested(data, 'Foo', 'Bar', 'B'))\n",
    "print('C:', get_nested(data, 'Foo2', 'Bar2', 'Baz', 'C'))"
   ]
  },
  {
   "cell_type": "code",
   "execution_count": 15,
   "metadata": {},
   "outputs": [],
   "source": [
    "def recursive_get(d, *args, default=None):\n",
    "    if not args:\n",
    "        return d\n",
    "    key, *args = args\n",
    "    return recursive_get(d.get(key, default), *args, default=default)"
   ]
  },
  {
   "cell_type": "code",
   "execution_count": 20,
   "metadata": {},
   "outputs": [
    {
     "ename": "SyntaxError",
     "evalue": "EOL while scanning string literal (<ipython-input-20-3b386a26e22e>, line 1)",
     "output_type": "error",
     "traceback": [
      "\u001b[1;36m  File \u001b[1;32m\"<ipython-input-20-3b386a26e22e>\"\u001b[1;36m, line \u001b[1;32m1\u001b[0m\n\u001b[1;33m    recursive_get(data, 'A', 'Foo', 'Foo2)\u001b[0m\n\u001b[1;37m                                          ^\u001b[0m\n\u001b[1;31mSyntaxError\u001b[0m\u001b[1;31m:\u001b[0m EOL while scanning string literal\n"
     ]
    }
   ],
   "source": [
    "recursive_get(data, 'A', 'Foo', 'Foo2)"
   ]
  },
  {
   "cell_type": "code",
   "execution_count": 30,
   "metadata": {},
   "outputs": [],
   "source": [
    "def get_nested(data, *args):\n",
    "    if args and data:\n",
    "        element  = args[0]\n",
    "        if element:\n",
    "            value = data.get(element)\n",
    "            return value if len(args) == 1 else get_nested(value, *args[1:])"
   ]
  },
  {
   "cell_type": "code",
   "execution_count": 31,
   "metadata": {},
   "outputs": [
    {
     "name": "stdout",
     "output_type": "stream",
     "text": [
      "A: 6\n",
      "B: 4\n",
      "C: 25\n"
     ]
    }
   ],
   "source": [
    "print('A:', get_nested(data, 'A'))\n",
    "print('B:', get_nested(data, 'Foo', 'Bar', 'B'))\n",
    "print('C:', get_nested(data, 'Foo2', 'Bar2', 'Baz', 'C'))"
   ]
  },
  {
   "cell_type": "code",
   "execution_count": 33,
   "metadata": {},
   "outputs": [
    {
     "name": "stdout",
     "output_type": "stream",
     "text": [
      "[Aos]\n"
     ]
    }
   ],
   "source": [
    "print('[%cos]' %65)"
   ]
  },
  {
   "cell_type": "code",
   "execution_count": null,
   "metadata": {},
   "outputs": [],
   "source": []
  }
 ],
 "metadata": {
  "kernelspec": {
   "display_name": "Python 3",
   "language": "python",
   "name": "python3"
  },
  "language_info": {
   "codemirror_mode": {
    "name": "ipython",
    "version": 3
   },
   "file_extension": ".py",
   "mimetype": "text/x-python",
   "name": "python",
   "nbconvert_exporter": "python",
   "pygments_lexer": "ipython3",
   "version": "3.7.4"
  }
 },
 "nbformat": 4,
 "nbformat_minor": 2
}
