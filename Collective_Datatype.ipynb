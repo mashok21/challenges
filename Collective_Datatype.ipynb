{
 "cells": [
  {
   "cell_type": "markdown",
   "metadata": {},
   "source": [
    "# Collection Datatypes"
   ]
  },
  {
   "cell_type": "markdown",
   "metadata": {},
   "source": [
    "There are four collection data types in the Python programming language:\n",
    "\n",
    "1. List is a collection which is ordered, indexed and changeable. Allows duplicate members.\n",
    "2. Tuple is a collection which is ordered, indexed and unchangeable. Allows duplicate members.\n",
    "3. Set is a collection which is unordered, unindexed and changeable. No duplicate members.\n",
    "4. Dictionary is a collection which is unordered and changeable. No duplicate keys.\n",
    "When choosing a collection type, it is necessary to understand the properties of that type."
   ]
  },
  {
   "cell_type": "code",
   "execution_count": 1,
   "metadata": {},
   "outputs": [
    {
     "name": "stdout",
     "output_type": "stream",
     "text": [
      "1\n",
      "1\n"
     ]
    }
   ],
   "source": [
    "this_list   = [1,2,3,4]     # square brackets\n",
    "this_tuple  = (1,2,3,4)     # round brackets\n",
    "this_set    = {1,2,3,4}     # curly brackets.\n",
    "this_dict   = {'num1':1, 'num2':2, 'num3': 3, 'num4':4}   # curly brackets\n",
    "\n",
    "print(this_list[0])\n",
    "print(this_dict['num1'])"
   ]
  },
  {
   "cell_type": "markdown",
   "metadata": {},
   "source": [
    "## 1. List\n",
    "    A list is a collection which is ordered and changeable. In Python lists are written with square brackets.\n",
    "    \n",
    "    a. Getting started\n",
    "    b. List methods\n",
    "    c. Conditional Statements on Lists"
   ]
  },
  {
   "cell_type": "markdown",
   "metadata": {},
   "source": [
    "#### 1 (a). Getting Started"
   ]
  },
  {
   "cell_type": "code",
   "execution_count": 59,
   "metadata": {},
   "outputs": [
    {
     "name": "stdout",
     "output_type": "stream",
     "text": [
      "['apple', 4, 5.5, 6, True]\n",
      "[[1, 2, 3, 4], True, 6, 5.5, 4]\n",
      "['apple', 5.5, True, (10, 20)]\n"
     ]
    }
   ],
   "source": [
    "'Creating a list'\n",
    "this_list = [\"apple\", 4, 5.5, 6, True, [1,2,3,4], (10,20), {'brand':'honda', 'name':'city', 'cc':1500, 'top speed':220}]\n",
    "# print('This list:', this_list)\n",
    "\n",
    "# print(this_list[0:5:2])\n",
    "\n",
    "# print(this_list[-1]['top speed'])\n",
    "# print(this_list[5][0])\n",
    "\n",
    "# 'Accessing an element:'\n",
    "# print('element at position 0:', this_list[0])\n",
    "\n",
    "'Change item value:'\n",
    "# print('Before:', this_list)\n",
    "# this_list[3] = \"pineapple\"\n",
    "# print('After:', this_list)\n",
    "\n",
    "'Getting a sub List'\n",
    "print(this_list[0:5])\n",
    "print(this_list[5:0:-1])\n",
    "print(this_list[0::2])\n",
    "# print()"
   ]
  },
  {
   "cell_type": "markdown",
   "metadata": {},
   "source": [
    "1 (b). List methods"
   ]
  },
  {
   "cell_type": "code",
   "execution_count": 60,
   "metadata": {},
   "outputs": [
    {
     "name": "stdout",
     "output_type": "stream",
     "text": [
      "length of the_list is : 2\n",
      "\n"
     ]
    }
   ],
   "source": [
    "'Get length of the list'\n",
    "this_list = [\"apple\", \"banana\"]\n",
    "print('length of the_list is :', len(this_list))\n",
    "print()"
   ]
  },
  {
   "cell_type": "code",
   "execution_count": 61,
   "metadata": {},
   "outputs": [
    {
     "name": "stdout",
     "output_type": "stream",
     "text": [
      "['apple', 'banana', 'cherry', 'orange']\n",
      "\n"
     ]
    }
   ],
   "source": [
    "'Add Items to the list'\n",
    "'To add an item to the end of the list, use the append() method:'\n",
    "this_list = [\"apple\", \"banana\", \"cherry\"]\n",
    "this_list.append(\"orange\")    \n",
    "print(this_list)\n",
    "print()"
   ]
  },
  {
   "cell_type": "code",
   "execution_count": 64,
   "metadata": {},
   "outputs": [
    {
     "name": "stdout",
     "output_type": "stream",
     "text": [
      "['apple', 'orange', 'banana', 'cherry']\n",
      "\n"
     ]
    }
   ],
   "source": [
    "'To add an item at the specified index, use the insert() method:'\n",
    "this_list = [\"apple\", \"banana\", \"cherry\"]\n",
    "this_list.insert(1,\"orange\")\n",
    "print(this_list)\n",
    "print()"
   ]
  },
  {
   "cell_type": "code",
   "execution_count": 12,
   "metadata": {},
   "outputs": [
    {
     "name": "stdout",
     "output_type": "stream",
     "text": [
      "['banana', 'cherry']\n",
      "\n"
     ]
    }
   ],
   "source": [
    "'Remove Items from a list'\n",
    "'Remove() - removes the specified item:'\n",
    "this_list = [\"apple\", \"banana\", \"cherry\"]\n",
    "this_list.remove(\"apple\")\n",
    "print(this_list)\n",
    "print()"
   ]
  },
  {
   "cell_type": "code",
   "execution_count": 75,
   "metadata": {},
   "outputs": [
    {
     "name": "stdout",
     "output_type": "stream",
     "text": [
      "['apple', 'banana']\n",
      "\n"
     ]
    }
   ],
   "source": [
    "'pop() - removes the specified index, (or the last item if index is not specified):'\n",
    "this_list = [\"apple\", \"banana\", \"cherry\"]\n",
    "this_list.pop(2)\n",
    "print(this_list)\n",
    "print()"
   ]
  },
  {
   "cell_type": "code",
   "execution_count": 77,
   "metadata": {},
   "outputs": [
    {
     "name": "stdout",
     "output_type": "stream",
     "text": [
      "[3, 4]\n",
      "\n"
     ]
    }
   ],
   "source": [
    "'The del keyword removes the specified index:'\n",
    "this_list = [\"apple\", \"banana\", \"cherry\",1, 2, 3, 4]\n",
    "# del this_list\n",
    "del this_list[0:5]\n",
    "# del this_list[0:4]\n",
    "print(this_list)\n",
    "print()"
   ]
  },
  {
   "cell_type": "code",
   "execution_count": 28,
   "metadata": {},
   "outputs": [
    {
     "ename": "NameError",
     "evalue": "name 'this_list' is not defined",
     "output_type": "error",
     "traceback": [
      "\u001b[0;31m---------------------------------------------------------------------------\u001b[0m",
      "\u001b[0;31mNameError\u001b[0m                                 Traceback (most recent call last)",
      "\u001b[0;32m<ipython-input-28-3f6bfcccbe66>\u001b[0m in \u001b[0;36m<module>\u001b[0;34m\u001b[0m\n\u001b[1;32m      2\u001b[0m \u001b[0mthis_list\u001b[0m \u001b[0;34m=\u001b[0m \u001b[0;34m[\u001b[0m\u001b[0;34m\"apple\"\u001b[0m\u001b[0;34m,\u001b[0m \u001b[0;34m\"banana\"\u001b[0m\u001b[0;34m,\u001b[0m \u001b[0;34m\"cherry\"\u001b[0m\u001b[0;34m,\u001b[0m\u001b[0;36m1\u001b[0m\u001b[0;34m,\u001b[0m \u001b[0;36m2\u001b[0m\u001b[0;34m,\u001b[0m \u001b[0;36m3\u001b[0m\u001b[0;34m,\u001b[0m \u001b[0;36m4\u001b[0m\u001b[0;34m]\u001b[0m\u001b[0;34m\u001b[0m\u001b[0;34m\u001b[0m\u001b[0m\n\u001b[1;32m      3\u001b[0m \u001b[0;32mdel\u001b[0m \u001b[0mthis_list\u001b[0m\u001b[0;34m\u001b[0m\u001b[0;34m\u001b[0m\u001b[0m\n\u001b[0;32m----> 4\u001b[0;31m \u001b[0mprint\u001b[0m\u001b[0;34m(\u001b[0m\u001b[0mthis_list\u001b[0m\u001b[0;34m)\u001b[0m\u001b[0;34m\u001b[0m\u001b[0;34m\u001b[0m\u001b[0m\n\u001b[0m",
      "\u001b[0;31mNameError\u001b[0m: name 'this_list' is not defined"
     ]
    }
   ],
   "source": [
    "'The del keyword can also delete the list completely:'\n",
    "# this_list = [\"apple\", \"banana\", \"cherry\",1, 2, 3, 4]\n",
    "# del this_list\n",
    "# print(this_list)"
   ]
  },
  {
   "cell_type": "code",
   "execution_count": 147,
   "metadata": {},
   "outputs": [
    {
     "name": "stdout",
     "output_type": "stream",
     "text": [
      "[]\n",
      "\n",
      "['pinapple']\n"
     ]
    }
   ],
   "source": [
    "'The clear() method empties the list:'\n",
    "this_list = [\"apple\", \"banana\", \"cherry\"]\n",
    "this_list.clear()\n",
    "print(this_list)\n",
    "print()\n",
    "this_list.append(\"pinapple\")\n",
    "print(this_list)"
   ]
  },
  {
   "cell_type": "code",
   "execution_count": 85,
   "metadata": {},
   "outputs": [
    {
     "name": "stdout",
     "output_type": "stream",
     "text": [
      "['apple', 'banana', 'cherry']\n",
      "\n"
     ]
    }
   ],
   "source": [
    "'Copy a List'\n",
    "'There are ways to make a copy, one way is to use the built-in List method copy().'\n",
    "thislist = [\"apple\", \"banana\", \"cherry\"]\n",
    "# mylist = thislist.copy()\n",
    "# # mylist.pop()\n",
    "# print(mylist,\"\\n\",thislist )\n",
    "\n",
    "'Another way to make a copy is to use the built-in method list().'\n",
    "thislist = [\"apple\", \"banana\", \"cherry\"]\n",
    "mylist = list(thislist)\n",
    "print(mylist)\n",
    "print()\n",
    "\n",
    "# mylist = thislist >>>>> incorrect"
   ]
  },
  {
   "cell_type": "code",
   "execution_count": 148,
   "metadata": {},
   "outputs": [
    {
     "name": "stdout",
     "output_type": "stream",
     "text": [
      "3\n",
      "\n"
     ]
    }
   ],
   "source": [
    "'count() - return the number of occurences of value'\n",
    "fruits = [\"apple\",\"pinapple\",\"banana\", \"cherry\", \"cherry\",\"cherry\"]\n",
    "x = fruits.count(\"cherry\")\n",
    "print(x)\n",
    "print()"
   ]
  },
  {
   "cell_type": "code",
   "execution_count": 94,
   "metadata": {},
   "outputs": [
    {
     "name": "stdout",
     "output_type": "stream",
     "text": [
      "2\n",
      "\n"
     ]
    }
   ],
   "source": [
    "'index() - The index() method returns the position at the first occurrence of the specified value.'\n",
    "fruits = ['banana', 'cherry', 'apple', 'apple']\n",
    "x = fruits.index(\"apple\")\n",
    "print(x)\n",
    "print()"
   ]
  },
  {
   "cell_type": "code",
   "execution_count": 95,
   "metadata": {},
   "outputs": [
    {
     "name": "stdout",
     "output_type": "stream",
     "text": [
      "['apple', 'banana', 'cherry', 1, 2, 3]\n",
      "\n"
     ]
    }
   ],
   "source": [
    "'extend() - add elements of one list to another'\n",
    "fruits = ['apple', 'banana', 'cherry']\n",
    "cars = (1, 2, 3)\n",
    "fruits.extend(cars)\n",
    "print(fruits)\n",
    "print()"
   ]
  },
  {
   "cell_type": "code",
   "execution_count": 33,
   "metadata": {},
   "outputs": [
    {
     "name": "stdout",
     "output_type": "stream",
     "text": [
      "['cherry', 'banana', 'apple']\n",
      "\n"
     ]
    }
   ],
   "source": [
    "'reverse() - Reverse the order of the list:'\n",
    "fruits = ['apple', 'banana', 'cherry']\n",
    "fruits.reverse()\n",
    "print(fruits)\n",
    "print()"
   ]
  },
  {
   "cell_type": "code",
   "execution_count": 106,
   "metadata": {},
   "outputs": [
    {
     "name": "stdout",
     "output_type": "stream",
     "text": [
      "['and', 'wit', 'znd']\n",
      "['c', 'b', 'a']\n",
      "[1, 2, 3]\n",
      "\n"
     ]
    }
   ],
   "source": [
    "'sort() - Sorts the elements in list '\n",
    "cars = ['znd','wit','and']\n",
    "cars.sort()\n",
    "print(cars)\n",
    "\n",
    "cars = [\"b\", 'a', 'c']\n",
    "cars.sort(reverse=True)\n",
    "print(cars)\n",
    "\n",
    "cars = [3,2,1]\n",
    "cars.sort()\n",
    "print(cars)\n",
    "print()"
   ]
  },
  {
   "cell_type": "markdown",
   "metadata": {},
   "source": [
    "#### 1 (c). Conditional Statements on lists\n"
   ]
  },
  {
   "cell_type": "code",
   "execution_count": 110,
   "metadata": {},
   "outputs": [
    {
     "name": "stdout",
     "output_type": "stream",
     "text": [
      "apple\n",
      "banana\n",
      "cherry\n",
      "\n"
     ]
    }
   ],
   "source": [
    "'Print all items in the list, one by one:'\n",
    "this_list = [\"apple\", \"banana\", \"cherry\"]\n",
    "for g in this_list:\n",
    "    print(g)\n",
    "    \n",
    "'Check if \"apple\" is present in the list:'\n",
    "# this_list = [\"banana\", \"cherry\"]\n",
    "# if \"apple\" in this_list:\n",
    "#     print(\"Yes\")\n",
    "# else:\n",
    "#     print(\"No\")\n",
    "print()"
   ]
  },
  {
   "cell_type": "markdown",
   "metadata": {},
   "source": [
    "# 2. Tuples"
   ]
  },
  {
   "cell_type": "markdown",
   "metadata": {},
   "source": [
    "A tuple is a collection which is ordered and unchangeable. In Python tuples are written with round brackets.\n",
    "    \n",
    "    a. getting started\n",
    "    b. tuple methods/functions\n",
    "    c. what doesnt work for tuples\n",
    "    d. conditional statements on tuples"
   ]
  },
  {
   "cell_type": "markdown",
   "metadata": {},
   "source": [
    "#### 2 (a). getting started"
   ]
  },
  {
   "cell_type": "code",
   "execution_count": 111,
   "metadata": {},
   "outputs": [
    {
     "name": "stdout",
     "output_type": "stream",
     "text": [
      "<class 'tuple'>\n",
      "('apple', 'banana', 'cherry', 1, 2, 3)\n",
      "\n"
     ]
    }
   ],
   "source": [
    "'Create a Tuple:'\n",
    "this_tuple = (\"apple\", \"banana\", \"cherry\", 1, 2, 3)\n",
    "print(type(this_tuple))\n",
    "\n",
    "print(this_tuple)\n",
    "print()"
   ]
  },
  {
   "cell_type": "code",
   "execution_count": 42,
   "metadata": {},
   "outputs": [
    {
     "name": "stdout",
     "output_type": "stream",
     "text": [
      "apple\n",
      "('apple', 'banana', 'cherry', 1)\n",
      "(3, 2, 1, 'cherry', 'banana')\n",
      "('apple', 'cherry', 2)\n",
      "\n"
     ]
    }
   ],
   "source": [
    "'Accessing an element:'\n",
    "print(this_tuple[0])\n",
    "\n",
    "'Getting a sub Tuple'\n",
    "print(this_tuple[0:4])\n",
    "print(this_tuple[5:0:-1])\n",
    "print(this_tuple[0::2])\n",
    "print()"
   ]
  },
  {
   "cell_type": "markdown",
   "metadata": {},
   "source": [
    "#### 2 (b). Tuple methods/functions"
   ]
  },
  {
   "cell_type": "code",
   "execution_count": 116,
   "metadata": {},
   "outputs": [
    {
     "name": "stdout",
     "output_type": "stream",
     "text": [
      "3\n",
      "2\n",
      "0\n"
     ]
    },
    {
     "ename": "NameError",
     "evalue": "name 'this_tuple' is not defined",
     "output_type": "error",
     "traceback": [
      "\u001b[0;31m---------------------------------------------------------------------------\u001b[0m",
      "\u001b[0;31mNameError\u001b[0m                                 Traceback (most recent call last)",
      "\u001b[0;32m<ipython-input-116-6cd00dbbf2c9>\u001b[0m in \u001b[0;36m<module>\u001b[0;34m\u001b[0m\n\u001b[1;32m     14\u001b[0m \u001b[0mthis_tuple\u001b[0m \u001b[0;34m=\u001b[0m \u001b[0;34m(\u001b[0m\u001b[0;34m\"apple\"\u001b[0m\u001b[0;34m,\u001b[0m \u001b[0;34m\"banana\"\u001b[0m\u001b[0;34m,\u001b[0m \u001b[0;34m\"cherry\"\u001b[0m\u001b[0;34m)\u001b[0m\u001b[0;34m\u001b[0m\u001b[0;34m\u001b[0m\u001b[0m\n\u001b[1;32m     15\u001b[0m \u001b[0;32mdel\u001b[0m \u001b[0mthis_tuple\u001b[0m\u001b[0;34m\u001b[0m\u001b[0;34m\u001b[0m\u001b[0m\n\u001b[0;32m---> 16\u001b[0;31m \u001b[0mprint\u001b[0m\u001b[0;34m(\u001b[0m\u001b[0mthis_tuple\u001b[0m\u001b[0;34m)\u001b[0m          \u001b[0;31m# this will raise an error because the tuple no longer exists\u001b[0m\u001b[0;34m\u001b[0m\u001b[0;34m\u001b[0m\u001b[0m\n\u001b[0m\u001b[1;32m     17\u001b[0m \u001b[0mprint\u001b[0m\u001b[0;34m(\u001b[0m\u001b[0;34m)\u001b[0m\u001b[0;34m\u001b[0m\u001b[0;34m\u001b[0m\u001b[0m\n",
      "\u001b[0;31mNameError\u001b[0m: name 'this_tuple' is not defined"
     ]
    }
   ],
   "source": [
    "'len() - Print the number of items in the tuple:'\n",
    "this_tuple = (\"apple\", \"banana\", \"cherry\")\n",
    "print(len(this_tuple))\n",
    "\n",
    "'count() - returns the number of occurences of a value'\n",
    "this_tuple = (\"apple\", \"banana\", \"cherry\", \"banana\")\n",
    "print(this_tuple.count(\"banana\"))\n",
    "\n",
    "'index() - Return first index of value.'\n",
    "this_tuple = (\"apple\", \"banana\", \"cherry\")\n",
    "print(this_tuple.index('apple'))\n",
    "\n",
    "'The del keyword can delete the tuple completely:'\n",
    "this_tuple = (\"apple\", \"banana\", \"cherry\")\n",
    "# del this_tuple\n",
    "# print(this_tuple)          # this will raise an error because the tuple no longer exists\n",
    "print()"
   ]
  },
  {
   "cell_type": "markdown",
   "metadata": {},
   "source": [
    "#### 2 (c). What doesn't work for tuples"
   ]
  },
  {
   "cell_type": "code",
   "execution_count": 122,
   "metadata": {},
   "outputs": [
    {
     "ename": "AttributeError",
     "evalue": "'tuple' object has no attribute 'remove'",
     "output_type": "error",
     "traceback": [
      "\u001b[0;31m---------------------------------------------------------------------------\u001b[0m",
      "\u001b[0;31mAttributeError\u001b[0m                            Traceback (most recent call last)",
      "\u001b[0;32m<ipython-input-122-ed447faeb907>\u001b[0m in \u001b[0;36m<module>\u001b[0;34m\u001b[0m\n\u001b[1;32m     14\u001b[0m \u001b[0;34m'Once a tuple is created, you cannot remove items from it. Tuples are unchangeable.'\u001b[0m\u001b[0;34m\u001b[0m\u001b[0;34m\u001b[0m\u001b[0m\n\u001b[1;32m     15\u001b[0m \u001b[0mthis_tuple\u001b[0m \u001b[0;34m=\u001b[0m \u001b[0;34m(\u001b[0m\u001b[0;34m\"apple\"\u001b[0m\u001b[0;34m,\u001b[0m \u001b[0;34m\"banana\"\u001b[0m\u001b[0;34m,\u001b[0m \u001b[0;34m\"cherry\"\u001b[0m\u001b[0;34m)\u001b[0m\u001b[0;34m\u001b[0m\u001b[0;34m\u001b[0m\u001b[0m\n\u001b[0;32m---> 16\u001b[0;31m \u001b[0mthis_tuple\u001b[0m\u001b[0;34m.\u001b[0m\u001b[0mremove\u001b[0m\u001b[0;34m(\u001b[0m\u001b[0;34m'apple'\u001b[0m\u001b[0;34m)\u001b[0m         \u001b[0;31m# This will raise an error\u001b[0m\u001b[0;34m\u001b[0m\u001b[0;34m\u001b[0m\u001b[0m\n\u001b[0m\u001b[1;32m     17\u001b[0m \u001b[0mprint\u001b[0m\u001b[0;34m(\u001b[0m\u001b[0mthis_tuple\u001b[0m\u001b[0;34m)\u001b[0m\u001b[0;34m\u001b[0m\u001b[0;34m\u001b[0m\u001b[0m\n\u001b[1;32m     18\u001b[0m \u001b[0;34m\u001b[0m\u001b[0m\n",
      "\u001b[0;31mAttributeError\u001b[0m: 'tuple' object has no attribute 'remove'"
     ]
    }
   ],
   "source": [
    "'Add items'\n",
    "'Once a tuple is created, you cannot add items to it. Tuples are unchangeable.'\n",
    "\n",
    "'Change item value:'\n",
    "# this_tuple = (\"apple\", \"banana\", \"cherry\")\n",
    "# this_tuple[2] = \"pineapple\"\n",
    "# print(this_tuple)\n",
    "\n",
    "# this_tuple = (\"apple\", \"banana\", \"cherry\")\n",
    "# this_tuple.append('orange')  # This will raise an error\n",
    "# print(this_tuple)\n",
    "\n",
    "'Remove items'\n",
    "'Once a tuple is created, you cannot remove items from it. Tuples are unchangeable.'\n",
    "# this_tuple = (\"apple\", \"banana\", \"cherry\")\n",
    "# this_tuple.remove('apple')         # This will raise an error\n",
    "# print(this_tuple)\n",
    "\n",
    "'Del item at specific index'\n",
    "# this_tuple = (\"apple\", \"banana\", \"cherry\")\n",
    "# del this_tuple[0]                 # This will raise an error\n",
    "# print(this_tuple)\n",
    "# print()"
   ]
  },
  {
   "cell_type": "markdown",
   "metadata": {},
   "source": [
    "#### 2 (d). Conditional Statements on Tuples"
   ]
  },
  {
   "cell_type": "code",
   "execution_count": 127,
   "metadata": {},
   "outputs": [
    {
     "name": "stdout",
     "output_type": "stream",
     "text": [
      "apple\n",
      "banana\n",
      "cherry\n",
      "not in this tuple\n",
      "\n"
     ]
    }
   ],
   "source": [
    "'Iterate through the items and print the values:'\n",
    "this_tuple = (\"apple\", \"banana\", \"cherry\")\n",
    "for f in this_tuple:\n",
    "    print(f)\n",
    "    \n",
    "'Check if \"apple\" is present in the tuple:'\n",
    "this_tuple = (\"banana\", \"cherry\")\n",
    "if \"apple\" in this_tuple:\n",
    "    print(\"Yes, 'apple' is in the fruits tuple\")\n",
    "else:\n",
    "    print(\"not in this tuple\")\n",
    "print()"
   ]
  },
  {
   "cell_type": "markdown",
   "metadata": {},
   "source": [
    "# 3. Sets\n",
    "    Set is a collection which is unordered, unindexed and changeable. No duplicate elements allowed.\n",
    "    \n",
    "    a. Getting Started\n",
    "    b. Set methods\n",
    "    c. What doesn't work for sets\n",
    "    d. Conditional statements on Sets"
   ]
  },
  {
   "cell_type": "markdown",
   "metadata": {},
   "source": [
    "#### 3 (a). Getting Started"
   ]
  },
  {
   "cell_type": "code",
   "execution_count": 59,
   "metadata": {},
   "outputs": [
    {
     "name": "stdout",
     "output_type": "stream",
     "text": [
      "{5.5, 'cherry', 5, 'banana'}\n",
      "\n"
     ]
    }
   ],
   "source": [
    "'A set is a collection which is unordered and unindexed. In Python sets are written with curly brackets.'\n",
    "'Sets do not support duplicate items'\n",
    "'Create a Set'\n",
    "this_set = {5,5.5, \"banana\", \"cherry\"}\n",
    "print(this_set)\n",
    "print()"
   ]
  },
  {
   "cell_type": "markdown",
   "metadata": {},
   "source": [
    "3 (b). Set methods/functions"
   ]
  },
  {
   "cell_type": "code",
   "execution_count": 63,
   "metadata": {},
   "outputs": [
    {
     "name": "stdout",
     "output_type": "stream",
     "text": [
      "{5, 'banana', 'apple', 'cherry'}\n",
      "\n"
     ]
    }
   ],
   "source": [
    "'Add Items to a set.'\n",
    "'Add an item to a set, using the \"add()\" method.'\n",
    "thisset = {\"apple\", \"banana\", \"cherry\"}\n",
    "thisset.add(5)\n",
    "print(thisset)\n",
    "print()"
   ]
  },
  {
   "cell_type": "code",
   "execution_count": 65,
   "metadata": {},
   "outputs": [
    {
     "name": "stdout",
     "output_type": "stream",
     "text": [
      "{'orange', 'mango', 'grapes', 'banana', 'apple', 'cherry'}\n",
      "\n"
     ]
    }
   ],
   "source": [
    "'Add multiple items to a set, using the \"update()\" method'\n",
    "this_set = {\"apple\", \"banana\", \"cherry\"}\n",
    "set_1 = {\"orange\", \"mango\", \"grapes\",}\n",
    "\n",
    "this_set.update(set_1)\n",
    "print(this_set)\n",
    "print()"
   ]
  },
  {
   "cell_type": "code",
   "execution_count": 72,
   "metadata": {},
   "outputs": [
    {
     "name": "stdout",
     "output_type": "stream",
     "text": [
      "{'banana', 'cherry'}\n"
     ]
    },
    {
     "ename": "TypeError",
     "evalue": "discard() takes exactly one argument (2 given)",
     "output_type": "error",
     "traceback": [
      "\u001b[0;31m---------------------------------------------------------------------------\u001b[0m",
      "\u001b[0;31mTypeError\u001b[0m                                 Traceback (most recent call last)",
      "\u001b[0;32m<ipython-input-72-2d9654b54d08>\u001b[0m in \u001b[0;36m<module>\u001b[0;34m\u001b[0m\n\u001b[1;32m      6\u001b[0m \u001b[0;34m\u001b[0m\u001b[0m\n\u001b[1;32m      7\u001b[0m \u001b[0;34m'discard()'\u001b[0m\u001b[0;34m\u001b[0m\u001b[0;34m\u001b[0m\u001b[0m\n\u001b[0;32m----> 8\u001b[0;31m \u001b[0mthis_set\u001b[0m\u001b[0;34m.\u001b[0m\u001b[0mdiscard\u001b[0m\u001b[0;34m(\u001b[0m\u001b[0;34m\"apple\"\u001b[0m\u001b[0;34m,\u001b[0m\u001b[0;34m\"banana\"\u001b[0m\u001b[0;34m)\u001b[0m\u001b[0;34m\u001b[0m\u001b[0;34m\u001b[0m\u001b[0m\n\u001b[0m\u001b[1;32m      9\u001b[0m \u001b[0mprint\u001b[0m\u001b[0;34m(\u001b[0m\u001b[0mthis_set\u001b[0m\u001b[0;34m)\u001b[0m\u001b[0;34m\u001b[0m\u001b[0;34m\u001b[0m\u001b[0m\n\u001b[1;32m     10\u001b[0m \u001b[0mprint\u001b[0m\u001b[0;34m(\u001b[0m\u001b[0;34m)\u001b[0m\u001b[0;34m\u001b[0m\u001b[0;34m\u001b[0m\u001b[0m\n",
      "\u001b[0;31mTypeError\u001b[0m: discard() takes exactly one argument (2 given)"
     ]
    }
   ],
   "source": [
    "'Remove Item'\n",
    "'To remove an item in a set, use the \"remove()\", or the \"discard()\" method.'\n",
    "this_set = {\"apple\", \"banana\", \"cherry\"}\n",
    "this_set.remove(\"apple\")\n",
    "print(this_set)\n",
    "\n",
    "'discard()'\n",
    "this_set.discard(\"apple\",\"banana\")\n",
    "print(this_set)\n",
    "print()"
   ]
  },
  {
   "cell_type": "code",
   "execution_count": 78,
   "metadata": {},
   "outputs": [
    {
     "name": "stdout",
     "output_type": "stream",
     "text": [
      "{'apple', 'cherry'}\n"
     ]
    }
   ],
   "source": [
    "'You can also use the \"pop()\", method to remove an item, but this method will remove the last item.'\n",
    "'Remember that sets are unordered, so you will not know what item that gets removed.'\n",
    "'The return value of the \"pop()\" method is the removed item'\n",
    "this_set = {\"apple\", \"banana\", \"cherry\"}\n",
    "this_set.pop()\n",
    "# print(x)\n",
    "print(this_set)\n",
    "# print()"
   ]
  },
  {
   "cell_type": "code",
   "execution_count": 83,
   "metadata": {},
   "outputs": [
    {
     "name": "stdout",
     "output_type": "stream",
     "text": [
      "{2, 3, 4}\n"
     ]
    }
   ],
   "source": [
    "this_set = {1, 2, 3, 4}\n",
    "this_set.pop()\n",
    "print(this_set)\n",
    "\n"
   ]
  },
  {
   "cell_type": "code",
   "execution_count": 91,
   "metadata": {},
   "outputs": [
    {
     "name": "stdout",
     "output_type": "stream",
     "text": [
      "{'d', 'f', 'e'} \n",
      " {'b', 'c', 'a'} \n",
      " None\n",
      "\n"
     ]
    }
   ],
   "source": [
    "'difference() - Remove all elements of another set from this set.'\n",
    "this_set = {1, 2, 3, 4}\n",
    "that_set = {1, 4}\n",
    "diff_set=this_set.difference(that_set)\n",
    "print(diff_set)\n",
    "\n",
    "'difference_update() - Remove all elements of another set from this set.'\n",
    "'The difference_update() returns None indicating the object (set) is mutated.'\n",
    "this_set = {'a', 'b', 'c', 'd', 'e', 'f'}\n",
    "that_set = {'a', 'b', 'c'}\n",
    "result = this_set.difference_update(that_set)\n",
    "print(this_set,'\\n', that_set, '\\n', result)\n",
    "print()"
   ]
  },
  {
   "cell_type": "code",
   "execution_count": 96,
   "metadata": {},
   "outputs": [
    {
     "name": "stdout",
     "output_type": "stream",
     "text": [
      "{'c', 'b', 'a'} \n",
      "\n",
      "\n"
     ]
    }
   ],
   "source": [
    "'intersection() - Return the intersection of two sets as a new set.'\n",
    "# this_set = {1, 2, 3, 4}\n",
    "# that_set = {1, 2}\n",
    "# inter_set = this_set.intersection(that_set)\n",
    "# print(inter_set)\n",
    "# print(this_set)\n",
    "\n",
    "'intersection_update() - Return the intersection of two sets in this set.'\n",
    "'The intersection_update() returns None indicating the object (set) is mutated.'\n",
    "this_set = {'a', 'b', 'c', 'd', 'e', 'f'}\n",
    "that_set = {'a', 'b', 'c'}\n",
    "result = this_set.intersection_update(that_set)\n",
    "print(this_set,'\\n')\n",
    "print()"
   ]
  },
  {
   "cell_type": "code",
   "execution_count": 97,
   "metadata": {},
   "outputs": [
    {
     "name": "stdout",
     "output_type": "stream",
     "text": [
      "{'a', 'f', 'e', 'c', 'b', 'd'}\n",
      "\n"
     ]
    }
   ],
   "source": [
    "'union() - Return the union of sets as a new set.'\n",
    "'(i.e. all elements that are in either set.)'\n",
    "this_set = {'a', 'b', 'c'}\n",
    "that_set = {'d', 'e', 'f'}\n",
    "union_set = this_set.union(that_set)\n",
    "print(union_set)\n",
    "print()"
   ]
  },
  {
   "cell_type": "code",
   "execution_count": 104,
   "metadata": {},
   "outputs": [
    {
     "name": "stdout",
     "output_type": "stream",
     "text": [
      "True\n",
      "\n"
     ]
    }
   ],
   "source": [
    "'isdisjoint() - Return True if two sets have a null intersection.'\n",
    "# this_set = {1, 2, 3, 4}\n",
    "# that_set = {1, 2}\n",
    "# my_set = {7, 8}\n",
    "# print(this_set.isdisjoint(that_set))\n",
    "# print(this_set.isdisjoint(my_set))\n",
    "\n",
    "'issubset() - Report whether another set contains this set.'\n",
    "# A = {1,2,3,4}\n",
    "# B = {2,3,5}\n",
    "# print(B.issubset(A))   # asks the question - Is B a sub-set of A?\n",
    "\n",
    "'issuperset() - Report whether this set contains another set.'\n",
    "A = {1,2,3,4}\n",
    "B = {1,2}\n",
    "print(A.issuperset(B))   # asks the question - Is this_set a super-set of this_set?\n",
    "\n",
    "'Note: if B is a sub-set of A, then A is a super-set of B.'\n",
    "print()"
   ]
  },
  {
   "cell_type": "code",
   "execution_count": 105,
   "metadata": {},
   "outputs": [
    {
     "name": "stdout",
     "output_type": "stream",
     "text": [
      "4\n",
      "\n"
     ]
    }
   ],
   "source": [
    "'Get the Length of a Set'\n",
    "'To determine how many items a set has, use the \"len()\" method.'\n",
    "this_set = {1,2,3,4}\n",
    "print(len(this_set))\n",
    "print()"
   ]
  },
  {
   "cell_type": "code",
   "execution_count": 106,
   "metadata": {},
   "outputs": [
    {
     "name": "stdout",
     "output_type": "stream",
     "text": [
      "set()\n",
      "\n"
     ]
    }
   ],
   "source": [
    "'Clear Set'\n",
    "'The \"clear()\" method empties the set'\n",
    "# this_set.clear()\n",
    "# print(this_set)\n",
    "print()"
   ]
  },
  {
   "cell_type": "code",
   "execution_count": 43,
   "metadata": {},
   "outputs": [
    {
     "name": "stdout",
     "output_type": "stream",
     "text": [
      "\n"
     ]
    }
   ],
   "source": [
    "'Delete Set'\n",
    "'The \"del\" keyword will delete the set completely'\n",
    "# thisset = {\"apple\", \"banana\", \"cherry\"}\n",
    "# del thisset\n",
    "# print(thisset)\n",
    "print()"
   ]
  },
  {
   "cell_type": "markdown",
   "metadata": {},
   "source": [
    "#### 3 (c). What doesn't work for sets"
   ]
  },
  {
   "cell_type": "code",
   "execution_count": 107,
   "metadata": {},
   "outputs": [
    {
     "name": "stdout",
     "output_type": "stream",
     "text": [
      "{1, 'orange', 'apple'}\n"
     ]
    }
   ],
   "source": [
    "\"indexing won't work for sets since sets are unordered and unindexed\"\n",
    "# this_set = {1,2,3,4}\n",
    "# print(this_set[1])\n",
    "\n",
    "'Sets do not support duplicate items'\n",
    "this_set = {'apple', 'apple', 'apple', 1, 1, 1, 'orange'}\n",
    "print(this_set)"
   ]
  },
  {
   "cell_type": "markdown",
   "metadata": {},
   "source": [
    "#### 3 (d). Conditional Statements on Sets\n",
    "    Help access elements of a set also"
   ]
  },
  {
   "cell_type": "code",
   "execution_count": 110,
   "metadata": {},
   "outputs": [
    {
     "name": "stdout",
     "output_type": "stream",
     "text": [
      "its not present\n",
      "\n"
     ]
    }
   ],
   "source": [
    "'Access set Items'\n",
    "'You cannot access items in a set by referring to an index, since sets are unordered the items has no index.'\n",
    "'But you can loop through the set items using a \"for\" loop.'\n",
    "'or ask if a specified value is present in a set, by using the \"in\" keyword.'\n",
    "\n",
    "'Loop through the set, and print the values:'\n",
    "thisset = {'apple', 'banana', 'cherry'}\n",
    "# for x in thisset:\n",
    "#     print(x)\n",
    "\n",
    "'Check if an item is present in the set'\n",
    "thisset = {\"apple\", \"cherry\"}\n",
    "if \"banana\" in thisset:\n",
    "    print(\"Yes, banana is in this set\")\n",
    "else :\n",
    "    print(\"its not present\")\n",
    "print()"
   ]
  },
  {
   "cell_type": "markdown",
   "metadata": {},
   "source": [
    "# 4. Dictionaries\n",
    "    A dictionary is a collection which is unordered changeable and supports duplicate values.\n",
    "    In Python dictionaries are written with curly brackets, and they have keys and values.\n",
    "    \n",
    "    a. Getting Started\n",
    "    b. Dictionary methods\n",
    "    c. Control flow using Dictionaries\n",
    "    "
   ]
  },
  {
   "cell_type": "markdown",
   "metadata": {},
   "source": [
    "#### 4 (a). Getting started"
   ]
  },
  {
   "cell_type": "code",
   "execution_count": 120,
   "metadata": {},
   "outputs": [
    {
     "name": "stdout",
     "output_type": "stream",
     "text": [
      "{'brand': 'Honda', 'model': 'Mustang', 'year': 2018, 'imported': True, 'engine': 'V6'}\n",
      "\n"
     ]
    }
   ],
   "source": [
    "'Creating a dictionary'\n",
    "# this_dict = {1: [1,2], \"model\": \"Mustang\", \"year\": 1964,\"engine\":\"v6\"}\n",
    "# print(this_dict)\n",
    "\n",
    "'Accessing an element'\n",
    "# brand = this_dict[\"model\"]\n",
    "# print(brand)\n",
    "\n",
    "'Changing and adding a value in the dictionary'\n",
    "this_dict = {\"brand\": \"Ford\", \"model\": \"Mustang\", \"year\": 1964, 'imported': True}\n",
    "this_dict[\"year\"] = 2018\n",
    "this_dict[\"brand\"] = \"Honda\"\n",
    "this_dict['engine'] = 'V6'\n",
    "print(this_dict)\n",
    "print()"
   ]
  },
  {
   "cell_type": "markdown",
   "metadata": {},
   "source": [
    "#### 4 (b). Dictionary Methods\n"
   ]
  },
  {
   "cell_type": "code",
   "execution_count": 123,
   "metadata": {},
   "outputs": [
    {
     "name": "stdout",
     "output_type": "stream",
     "text": [
      "Ford\n",
      "{'brand': 'Ford', 'model': 'Mustang', 'year': 1964, 'imported': True, 'engine': 'V6'}\n",
      "\n"
     ]
    }
   ],
   "source": [
    "'get() - Accessing an element'\n",
    "this_dict ={\"brand\": \"Ford\", \"model\": \"Mustang\", \"year\": 1964, 'imported': True}\n",
    "brand = this_dict.get(\"brand\")\n",
    "print(brand)\n",
    "\n",
    "'update() - add items of one dict into another'\n",
    "this_dict = {\"brand\": \"Ford\", \"model\": \"Mustang\", \"year\": 1964} \n",
    "that_dict = {'imported': True, \"engine\": 'V6'}\n",
    "this_dict.update(that_dict)\n",
    "print(this_dict)\n",
    "print()"
   ]
  },
  {
   "cell_type": "code",
   "execution_count": 127,
   "metadata": {},
   "outputs": [
    {
     "name": "stdout",
     "output_type": "stream",
     "text": [
      "('year', 1964) {'brand': 'Ford', 'model': 'Mustang'}\n",
      "<class 'tuple'>\n",
      "\n"
     ]
    }
   ],
   "source": [
    "'Removing items from the dictionary'\n",
    "'The pop() method removes the item with the specified key name:'\n",
    "# this_dict = {\"brand\": \"Ford\", \"model\": \"Mustang\", \"year\": 1964}\n",
    "# this_dict.pop(\"model\")\n",
    "# print(this_dict)\n",
    "\n",
    "'popitem() - remove and return some (key, value) pair as a tuple'\n",
    "# this_dict ={\"brand\": \"Ford\", \"model\": \"Mustang\", \"year\": 1964}\n",
    "# item = this_dict.popitem()\n",
    "# print(item, this_dict)\n",
    "# print(type(item))\n",
    "# print()"
   ]
  },
  {
   "cell_type": "code",
   "execution_count": 130,
   "metadata": {},
   "outputs": [
    {
     "name": "stdout",
     "output_type": "stream",
     "text": [
      "dict_items([('brand', 'Ford'), ('model', 'Mustang'), ('year', 1964)])\n",
      "\n"
     ]
    }
   ],
   "source": [
    "\"keys() -  a set-like object providing a view on dictionary's keys\"\n",
    "# this_dict ={\"brand\": \"Ford\", \"model\": \"Mustang\", \"year\": 1964}\n",
    "# print(this_dict.keys())\n",
    "    \n",
    "\"values() - an object providing a view on dictionary's values\"\n",
    "# this_dict ={\"brand\": \"Ford\", \"model\": \"Mustang\", \"year\": 1964}\n",
    "# print(this_dict.values())\n",
    "\n",
    "\"items() - a set-like object providing a view on dictionary's items,the output is given in tuples\"\n",
    "# this_dict ={\"brand\": \"Ford\", \"model\": \"Mustang\", \"year\": 1964}\n",
    "# print(this_dict.items())\n",
    "print()"
   ]
  },
  {
   "cell_type": "code",
   "execution_count": 133,
   "metadata": {},
   "outputs": [
    {
     "name": "stdout",
     "output_type": "stream",
     "text": [
      "{}\n",
      "{'brand': 'Ford', 'model': 'Mustang'}\n"
     ]
    },
    {
     "ename": "NameError",
     "evalue": "name 'this_dict' is not defined",
     "output_type": "error",
     "traceback": [
      "\u001b[0;31m---------------------------------------------------------------------------\u001b[0m",
      "\u001b[0;31mNameError\u001b[0m                                 Traceback (most recent call last)",
      "\u001b[0;32m<ipython-input-133-051546901944>\u001b[0m in \u001b[0;36m<module>\u001b[0;34m\u001b[0m\n\u001b[1;32m     11\u001b[0m \u001b[0;34m'del keyword can also delete the dictionary'\u001b[0m\u001b[0;34m\u001b[0m\u001b[0;34m\u001b[0m\u001b[0m\n\u001b[1;32m     12\u001b[0m \u001b[0;32mdel\u001b[0m \u001b[0mthis_dict\u001b[0m\u001b[0;34m\u001b[0m\u001b[0;34m\u001b[0m\u001b[0m\n\u001b[0;32m---> 13\u001b[0;31m \u001b[0mprint\u001b[0m\u001b[0;34m(\u001b[0m\u001b[0mthis_dict\u001b[0m\u001b[0;34m)\u001b[0m                  \u001b[0;31m#this will cause an error because \"thisdict\" no longer exists.\u001b[0m\u001b[0;34m\u001b[0m\u001b[0;34m\u001b[0m\u001b[0m\n\u001b[0m\u001b[1;32m     14\u001b[0m \u001b[0mprint\u001b[0m\u001b[0;34m(\u001b[0m\u001b[0;34m)\u001b[0m\u001b[0;34m\u001b[0m\u001b[0;34m\u001b[0m\u001b[0m\n",
      "\u001b[0;31mNameError\u001b[0m: name 'this_dict' is not defined"
     ]
    }
   ],
   "source": [
    "'clear() - Remove all items from dictionary'\n",
    "this_dict = {\"brand\": \"Ford\", \"model\": \"Mustang\", \"year\": 1964}\n",
    "this_dict.clear()\n",
    "print(this_dict)\n",
    "\n",
    "'The del keyword removes the item with the specified key name:'\n",
    "this_dict ={\"brand\": \"Ford\",\"model\": \"Mustang\",\"year\": 1964}\n",
    "del this_dict[\"year\"]\n",
    "print(this_dict)\n",
    "\n",
    "'del keyword can also delete the dictionary'\n",
    "del this_dict\n",
    "print(this_dict)                  #this will cause an error because \"thisdict\" no longer exists.\n",
    "print()"
   ]
  },
  {
   "cell_type": "markdown",
   "metadata": {},
   "source": []
  },
  {
   "cell_type": "code",
   "execution_count": 150,
   "metadata": {},
   "outputs": [
    {
     "name": "stdout",
     "output_type": "stream",
     "text": [
      "brand\n",
      "model\n",
      "year\n",
      "\n"
     ]
    }
   ],
   "source": [
    "'Print all key names in the dictionary, one by one:'\n",
    "this_dict = {\"brand\": \"Ford\", \"model\": \"Mustang\", \"year\": 1964}\n",
    "for i in this_dict:\n",
    "    print(i)\n",
    "\n",
    "'Print all values in the dictionary, one by one:'\n",
    "# this_dict ={\"brand\": \"Ford\", \"model\": \"Mustang\", \"year\": 1964}\n",
    "# for i in this_dict.values():\n",
    "#     print(i)\n",
    "\n",
    "'check if a key is there in the dictionary '\n",
    "this_dict ={ \"ford\":\"Ford\",\"model\": \"Mustang\", \"year\": 1964}\n",
    "# if 'brand' in this_dict:\n",
    "#     print('Yes')\n",
    "# else:\n",
    "#     print('No')\n",
    "    \n",
    "'check if a value is there in the dictionary '\n",
    "# if 'Ford' in this_dict.values():\n",
    "#     print('Yes')\n",
    "# else:\n",
    "#     print('No')\n",
    "print()"
   ]
  },
  {
   "cell_type": "code",
   "execution_count": 58,
   "metadata": {},
   "outputs": [
    {
     "name": "stdout",
     "output_type": "stream",
     "text": [
      "enter your first no5.5\n",
      "enter your second no4.5\n",
      "10.0\n"
     ]
    }
   ],
   "source": [
    "x = float(input(\"enter your first no\"))\n",
    "y = float(input(\"enter your second no\"))\n",
    "sum=x+y\n",
    "print(sum)"
   ]
  },
  {
   "cell_type": "code",
   "execution_count": null,
   "metadata": {},
   "outputs": [],
   "source": []
  }
 ],
 "metadata": {
  "kernelspec": {
   "display_name": "Python 3",
   "language": "python",
   "name": "python3"
  },
  "language_info": {
   "codemirror_mode": {
    "name": "ipython",
    "version": 3
   },
   "file_extension": ".py",
   "mimetype": "text/x-python",
   "name": "python",
   "nbconvert_exporter": "python",
   "pygments_lexer": "ipython3",
   "version": "3.7.4"
  }
 },
 "nbformat": 4,
 "nbformat_minor": 2
}
