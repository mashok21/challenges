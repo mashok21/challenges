{
 "cells": [
  {
   "cell_type": "markdown",
   "metadata": {},
   "source": [
    "Q.6 The program that you create for this exercise will begin by reading the cost of a meal ordered at a restaurant from the user. Then your program will compute the tax and tip for the meal. Use your local tax rate when computing the amount of tax owing. Compute the tip as 18 percent of the meal amount (without the tax). The output from your program should include the tax amount, the tip amount, and the grand total for the meal including both the tax and the tip. Format the output so that all of the values are displayed using two decimal places."
   ]
  },
  {
   "cell_type": "code",
   "execution_count": 17,
   "metadata": {},
   "outputs": [
    {
     "name": "stdout",
     "output_type": "stream",
     "text": [
      "Enter the menu price of a meal: 64.64\n",
      "Enter the tax rate for a meal: 4.64\n",
      "Enter the tip amount: 1465.6464\n",
      "\n",
      "\n",
      "Menu price of meal: $64.64\n",
      "Tax on menu price of meal: $3.00\n",
      "Tips added by you: $1465.65\n",
      "Total Bill Value is: $1571.66\n"
     ]
    }
   ],
   "source": [
    "cost_meal = float(input(\"Enter the menu price of a meal: \"))\n",
    "tax_rate = float(input(\"Enter the tax rate for a meal: \"))\n",
    "tip = float(input(\"Enter the tip amount: \"))\n",
    "print(\"\\n\")\n",
    "grand_total = (cost_meal + (cost_meal*tax/100) + tip)\n",
    "print(f\"Menu price of meal: ${cost_meal:.2f}\")\n",
    "print(f\"Tax on menu price of meal: ${cost_meal*tax_rate/100:.2f}\")\n",
    "print(f\"Tips added by you: ${tip:.2f}\")\n",
    "print(f\"Total Bill Value is: ${grand_total:.2f}\")\n"
   ]
  },
  {
   "cell_type": "markdown",
   "metadata": {},
   "source": [
    "Q9. In the United States, fuel efficiency for vehicles is normally expressed in miles-per- gallon (MPG). In Canada, fuel efficiency is normally expressed in liters-per-hundred kilometers (L/100 km). Use your research skills to determine how to convert from MPG to L/100 km. Then create a program that reads a value from the user in American units and displays the equivalent fuel efficiency in Canadian units."
   ]
  },
  {
   "cell_type": "code",
   "execution_count": 19,
   "metadata": {},
   "outputs": [
    {
     "name": "stdout",
     "output_type": "stream",
     "text": [
      "Enter miles per gallon stats for the vehicle: 12.50\n",
      "The equivalent kilometres per hundred litres is this: 532.41\n"
     ]
    }
   ],
   "source": [
    "miles_per_gallon = float(input(\"Enter miles per gallon stats for the vehicle: \"))\n",
    "conv_factor = 1.61 * 100/ 3.78\n",
    "kmp_100_litres = miles_per_gallon * conv_factor\n",
    "print(f\"The equivalent kilometres per hundred litres is this: {kmp_100_litres:.2f}\")"
   ]
  },
  {
   "cell_type": "code",
   "execution_count": null,
   "metadata": {},
   "outputs": [],
   "source": []
  }
 ],
 "metadata": {
  "kernelspec": {
   "display_name": "Python 3",
   "language": "python",
   "name": "python3"
  },
  "language_info": {
   "codemirror_mode": {
    "name": "ipython",
    "version": 3
   },
   "file_extension": ".py",
   "mimetype": "text/x-python",
   "name": "python",
   "nbconvert_exporter": "python",
   "pygments_lexer": "ipython3",
   "version": "3.7.4"
  }
 },
 "nbformat": 4,
 "nbformat_minor": 2
}
