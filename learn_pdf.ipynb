{
 "cells": [
  {
   "cell_type": "code",
   "execution_count": 9,
   "id": "a2dec525",
   "metadata": {},
   "outputs": [
    {
     "name": "stdout",
     "output_type": "stream",
     "text": [
      "Requirement already satisfied: pip in c:\\users\\ashok\\anaconda3\\lib\\site-packages (21.0.1)\n",
      "Collecting pip\n",
      "  Using cached pip-21.2.4-py3-none-any.whl (1.6 MB)\n",
      "Installing collected packages: pip\n",
      "  Attempting uninstall: pip\n",
      "    Found existing installation: pip 21.0.1\n",
      "    Uninstalling pip-21.0.1:\n",
      "      Successfully uninstalled pip-21.0.1\n",
      "Successfully installed pip-21.2.4\n",
      "Note: you may need to restart the kernel to use updated packages.\n"
     ]
    }
   ],
   "source": [
    "pip install --upgrade pip"
   ]
  },
  {
   "cell_type": "code",
   "execution_count": 3,
   "id": "295c9353",
   "metadata": {},
   "outputs": [
    {
     "name": "stdout",
     "output_type": "stream",
     "text": [
      "Requirement already satisfied: PyPDF2 in c:\\users\\ashok\\anaconda3\\lib\\site-packages (1.26.0)\n",
      "Note: you may need to restart the kernel to use updated packages.\n"
     ]
    }
   ],
   "source": [
    "pip install PyPDF2"
   ]
  },
  {
   "cell_type": "code",
   "execution_count": 4,
   "id": "c474b5d7",
   "metadata": {},
   "outputs": [],
   "source": [
    "import PyPDF2"
   ]
  },
  {
   "cell_type": "code",
   "execution_count": 6,
   "id": "0f34d6ad",
   "metadata": {},
   "outputs": [],
   "source": [
    "f = open('finance.pdf', 'rb')"
   ]
  },
  {
   "cell_type": "code",
   "execution_count": 8,
   "id": "7e742c3a",
   "metadata": {},
   "outputs": [],
   "source": [
    "pdf_reader = PyPDF2.PdfFileReader(f)"
   ]
  },
  {
   "cell_type": "code",
   "execution_count": 9,
   "id": "910c1a0d",
   "metadata": {},
   "outputs": [
    {
     "ename": "TypeError",
     "evalue": "'int' object is not callable",
     "output_type": "error",
     "traceback": [
      "\u001b[1;31m---------------------------------------------------------------------------\u001b[0m",
      "\u001b[1;31mTypeError\u001b[0m                                 Traceback (most recent call last)",
      "\u001b[1;32m<ipython-input-9-7ed845c896cc>\u001b[0m in \u001b[0;36m<module>\u001b[1;34m\u001b[0m\n\u001b[1;32m----> 1\u001b[1;33m \u001b[0mpdf_reader\u001b[0m\u001b[1;33m.\u001b[0m\u001b[0mnumPages\u001b[0m\u001b[1;33m(\u001b[0m\u001b[1;33m)\u001b[0m\u001b[1;33m\u001b[0m\u001b[1;33m\u001b[0m\u001b[0m\n\u001b[0m",
      "\u001b[1;31mTypeError\u001b[0m: 'int' object is not callable"
     ]
    }
   ],
   "source": [
    "pdf_reader.numPages()"
   ]
  },
  {
   "cell_type": "code",
   "execution_count": 13,
   "id": "e804b728",
   "metadata": {},
   "outputs": [],
   "source": [
    "page_one = pdf_reader.getPage(200)"
   ]
  },
  {
   "cell_type": "code",
   "execution_count": 14,
   "id": "699f9a98",
   "metadata": {},
   "outputs": [],
   "source": [
    "page_one_text = page_one.extractText()"
   ]
  },
  {
   "cell_type": "code",
   "execution_count": 15,
   "id": "fc8e15b0",
   "metadata": {},
   "outputs": [
    {
     "data": {
      "text/plain": [
       "'wish to evaluate the consequences of increased slowness in trade payments on the creditstanding of the Þrm and its ability to Þnance in the future. It is also revealing to analyze the\\nmix of short- and long-term Þnancing in relation to the funds needs of the Þrm. If these needsare primarily for Þxed assets and permanent increases in current assets, you might be dis-turbed if a signiÞcant portion of total Þnancing came from short-term sources.An analysis of a funds statement for the future will be extremely valuable to you as theÞnancial manager in planning intermediate- and long-term Þnancing of the Þrm. It reveals\\nthe ÞrmÕs total prospective need for funds, the expected timing of these needs, and theirnature Ð that is,whether the increased investment is primarily for inventories, Þxed assets, and\\nso forth. Given this information, along with the expected changes in trade payables and the\\nvarious accruals, you can arrange the ÞrmÕs Þnancing more effectively. In addition, you can\\ndetermine the expected closing cash position of the Þrm simply by adjusting the beginning\\ncash balance for the change in cash reßected on the projected sources and uses statement. \\nIn essence, the projected change in cash is a residual. Alternatively, you can forecast futurecash positions of the Þrm through a cash budget, where direct estimates of the future cashßows are made.Accounting Statement of Cash Flows\\nThe purpose of the statement of cash ßowsis to report a ÞrmÕs cash inßows and outßows,during a period of time, segregated into three categories: operating, investing, and Þnancingactivities. This statement is required under Statement of Financial Accounting Standards(SFAS) No. 95. When used with the information contained in the other two basic Þnancialstatements and their related disclosures, it should help the Þnancial manager to assess and\\nidentifyla companyÕs ability to generate future net cash inßows from operations to pay debts,interest, and dividendsla companyÕs need for external Þnancinglthe reasons for differences between net income and net cash ßow from operating activitieslthe effects of cash and noncash investing and Þnancing transactions.2lllContent and Alternative Forms of the Statement\\nThe statement of cash ßows explains changes in cash (and cash equivalents, such as Treasury\\nbills) by listing the activities that increased cash and those that decreased cash. Each activityÕs\\ncash inßow or outßow is segregated according to one of three broad category types: operat-ing, investing, or Þnancing activity. Table 7.4 lists the activities found most often in a typicalstatement of cash ßows grouped according to the three required major categories.The cash ßow statement may be presented using either a Òdirect methodÓ (which is encour-aged by the Financial Accounting Standards Board because it is easier to understand) or an\\nÒindirect methodÓ (which is likely to be the method followed by a good majority of Þrmsbecause it is easier to prepare). Making use of both methods, alternative cash ßow statements\\nfor the Aldine Manufacturing Company are presented in Table 7.5. (In addition, we share\\nwith you a worksheet Ð Table 7.6 Ð that we used to determine some of the operating activity2The cash ßow statementÕs biggest shortcoming is that important current period noncash transactions that may affectcash ßow in future periods are omitted from the statement itself. For example, obtaining an asset by entering a cap-ital lease would not be reported on a cash ßow statement but would appear on a sources and uses statement. Onlythrough disclosures (notes) to the Þnancial statements and the preparation of a funds statement will users be able toround out the cash ßow statement to get an understanding of the full scope of a companyÕs investing and Þnancing\\ntransactions.Part 3Tools of Financial Analysis and Planning176¥¥Statement of cashßowsA summary of a ÞrmÕs cash receipts\\nand cash payments\\nduring a period oftime.FUNO_C07.qxd  9/19/08  16:56  Page 176'"
      ]
     },
     "execution_count": 15,
     "metadata": {},
     "output_type": "execute_result"
    }
   ],
   "source": [
    "page_one_text"
   ]
  },
  {
   "cell_type": "code",
   "execution_count": 16,
   "id": "42375bbc",
   "metadata": {},
   "outputs": [],
   "source": [
    "f.close()"
   ]
  },
  {
   "cell_type": "code",
   "execution_count": null,
   "id": "74b6163f",
   "metadata": {},
   "outputs": [],
   "source": []
  }
 ],
 "metadata": {
  "kernelspec": {
   "display_name": "Python 3",
   "language": "python",
   "name": "python3"
  },
  "language_info": {
   "codemirror_mode": {
    "name": "ipython",
    "version": 3
   },
   "file_extension": ".py",
   "mimetype": "text/x-python",
   "name": "python",
   "nbconvert_exporter": "python",
   "pygments_lexer": "ipython3",
   "version": "3.8.8"
  }
 },
 "nbformat": 4,
 "nbformat_minor": 5
}
