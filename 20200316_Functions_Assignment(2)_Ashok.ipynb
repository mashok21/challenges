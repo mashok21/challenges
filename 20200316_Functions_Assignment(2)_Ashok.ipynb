{
 "cells": [
  {
   "cell_type": "markdown",
   "metadata": {},
   "source": [
    "Exercise 1\n",
    "Write a shutting down program:\n",
    "\n",
    "First, def a function, shut_down, that takes one argument s.\n",
    "Then, if the shut_down function receives an s equal to \"yes\",\n",
    "it should return \"Shutting down\" Alternatively, elif s is equal to \"no\",\n",
    "then the function should return \"Shutdown aborted\".\n",
    "Finally, if shut_down gets anything other than those inputs,\n",
    "the function should return \"Sorry\"."
   ]
  },
  {
   "cell_type": "code",
   "execution_count": 6,
   "metadata": {
    "scrolled": true
   },
   "outputs": [
    {
     "name": "stdout",
     "output_type": "stream",
     "text": [
      "Shutting down\n",
      "Shutdown aborted\n",
      "Sorry\n"
     ]
    }
   ],
   "source": [
    "def shut_down(s):\n",
    "    if s.upper().strip() == 'YES':\n",
    "        return 'Shutting down'\n",
    "    elif s.upper().strip() == 'NO':\n",
    "        return 'Shutdown aborted'\n",
    "    else:\n",
    "        return 'Sorry'\n",
    "    \n",
    "print(shut_down('YeS '))\n",
    "print(shut_down(' nO'))\n",
    "print(shut_down(' '))"
   ]
  },
  {
   "cell_type": "markdown",
   "metadata": {},
   "source": [
    "Exercise 2\n",
    "First, def a function called distance_from_zero,\n",
    "with one argument (choose any argument name you like).\n",
    "If the type of the argument is either int or float, the function should return\n",
    "the absolute value of the function input. Otherwise, the function should return \"Nope\".\n",
    "Check if it works calling the function with -5.6 and \"what?\"."
   ]
  },
  {
   "cell_type": "code",
   "execution_count": 52,
   "metadata": {},
   "outputs": [
    {
     "name": "stdout",
     "output_type": "stream",
     "text": [
      "5.6\n",
      "Nope\n"
     ]
    }
   ],
   "source": [
    "def distance_from_zero(val):\n",
    "    if type(val) is int or type(val) is float:\n",
    "        return abs(val)\n",
    "    else:\n",
    "        return 'Nope'\n",
    "\n",
    "print(distance_from_zero(-5.6))\n",
    "print(distance_from_zero('what'))"
   ]
  },
  {
   "cell_type": "markdown",
   "metadata": {},
   "source": [
    "Exercise 3\n",
    "Let's use functions to calculate your trip's costs:\n",
    "\n",
    "Define a function called hotel_cost with one argument nights as input.\n",
    "The hotel costs $140 per night. So, the function hotel_cost should return 140 * nights.\n",
    "Define a function called plane_ride_cost that takes a string, city, as input.\n",
    "The function should return a different price depending on the location.\n",
    "Below are the valid destinations and their corresponding round-trip prices.\n",
    "\n",
    "\"Charlotte\": 183\n",
    "\"Tampa\": 220\n",
    "\"Pittsburgh\": 222\n",
    "\"Los Angeles\": 475\n",
    "-Below your existing code, define a function called rental_car_cost with an argument called days. Calculate the cost of renting the car: Every day you rent the car costs $40.(cost=40*days) if you rent the car for 7 or more days, you get $50 off your total(cost-=50). Alternatively (elif), if you rent the car for 3 or more days, you get $20 off your total. You cannot get both of the above discounts. Return that cost. -Then, define a function called trip_cost that takes two arguments, city and days. Like the example above, have your function return the sum of calling the rental_car_cost(days), hotel_cost(days), and plane_ride_cost(city) functions.\n",
    "Modify your trip_cost function definion. Add a third argument, spending_money. Modify what the trip_cost function does. Add the variable `spending_money to the sum that it returns."
   ]
  },
  {
   "cell_type": "code",
   "execution_count": 25,
   "metadata": {},
   "outputs": [
    {
     "data": {
      "text/plain": [
       "1743"
      ]
     },
     "execution_count": 25,
     "metadata": {},
     "output_type": "execute_result"
    }
   ],
   "source": [
    "def trip_cost(city, days, spending_money):\n",
    "    \n",
    "    city = ['Charlotte', 'Tampa', 'Pittsburg', 'Los Angeles']\n",
    "    cost = [183, 220, 222, 475]\n",
    "    car_rental_daily = 40\n",
    "    disount_7d = 50\n",
    "    disount_3d = 20\n",
    "        \n",
    "    def plane_ride_cost(city):\n",
    "        if city[0]:\n",
    "            return cost[0]\n",
    "        elif city[1]:\n",
    "            return cost[1]\n",
    "        elif city[2]:\n",
    "            return cost[2]\n",
    "        elif city[3]:\n",
    "            return city[3]\n",
    "    \n",
    "    def hotel_cost(days):\n",
    "        nights = days - 1\n",
    "        return 140*nights\n",
    "      \n",
    "    def rental_car_cost(days):\n",
    "    \n",
    "        cost = days * car_rental_daily\n",
    "        \n",
    "        if days >= 7:\n",
    "            cost -= disount_7d \n",
    "            return cost\n",
    "        elif days >= 3 and days < 7:\n",
    "            cost -= disount_3d \n",
    "            return cost\n",
    "        else:\n",
    "            return cost\n",
    "    \n",
    "    trip_cost = plane_ride_cost(city) + hotel_cost(days)  + rental_car_cost(days)\n",
    "    \n",
    "    return trip_cost + spending_money\n",
    "\n",
    "trip_cost('Charlotte', 4, 1000)"
   ]
  },
  {
   "cell_type": "markdown",
   "metadata": {},
   "source": [
    "Exercise 4\n",
    "Follow the steps:\n",
    "\n",
    "First, def a function called cube that takes an argument called number.\n",
    "Make that function return the cube of that number (i.e. that number multiplied by itself and multiplied by itself once again).\n",
    "Define a second function called by_three that takes an argument called number.\n",
    "if that number is divisible by 3, by_three should call cube(number) and return its result.\n",
    "Otherwise, by_three should return False. -Check if it works."
   ]
  },
  {
   "cell_type": "code",
   "execution_count": 49,
   "metadata": {},
   "outputs": [
    {
     "data": {
      "text/plain": [
       "False"
      ]
     },
     "execution_count": 49,
     "metadata": {},
     "output_type": "execute_result"
    }
   ],
   "source": [
    "def cube(number):\n",
    "    return number ** 3\n",
    "\n",
    "def by_three(number):\n",
    "    if number % 3 == 0:\n",
    "        return cube(number)\n",
    "    else:\n",
    "        return False\n",
    "    \n",
    "\n",
    "\n",
    "by_three(13)"
   ]
  },
  {
   "cell_type": "code",
   "execution_count": null,
   "metadata": {},
   "outputs": [],
   "source": []
  }
 ],
 "metadata": {
  "kernelspec": {
   "display_name": "Python 3",
   "language": "python",
   "name": "python3"
  },
  "language_info": {
   "codemirror_mode": {
    "name": "ipython",
    "version": 3
   },
   "file_extension": ".py",
   "mimetype": "text/x-python",
   "name": "python",
   "nbconvert_exporter": "python",
   "pygments_lexer": "ipython3",
   "version": "3.7.4"
  }
 },
 "nbformat": 4,
 "nbformat_minor": 2
}
