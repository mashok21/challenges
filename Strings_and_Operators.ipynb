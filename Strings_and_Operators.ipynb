{
 "cells": [
  {
   "cell_type": "markdown",
   "metadata": {},
   "source": [
    "# Strings\n"
   ]
  },
  {
   "cell_type": "code",
   "execution_count": 139,
   "metadata": {},
   "outputs": [
    {
     "name": "stdout",
     "output_type": "stream",
     "text": [
      "let go \" to aditya's place Hi\n"
     ]
    }
   ],
   "source": [
    "x='let go \" to aditya\\'s place'\n",
    "print(x,y)\n"
   ]
  },
  {
   "cell_type": "code",
   "execution_count": 15,
   "metadata": {},
   "outputs": [
    {
     "name": "stdout",
     "output_type": "stream",
     "text": [
      "hey,he said \"lets go to aditya's place\"\n"
     ]
    }
   ],
   "source": [
    "y = '''hey,he said \"lets go to aditya's place\"'''\n",
    "print(y)"
   ]
  },
  {
   "cell_type": "code",
   "execution_count": 142,
   "metadata": {},
   "outputs": [
    {
     "name": "stdout",
     "output_type": "stream",
     "text": [
      "hi\n"
     ]
    }
   ],
   "source": [
    "\"hi how are you\"\n",
    "y=\"hi\"\n",
    "print(y)"
   ]
  },
  {
   "cell_type": "code",
   "execution_count": 149,
   "metadata": {},
   "outputs": [
    {
     "name": "stdout",
     "output_type": "stream",
     "text": [
      "Hi\n",
      "my\n",
      "name\n",
      "is \n",
      "Aditya\n"
     ]
    }
   ],
   "source": [
    "# Multiline string\n",
    "\n",
    "a = '''Hi\n",
    "my\n",
    "name\n",
    "is \n",
    "Aditya'''\n",
    "\n",
    "print(a)"
   ]
  },
  {
   "cell_type": "markdown",
   "metadata": {},
   "source": [
    "indexing\n"
   ]
  },
  {
   "cell_type": "code",
   "execution_count": 150,
   "metadata": {},
   "outputs": [
    {
     "name": "stdout",
     "output_type": "stream",
     "text": [
      "h\n",
      "o\n"
     ]
    }
   ],
   "source": [
    "# Accessing a letter in a string\n",
    "#the indexing starts with 0\n",
    "\n",
    "a = \"hello\" #0=h , 1=e, 2=l ,3=l ,4=o \n",
    "print(a[0])\n",
    "print(a[4])"
   ]
  },
  {
   "cell_type": "code",
   "execution_count": 187,
   "metadata": {},
   "outputs": [
    {
     "name": "stdout",
     "output_type": "stream",
     "text": [
      "ello\n",
      "ello\n",
      " olle\n"
     ]
    }
   ],
   "source": [
    "# getting a range of characters\n",
    "\n",
    "a = \"Hello World!\"\n",
    "b = a[1:5]          # var[starting_point : ending point : step]\n",
    "c = a[1:5:1] \n",
    "print(b)\n",
    "print(c)\n",
    "print(a[5:0:-1])      #printing string in reverse direction"
   ]
  },
  {
   "cell_type": "code",
   "execution_count": 42,
   "metadata": {},
   "outputs": [
    {
     "name": "stdout",
     "output_type": "stream",
     "text": [
      "cdef\n"
     ]
    }
   ],
   "source": [
    "# Substring. Get the characters from position 2 to position 5 (not included):\n",
    "\n",
    "b = \"abcdefghij\"\n",
    "print(b[2:6])"
   ]
  },
  {
   "cell_type": "code",
   "execution_count": 214,
   "metadata": {},
   "outputs": [
    {
     "name": "stdout",
     "output_type": "stream",
     "text": [
      "hello hi hello hihi 3\n"
     ]
    }
   ],
   "source": [
    "#The len() method returns the length of a string:\n",
    "\n",
    "x  = \"hello\"\n",
    "len(x)\n",
    "a = \"hello hi hello hihi\"\n",
    "cap_a = a.count(\"hi\")\n",
    "\n",
    "print(a, cap_a)"
   ]
  },
  {
   "cell_type": "code",
   "execution_count": 208,
   "metadata": {},
   "outputs": [
    {
     "name": "stdout",
     "output_type": "stream",
     "text": [
      "ahelloaa\n"
     ]
    }
   ],
   "source": [
    "a = \"hello\"\n",
    "cap_a = a.center(8,\"a\")\n",
    "\n",
    "print(cap_a)"
   ]
  },
  {
   "cell_type": "code",
   "execution_count": 229,
   "metadata": {},
   "outputs": [
    {
     "name": "stdout",
     "output_type": "stream",
     "text": [
      "hellLO, WORLD!\n",
      "LO, WORLD!\n"
     ]
    }
   ],
   "source": [
    "#The lower() method returns the string in lower case:\n",
    "\n",
    "a = \"HELLO, WORLD!\"\n",
    "b=a[3::]\n",
    "a = a[0:4].lower()\n",
    "\n",
    "print(a)\n",
    "print(b)\n",
    "\n",
    "# a.replace"
   ]
  },
  {
   "cell_type": "code",
   "execution_count": 71,
   "metadata": {},
   "outputs": [
    {
     "name": "stdout",
     "output_type": "stream",
     "text": [
      "Time\n"
     ]
    },
    {
     "data": {
      "text/plain": [
       "'Hello, W   orld!'"
      ]
     },
     "execution_count": 71,
     "metadata": {},
     "output_type": "execute_result"
    }
   ],
   "source": [
    "# The strip() method removes any whitespace from the beginning or the end:\n",
    "\n",
    "a = \"   Hello, W   orld!   \"\n",
    "print(str.strip(\"  Time   \"))       \n",
    "a.strip()\n",
    "\n",
    "\n",
    "# a = \" hello\"\n",
    "# b = \"hello\""
   ]
  },
  {
   "cell_type": "code",
   "execution_count": 235,
   "metadata": {},
   "outputs": [
    {
     "name": "stdout",
     "output_type": "stream",
     "text": [
      "Hello, Friend Friend World!\n"
     ]
    }
   ],
   "source": [
    "# The replace() method replaces a string with another string:\n",
    "\n",
    "a = \"Hello, World World World!\"\n",
    "print(a.replace(\"World\", \"Friend\",2))\n"
   ]
  },
  {
   "cell_type": "code",
   "execution_count": 240,
   "metadata": {},
   "outputs": [
    {
     "name": "stdout",
     "output_type": "stream",
     "text": [
      "['0, 1, 2, 3, 4']\n"
     ]
    }
   ],
   "source": [
    "# The split() method splits the string into substrings if it finds instances of the separator:\n",
    "\n",
    "string = \"0, 1, 2, 3, 4\"\n",
    "split_list = string.split(',2')\n",
    "print(split_list)    \n",
    "# a=str(split_list)\n",
    "# type(a)\n",
    "# string = 'Hello World'\n",
    "# split_list = string.split?\n",
    "# split_list"
   ]
  },
  {
   "cell_type": "code",
   "execution_count": 98,
   "metadata": {},
   "outputs": [
    {
     "data": {
      "text/plain": [
       "'hello'"
      ]
     },
     "execution_count": 98,
     "metadata": {},
     "output_type": "execute_result"
    }
   ],
   "source": [
    "a=\"hello\"\n",
    "a.lower()"
   ]
  },
  {
   "cell_type": "markdown",
   "metadata": {},
   "source": [
    "String Representaton \n"
   ]
  },
  {
   "cell_type": "code",
   "execution_count": 243,
   "metadata": {},
   "outputs": [
    {
     "name": "stdout",
     "output_type": "stream",
     "text": [
      "My age is 50\n",
      "My age is 50\n",
      "I wanted to wish you hi hello\n"
     ]
    }
   ],
   "source": [
    "a = 100\n",
    "b = 50\n",
    "print('My age is', a-b)\n",
    "print(f'My age is {a-b}') #f string\n",
    "\n",
    "x = \"I wanted to wish you {} {}\"\n",
    "print(x.format(\"hi\",\"hello\"))\n",
    "# print(\"hi {}\",format(\"vivek\"))"
   ]
  },
  {
   "cell_type": "code",
   "execution_count": 249,
   "metadata": {},
   "outputs": [
    {
     "name": "stdout",
     "output_type": "stream",
     "text": [
      "I'm 3 from Byte academy\n"
     ]
    }
   ],
   "source": [
    "a=5\n",
    "b=2\n",
    "print(\"I'm %s from Byte academy\" %(a-b))"
   ]
  },
  {
   "cell_type": "code",
   "execution_count": 106,
   "metadata": {},
   "outputs": [
    {
     "name": "stdout",
     "output_type": "stream",
     "text": [
      "I'm Ashwin from Byte\n"
     ]
    }
   ],
   "source": [
    "print(\"I'm %s from %s\" %('Ashwin','Byte'))"
   ]
  },
  {
   "cell_type": "code",
   "execution_count": 250,
   "metadata": {},
   "outputs": [
    {
     "name": "stdout",
     "output_type": "stream",
     "text": [
      "I'm 10 from 20\n"
     ]
    }
   ],
   "source": [
    "x, y = 10.25, 20.25\n",
    "print(\"I'm %i from %i\"%(x,y)) #used for integer representation inside the string "
   ]
  },
  {
   "cell_type": "code",
   "execution_count": 262,
   "metadata": {},
   "outputs": [
    {
     "name": "stdout",
     "output_type": "stream",
     "text": [
      "the number is 10.254455\n"
     ]
    }
   ],
   "source": [
    "number = 10.254454547885865\n",
    "print(\"the number is %f\"%(number)) #used for float representation "
   ]
  },
  {
   "cell_type": "markdown",
   "metadata": {},
   "source": [
    "# Operators"
   ]
  },
  {
   "cell_type": "markdown",
   "metadata": {},
   "source": [
    "Python Operators:\n",
    "\n",
    "Operators are used to perform operations on variables and values.\n",
    "\n",
    "Python divides the operators in the following groups:\n",
    "\n",
    "Arithmetic operators\n",
    "Assignment operators\n",
    "Comparison operators\n",
    "Logical operators\n",
    "Identity operators\n",
    "Membership operators"
   ]
  },
  {
   "cell_type": "markdown",
   "metadata": {},
   "source": [
    "Arithmetic operators\n",
    "\n",
    "Arithmetic operators are used with numeric values to perform common mathematical operations:"
   ]
  },
  {
   "cell_type": "code",
   "execution_count": null,
   "metadata": {},
   "outputs": [],
   "source": [
    "'''\n",
    "+\tAddition\tx + y\t\n",
    "\n",
    "-\tSubtraction\tx - y\t\n",
    "\n",
    "*\tMultiplication\tx * y\t\n",
    "\n",
    "/\tDivision\tx / y\t\n",
    "\n",
    "%\tModulus\tx % y\t\n",
    "\n",
    "**\tExponentiation\tx ** y\t\n",
    "\n",
    "//\tFloor division\tx // y '''"
   ]
  },
  {
   "cell_type": "code",
   "execution_count": 267,
   "metadata": {},
   "outputs": [
    {
     "name": "stdout",
     "output_type": "stream",
     "text": [
      "2\n"
     ]
    }
   ],
   "source": [
    "x = 5\n",
    "y = 2\n",
    "z = x//y\n",
    "print(z)"
   ]
  },
  {
   "cell_type": "markdown",
   "metadata": {},
   "source": [
    "Python Assignment Operators\n",
    "\n",
    "Assignment operators are used to assign values to variables:"
   ]
  },
  {
   "cell_type": "code",
   "execution_count": 268,
   "metadata": {},
   "outputs": [],
   "source": [
    "# =    \tx = 5   \t    x = 5\n",
    "\n",
    "# x = 5\n",
    "\n",
    "# #    +=   \tx += 5  \t    x = x + 5\n",
    "\n",
    "x = x + 5\n",
    "x += 5\n",
    "\n",
    "# print(x)\n",
    "    \n",
    "# #    -=   \tx -= 3  \t    x = x - 3\n",
    "\n",
    "x -= 5\n",
    "# print(x)\n",
    "   \n",
    "# #    *=   \tx *= 3  \t    x = x * 3\n",
    "\n",
    "x *= 5\n",
    "x = x*5\n",
    "# print(x)\n",
    "\n",
    "   \n",
    "#    /=   \tx /= 3  \t    x = x / 3\n",
    "   \n",
    "#    %=   \tx %= 3  \t    x = x % 3\n",
    "   \n",
    "#    //=  \tx //= 3 \t    x = x // 3\n",
    "\n",
    "x = 10\n",
    "x//= 3\n",
    "x = x//3\n",
    "   \n",
    "#    **=  \tx **= 3 \t    x = x ** 3\n",
    "x = 10\n",
    "x **= 5\n",
    "x = x**5"
   ]
  },
  {
   "cell_type": "code",
   "execution_count": 272,
   "metadata": {},
   "outputs": [
    {
     "name": "stdout",
     "output_type": "stream",
     "text": [
      "10\n"
     ]
    }
   ],
   "source": [
    "a=5\n",
    "a += 5 \n",
    "print(a)"
   ]
  },
  {
   "cell_type": "markdown",
   "metadata": {},
   "source": [
    "Python Comparison Operators\n",
    "\n",
    "Comparison operators are used to compare two values:"
   ]
  },
  {
   "cell_type": "code",
   "execution_count": 276,
   "metadata": {},
   "outputs": [
    {
     "name": "stdout",
     "output_type": "stream",
     "text": [
      "False\n",
      "True\n",
      "True\n",
      "False\n"
     ]
    }
   ],
   "source": [
    "a = 10\n",
    "b = 20\n",
    "print(a==b) # asking the question is a  equal to b?\n",
    "print(a!=b)\n",
    "print(a<=b)\n",
    "print(a>=b)"
   ]
  },
  {
   "cell_type": "code",
   "execution_count": 119,
   "metadata": {},
   "outputs": [
    {
     "name": "stdout",
     "output_type": "stream",
     "text": [
      "\n",
      "\n",
      "z is greatest\n"
     ]
    }
   ],
   "source": [
    "'''==   \tEqual                       \tx == y\n",
    "\n",
    "   !=   \tNot equal                   \tx != y\n",
    "   \n",
    "   >    \tGreater than                \tx > y\n",
    "   \n",
    "   <    \tLess than                   \tx < y\n",
    "   \n",
    "   >=   \tGreater than or equal to    \tx >= y\n",
    "   \n",
    "   <=   \tLess than or equal to       \tx <= y'''\n",
    "\n",
    "print('\\n')\n",
    "\n",
    "\n",
    "x = 10\n",
    "y = 20\n",
    "z = 30\n",
    "\n",
    "if x>y and x>z :\n",
    "    print('x is greatest')\n",
    "elif y>x and y>z:\n",
    "    print('y is greatest')\n",
    "elif z>x and z>y:\n",
    "    print('z is greatest')\n",
    "else:\n",
    "    print('something')"
   ]
  },
  {
   "cell_type": "markdown",
   "metadata": {},
   "source": [
    "Python Comparison Operators\n",
    "\n",
    "Comparison operators are used to compare two values:"
   ]
  },
  {
   "cell_type": "code",
   "execution_count": 120,
   "metadata": {},
   "outputs": [
    {
     "name": "stdout",
     "output_type": "stream",
     "text": [
      "False\n",
      "True\n",
      "True\n",
      "False\n"
     ]
    }
   ],
   "source": [
    "a = 10\n",
    "b = 20\n",
    "print(a==b) # asking the question is a  equal to b?\n",
    "print(a!=b)\n",
    "print(a<=b)\n",
    "print(a>=b)"
   ]
  },
  {
   "cell_type": "code",
   "execution_count": 121,
   "metadata": {},
   "outputs": [
    {
     "name": "stdout",
     "output_type": "stream",
     "text": [
      "\n",
      "\n",
      "z is greatest\n"
     ]
    }
   ],
   "source": [
    "'''==   \tEqual                       \tx == y\n",
    "\n",
    "   !=   \tNot equal                   \tx != y\n",
    "   \n",
    "   >    \tGreater than                \tx > y\n",
    "   \n",
    "   <    \tLess than                   \tx < y\n",
    "   \n",
    "   >=   \tGreater than or equal to    \tx >= y\n",
    "   \n",
    "   <=   \tLess than or equal to       \tx <= y'''\n",
    "\n",
    "print('\\n')\n",
    "\n",
    "\n",
    "x = 10\n",
    "y = 20\n",
    "z = 30\n",
    "\n",
    "if x>y and x>z :\n",
    "    print('x is greatest')\n",
    "elif y>x and y>z:\n",
    "    print('y is greatest')\n",
    "elif z>x and z>y:\n",
    "    print('z is greatest')\n",
    "else:\n",
    "    print('something')"
   ]
  },
  {
   "cell_type": "markdown",
   "metadata": {},
   "source": [
    "Python Logical Operators\n",
    "\n",
    "Logical operators are used to combine conditional statements:"
   ]
  },
  {
   "cell_type": "code",
   "execution_count": 286,
   "metadata": {},
   "outputs": [
    {
     "name": "stdout",
     "output_type": "stream",
     "text": [
      "False\n"
     ]
    }
   ],
   "source": [
    "'''and  \tReturns True if both statements are true                    \tx < 5 and  x < 10\n",
    "\n",
    "   or   \tReturns True if one of the statements is true               \tx < 5 or x < 4\n",
    "   \n",
    "   not  \tReverse the result, returns False if the result is true     \tnot(x < 5 and x < 10)'''\n",
    "\n",
    "a = 40\n",
    "b = 20\n",
    "c = 30\n",
    "\n",
    "print (not(a>b and a>c))"
   ]
  },
  {
   "cell_type": "markdown",
   "metadata": {},
   "source": [
    "Python Identity Operators\n",
    "\n",
    "Identity operators are used to compare the objects, not if they are equal, but if they are actually the same object, with the same memory location:"
   ]
  },
  {
   "cell_type": "code",
   "execution_count": 291,
   "metadata": {},
   "outputs": [
    {
     "name": "stdout",
     "output_type": "stream",
     "text": [
      "False\n",
      "True\n"
     ]
    }
   ],
   "source": [
    "'''is       \tReturns true if both variables are the same object      \tx is y'''\n",
    "\n",
    "x = 10\n",
    "y = 20\n",
    "\n",
    "print(x is y)   # is x pointing to the same object as y?\n",
    "\n",
    "'''is not   \tReturns true if both variables are not the same object  \tx is not y'''\n",
    "# print('\\n')\n",
    "# x = 10\n",
    "# y = 10\n",
    "# print(x is not y)\n",
    "\n",
    "\n",
    "# x = [10, 20, 30]\n",
    "# y = [10, 20, 30]\n",
    "# print(x is y)\n",
    "\n",
    "x = \"Hi\"\n",
    "y = \"Hi\"\n",
    "print(x is y)"
   ]
  },
  {
   "cell_type": "markdown",
   "metadata": {},
   "source": [
    "Python Membership Operators\n",
    "\n",
    "Membership operators are used to test if a sequence is presented in an object:"
   ]
  },
  {
   "cell_type": "code",
   "execution_count": 292,
   "metadata": {},
   "outputs": [
    {
     "name": "stdout",
     "output_type": "stream",
     "text": [
      "False\n"
     ]
    }
   ],
   "source": [
    "'''in       \tReturns True if a sequence with the specified value is present in the object    \tx in y'''\n",
    "\n",
    "# l = [1, 2, 3, 4]    # List, will see in collection datatypes\n",
    "# e = 2\n",
    "# print(e in l)\n",
    "\n",
    "\n",
    "# '''not in   \tReturns True if a sequence with the specified value is not present in the object\tx not in y'''\n",
    "\n",
    "# l = [1, 2, 3, 4]\n",
    "# e = 2\n",
    "# print(e not in l)\n",
    "# print('\\n')\n",
    "\n",
    "string = 'Hello World'\n",
    "print('hello' in string)"
   ]
  }
 ],
 "metadata": {
  "kernelspec": {
   "display_name": "Python 3",
   "language": "python",
   "name": "python3"
  },
  "language_info": {
   "codemirror_mode": {
    "name": "ipython",
    "version": 3
   },
   "file_extension": ".py",
   "mimetype": "text/x-python",
   "name": "python",
   "nbconvert_exporter": "python",
   "pygments_lexer": "ipython3",
   "version": "3.7.4"
  }
 },
 "nbformat": 4,
 "nbformat_minor": 2
}
