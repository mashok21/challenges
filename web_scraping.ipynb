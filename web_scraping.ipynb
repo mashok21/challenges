{
 "cells": [
  {
   "cell_type": "code",
   "execution_count": 1,
   "id": "64a56e82",
   "metadata": {},
   "outputs": [],
   "source": [
    "import requests"
   ]
  },
  {
   "cell_type": "code",
   "execution_count": 5,
   "id": "0e552219",
   "metadata": {},
   "outputs": [],
   "source": [
    "import bs4, lxml"
   ]
  },
  {
   "cell_type": "code",
   "execution_count": 3,
   "id": "eeef4318",
   "metadata": {},
   "outputs": [],
   "source": [
    "base_url = \"https://quotes.toscrape.com/\""
   ]
  },
  {
   "cell_type": "code",
   "execution_count": 4,
   "id": "3f558fe5",
   "metadata": {},
   "outputs": [],
   "source": [
    "res = requests.get(base_url)"
   ]
  },
  {
   "cell_type": "code",
   "execution_count": 6,
   "id": "2618ae41",
   "metadata": {},
   "outputs": [],
   "source": [
    "soup = bs4.BeautifulSoup(res.text, \"lxml\")"
   ]
  },
  {
   "cell_type": "code",
   "execution_count": 22,
   "id": "2afe36cb",
   "metadata": {},
   "outputs": [
    {
     "data": {
      "text/plain": [
       "[<small class=\"author\" itemprop=\"author\">Albert Einstein</small>,\n",
       " <small class=\"author\" itemprop=\"author\">J.K. Rowling</small>,\n",
       " <small class=\"author\" itemprop=\"author\">Albert Einstein</small>,\n",
       " <small class=\"author\" itemprop=\"author\">Jane Austen</small>,\n",
       " <small class=\"author\" itemprop=\"author\">Marilyn Monroe</small>,\n",
       " <small class=\"author\" itemprop=\"author\">Albert Einstein</small>,\n",
       " <small class=\"author\" itemprop=\"author\">André Gide</small>,\n",
       " <small class=\"author\" itemprop=\"author\">Thomas A. Edison</small>,\n",
       " <small class=\"author\" itemprop=\"author\">Eleanor Roosevelt</small>,\n",
       " <small class=\"author\" itemprop=\"author\">Steve Martin</small>]"
      ]
     },
     "execution_count": 22,
     "metadata": {},
     "output_type": "execute_result"
    }
   ],
   "source": [
    "soup.select(\".author\")"
   ]
  },
  {
   "cell_type": "code",
   "execution_count": 24,
   "id": "914e8941",
   "metadata": {},
   "outputs": [
    {
     "name": "stdout",
     "output_type": "stream",
     "text": [
      "{'Albert Einstein', 'Marilyn Monroe', 'Thomas A. Edison', 'Eleanor Roosevelt', 'André Gide', 'Jane Austen', 'Steve Martin', 'J.K. Rowling'}\n"
     ]
    }
   ],
   "source": [
    "authors = []\n",
    "\n",
    "for author in soup.select(\".author\"):\n",
    "    authors.append(author.text)\n",
    "\n",
    "unique_authors = set(authors)\n",
    "\n",
    "print(unique_authors)"
   ]
  },
  {
   "cell_type": "code",
   "execution_count": 26,
   "id": "7dc30b34",
   "metadata": {},
   "outputs": [
    {
     "data": {
      "text/plain": [
       "[<span class=\"text\" itemprop=\"text\">“The world as we have created it is a process of our thinking. It cannot be changed without changing our thinking.”</span>,\n",
       " <span class=\"text\" itemprop=\"text\">“It is our choices, Harry, that show what we truly are, far more than our abilities.”</span>,\n",
       " <span class=\"text\" itemprop=\"text\">“There are only two ways to live your life. One is as though nothing is a miracle. The other is as though everything is a miracle.”</span>,\n",
       " <span class=\"text\" itemprop=\"text\">“The person, be it gentleman or lady, who has not pleasure in a good novel, must be intolerably stupid.”</span>,\n",
       " <span class=\"text\" itemprop=\"text\">“Imperfection is beauty, madness is genius and it's better to be absolutely ridiculous than absolutely boring.”</span>,\n",
       " <span class=\"text\" itemprop=\"text\">“Try not to become a man of success. Rather become a man of value.”</span>,\n",
       " <span class=\"text\" itemprop=\"text\">“It is better to be hated for what you are than to be loved for what you are not.”</span>,\n",
       " <span class=\"text\" itemprop=\"text\">“I have not failed. I've just found 10,000 ways that won't work.”</span>,\n",
       " <span class=\"text\" itemprop=\"text\">“A woman is like a tea bag; you never know how strong it is until it's in hot water.”</span>,\n",
       " <span class=\"text\" itemprop=\"text\">“A day without sunshine is like, you know, night.”</span>]"
      ]
     },
     "execution_count": 26,
     "metadata": {},
     "output_type": "execute_result"
    }
   ],
   "source": [
    "soup.select(\".text\")"
   ]
  },
  {
   "cell_type": "code",
   "execution_count": 27,
   "id": "c71f38be",
   "metadata": {},
   "outputs": [
    {
     "name": "stdout",
     "output_type": "stream",
     "text": [
      "['“The world as we have created it is a process of our thinking. It cannot be changed without changing our thinking.”', '“It is our choices, Harry, that show what we truly are, far more than our abilities.”', '“There are only two ways to live your life. One is as though nothing is a miracle. The other is as though everything is a miracle.”', '“The person, be it gentleman or lady, who has not pleasure in a good novel, must be intolerably stupid.”', \"“Imperfection is beauty, madness is genius and it's better to be absolutely ridiculous than absolutely boring.”\", '“Try not to become a man of success. Rather become a man of value.”', '“It is better to be hated for what you are than to be loved for what you are not.”', \"“I have not failed. I've just found 10,000 ways that won't work.”\", \"“A woman is like a tea bag; you never know how strong it is until it's in hot water.”\", '“A day without sunshine is like, you know, night.”']\n"
     ]
    }
   ],
   "source": [
    "quotes = []\n",
    "\n",
    "for quote in soup.select(\".text\"):\n",
    "    quotes.append(quote.text)\n",
    "\n",
    "print(quotes)"
   ]
  },
  {
   "cell_type": "code",
   "execution_count": 28,
   "id": "dc050a19",
   "metadata": {},
   "outputs": [
    {
     "data": {
      "text/plain": [
       "[<span class=\"tag-item\">\n",
       " <a class=\"tag\" href=\"/tag/love/\" style=\"font-size: 28px\">love</a>\n",
       " </span>,\n",
       " <span class=\"tag-item\">\n",
       " <a class=\"tag\" href=\"/tag/inspirational/\" style=\"font-size: 26px\">inspirational</a>\n",
       " </span>,\n",
       " <span class=\"tag-item\">\n",
       " <a class=\"tag\" href=\"/tag/life/\" style=\"font-size: 26px\">life</a>\n",
       " </span>,\n",
       " <span class=\"tag-item\">\n",
       " <a class=\"tag\" href=\"/tag/humor/\" style=\"font-size: 24px\">humor</a>\n",
       " </span>,\n",
       " <span class=\"tag-item\">\n",
       " <a class=\"tag\" href=\"/tag/books/\" style=\"font-size: 22px\">books</a>\n",
       " </span>,\n",
       " <span class=\"tag-item\">\n",
       " <a class=\"tag\" href=\"/tag/reading/\" style=\"font-size: 14px\">reading</a>\n",
       " </span>,\n",
       " <span class=\"tag-item\">\n",
       " <a class=\"tag\" href=\"/tag/friendship/\" style=\"font-size: 10px\">friendship</a>\n",
       " </span>,\n",
       " <span class=\"tag-item\">\n",
       " <a class=\"tag\" href=\"/tag/friends/\" style=\"font-size: 8px\">friends</a>\n",
       " </span>,\n",
       " <span class=\"tag-item\">\n",
       " <a class=\"tag\" href=\"/tag/truth/\" style=\"font-size: 8px\">truth</a>\n",
       " </span>,\n",
       " <span class=\"tag-item\">\n",
       " <a class=\"tag\" href=\"/tag/simile/\" style=\"font-size: 6px\">simile</a>\n",
       " </span>]"
      ]
     },
     "execution_count": 28,
     "metadata": {},
     "output_type": "execute_result"
    }
   ],
   "source": [
    "soup.select(\".tag-item\")"
   ]
  },
  {
   "cell_type": "code",
   "execution_count": 32,
   "id": "c373c184",
   "metadata": {},
   "outputs": [
    {
     "name": "stdout",
     "output_type": "stream",
     "text": [
      "\n",
      "love\n",
      "\n",
      "\n",
      "inspirational\n",
      "\n",
      "\n",
      "life\n",
      "\n",
      "\n",
      "humor\n",
      "\n",
      "\n",
      "books\n",
      "\n",
      "\n",
      "reading\n",
      "\n",
      "\n",
      "friendship\n",
      "\n",
      "\n",
      "friends\n",
      "\n",
      "\n",
      "truth\n",
      "\n",
      "\n",
      "simile\n",
      "\n"
     ]
    }
   ],
   "source": [
    "for tag in soup.select(\".tag-item\"):\n",
    "    print(tag.text)"
   ]
  },
  {
   "cell_type": "code",
   "execution_count": 63,
   "id": "97ffd24b",
   "metadata": {},
   "outputs": [],
   "source": [
    "base_url = \"https://quotes.toscrape.com/page/{}/\"\n",
    "# res = requests.get(base_url.format('1'))\n",
    "# soup = bs4.BeautifulSoup(res.text, \"lxml\")\n",
    "# print(soup)"
   ]
  },
  {
   "cell_type": "code",
   "execution_count": 83,
   "id": "7abd392f",
   "metadata": {},
   "outputs": [],
   "source": [
    "authors = []\n",
    "\n",
    "for n in range(1,12):\n",
    "    scrape_url = base_url.format(n)\n",
    "#   print(scrape_url)\n",
    "    res = requests.get(scrape_url)\n",
    "    soup = bs4.BeautifulSoup(res.text, \"lxml\")\n",
    "    authors_soup = soup.select('.author')\n",
    "\n",
    "    for author in authors_soup:\n",
    "        authors.append(author.text)"
   ]
  },
  {
   "cell_type": "code",
   "execution_count": 84,
   "id": "7a014618",
   "metadata": {},
   "outputs": [
    {
     "name": "stdout",
     "output_type": "stream",
     "text": [
      "50\n"
     ]
    }
   ],
   "source": [
    "print(len(set(authors)))"
   ]
  },
  {
   "cell_type": "code",
   "execution_count": 73,
   "id": "84857396",
   "metadata": {},
   "outputs": [
    {
     "name": "stdout",
     "output_type": "stream",
     "text": [
      "{'Bob Marley', 'Charles M. Schulz', 'Dr. Seuss', 'Eleanor Roosevelt', 'Allen Saunders', 'Elie Wiesel', 'Mother Teresa', 'Suzanne Collins', 'George Carlin', 'Mark Twain', 'James Baldwin', 'C.S. Lewis', 'George Bernard Shaw', 'Alexandre Dumas fils', 'Ayn Rand', 'Garrison Keillor', 'Marilyn Monroe', 'Charles Bukowski', 'Harper Lee', 'Ernest Hemingway', 'André Gide', 'Jane Austen', 'Steve Martin', 'Pablo Neruda', 'Douglas Adams', 'Khaled Hosseini', \"Madeleine L'Engle\", 'Ralph Waldo Emerson', 'George Eliot', 'Stephenie Meyer', 'Jim Henson', 'J.D. Salinger', 'Jimi Hendrix', 'Martin Luther King Jr.', 'Alfred Tennyson', 'E.E. Cummings', 'Thomas A. Edison', 'John Lennon', 'George R.R. Martin', 'J.K. Rowling', 'William Nicholson', 'Haruki Murakami', 'J.R.R. Tolkien', 'Friedrich Nietzsche', 'Albert Einstein', 'Helen Keller', 'J.M. Barrie', 'Jorge Luis Borges', 'Terry Pratchett', 'W.C. Fields'}\n"
     ]
    }
   ],
   "source": [
    "print(set(authors))"
   ]
  },
  {
   "cell_type": "code",
   "execution_count": 80,
   "id": "15b1c438",
   "metadata": {},
   "outputs": [
    {
     "name": "stdout",
     "output_type": "stream",
     "text": [
      "{'Bob Marley', 'Charles M. Schulz', 'Dr. Seuss', 'Eleanor Roosevelt', 'Allen Saunders', 'Elie Wiesel', 'Mother Teresa', 'Suzanne Collins', 'George Carlin', 'Mark Twain', 'James Baldwin', 'C.S. Lewis', 'George Bernard Shaw', 'Alexandre Dumas fils', 'Ayn Rand', 'Garrison Keillor', 'Marilyn Monroe', 'Charles Bukowski', 'Harper Lee', 'Ernest Hemingway', 'André Gide', 'Jane Austen', 'Steve Martin', 'Pablo Neruda', 'Douglas Adams', 'Khaled Hosseini', \"Madeleine L'Engle\", 'Ralph Waldo Emerson', 'George Eliot', 'Stephenie Meyer', 'Jim Henson', 'J.D. Salinger', 'Jimi Hendrix', 'Martin Luther King Jr.', 'Alfred Tennyson', 'E.E. Cummings', 'Thomas A. Edison', 'John Lennon', 'George R.R. Martin', 'J.K. Rowling', 'William Nicholson', 'Haruki Murakami', 'J.R.R. Tolkien', 'Friedrich Nietzsche', 'Albert Einstein', 'Helen Keller', 'J.M. Barrie', 'Jorge Luis Borges', 'Terry Pratchett', 'W.C. Fields'}\n",
      "50\n"
     ]
    }
   ],
   "source": [
    "writers = []\n",
    "# page_valid = True\n",
    "page = 1\n",
    "\n",
    "while True:\n",
    "    scrape_url = base_url.format(page)\n",
    "    res = requests.get(scrape_url)\n",
    "    if \"No quotes found\" in res.text:\n",
    "        break\n",
    "    else:\n",
    "        soup = bs4.BeautifulSoup(res.text, \"lxml\")\n",
    "        authors_soup = soup.select('.author')\n",
    "\n",
    "        for author in authors_soup:\n",
    "            writers.append(author.text)\n",
    "        page += 1\n",
    "print(set(writers))\n",
    "print(len(set(writers)))"
   ]
  },
  {
   "cell_type": "code",
   "execution_count": null,
   "id": "18d0b4fa",
   "metadata": {},
   "outputs": [],
   "source": []
  }
 ],
 "metadata": {
  "kernelspec": {
   "display_name": "Python 3",
   "language": "python",
   "name": "python3"
  },
  "language_info": {
   "codemirror_mode": {
    "name": "ipython",
    "version": 3
   },
   "file_extension": ".py",
   "mimetype": "text/x-python",
   "name": "python",
   "nbconvert_exporter": "python",
   "pygments_lexer": "ipython3",
   "version": "3.8.8"
  }
 },
 "nbformat": 4,
 "nbformat_minor": 5
}
