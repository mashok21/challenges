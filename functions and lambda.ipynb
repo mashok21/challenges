{
 "cells": [
  {
   "cell_type": "markdown",
   "metadata": {},
   "source": [
    "## 4. Functions"
   ]
  },
  {
   "cell_type": "markdown",
   "metadata": {},
   "source": [
    "A function is a block of code which only runs when it is called.\n",
    "\n",
    "You can pass data, known as parameters, into a function.\n",
    "\n",
    "A function can return data as a result."
   ]
  },
  {
   "cell_type": "markdown",
   "metadata": {},
   "source": [
    "Syntax:\n",
    "\n",
    "def function_name (argument1, argument2,...):\n",
    "    \n",
    "    statement1\n",
    "    statement2\n",
    "   \n",
    "function_name(arg1,arg2) - function call\n",
    "\n",
    "Advantages of using Functions:\n",
    "\n",
    "1. The functional code needs to be written only once\n",
    "2. You can define the function once and you can call it anywhere inside the program.\n",
    "3. Reusability\n",
    "4. Helps follow better coding practices. (avoid repetition of code)"
   ]
  },
  {
   "cell_type": "code",
   "execution_count": 27,
   "metadata": {},
   "outputs": [],
   "source": [
    "def add(x,y):\n",
    "    z = x+y\n",
    "    return z\n",
    "\n",
    "print(add(40,80))\n",
    "# b = add(100,200)\n",
    "# print(a)\n",
    "\n",
    "# # add(10, 20)"
   ]
  },
  {
   "cell_type": "code",
   "execution_count": 28,
   "metadata": {},
   "outputs": [
    {
     "name": "stdout",
     "output_type": "stream",
     "text": [
      "100\n"
     ]
    }
   ],
   "source": [
    "# A simple addition fuction\n",
    "\n",
    "# def xyz(n1, n2):       #function definition\n",
    "#     c = n1 + n2                 #function statements to be executed\n",
    "#     print(c)                    #function statements to be executed \n",
    "#     return c \n",
    "\n",
    "# sum1 = xyz(5, 15)\n",
    "# print(sum1)\n",
    "\n",
    "def raise_to_2(x):\n",
    "    c = x**2\n",
    "    return c                   #instead of printing you can also return a variable\n",
    "   \n",
    "\n",
    "a = raise_to_2(10)\n",
    "print(a)"
   ]
  },
  {
   "cell_type": "markdown",
   "metadata": {},
   "source": [
    "# Lambda"
   ]
  },
  {
   "cell_type": "code",
   "execution_count": 29,
   "metadata": {},
   "outputs": [
    {
     "name": "stdout",
     "output_type": "stream",
     "text": [
      "23\n"
     ]
    }
   ],
   "source": [
    "\n",
    "# Lambba\n",
    "\n",
    "# lambda\n",
    "# syntax - function_name = lambda {arguments} : {expression}\n",
    "# return - no return statement in lambda, the expression is automatically returned\n",
    "\n",
    "add4 = lambda a,b,c,d: a+b+c+d\n",
    "\n",
    "# def add4(a,b,c,d):\n",
    "#     return a+b+c+d\n",
    "\n",
    "\n",
    "\n",
    "\n",
    "x = add4(2,6,7,8)\n",
    "print(x)\n",
    "\n",
    "# multiply = lambda a, b, c, d: a*b*c*d\n",
    "\n",
    "# print(multiply(10,5,2,4))"
   ]
  },
  {
   "cell_type": "code",
   "execution_count": 34,
   "metadata": {},
   "outputs": [
    {
     "ename": "TypeError",
     "evalue": "add4() missing 3 required positional arguments: 'b', 'c', and 'd'",
     "output_type": "error",
     "traceback": [
      "\u001b[0;31m---------------------------------------------------------------------------\u001b[0m",
      "\u001b[0;31mTypeError\u001b[0m                                 Traceback (most recent call last)",
      "\u001b[0;32m<ipython-input-34-8a9355c2f734>\u001b[0m in \u001b[0;36m<module>\u001b[0;34m\u001b[0m\n\u001b[1;32m      2\u001b[0m     \u001b[0;32mreturn\u001b[0m \u001b[0ma\u001b[0m\u001b[0;34m+\u001b[0m\u001b[0mb\u001b[0m\u001b[0;34m+\u001b[0m\u001b[0mc\u001b[0m\u001b[0;34m+\u001b[0m\u001b[0md\u001b[0m\u001b[0;34m\u001b[0m\u001b[0;34m\u001b[0m\u001b[0m\n\u001b[1;32m      3\u001b[0m \u001b[0;34m\u001b[0m\u001b[0m\n\u001b[0;32m----> 4\u001b[0;31m \u001b[0mprint\u001b[0m\u001b[0;34m(\u001b[0m\u001b[0madd4\u001b[0m\u001b[0;34m(\u001b[0m\u001b[0;36m5\u001b[0m\u001b[0;34m)\u001b[0m\u001b[0;34m)\u001b[0m\u001b[0;34m\u001b[0m\u001b[0;34m\u001b[0m\u001b[0m\n\u001b[0m",
      "\u001b[0;31mTypeError\u001b[0m: add4() missing 3 required positional arguments: 'b', 'c', and 'd'"
     ]
    }
   ],
   "source": [
    "def add4(a,b,c,d):\n",
    "    return a+b+c+d \n",
    "\n",
    "print(add4(5))"
   ]
  },
  {
   "cell_type": "markdown",
   "metadata": {},
   "source": [
    "## Setting Default Values"
   ]
  },
  {
   "cell_type": "code",
   "execution_count": 32,
   "metadata": {},
   "outputs": [
    {
     "name": "stdout",
     "output_type": "stream",
     "text": [
      "30\n",
      "1020\n",
      "120\n"
     ]
    }
   ],
   "source": [
    "def add(a=10, b=20):\n",
    "    c = a+b\n",
    "    return c\n",
    "\n",
    "print(add())\n",
    "print(add(1000))\n",
    "print(add(40,80))"
   ]
  },
  {
   "cell_type": "markdown",
   "metadata": {},
   "source": [
    "# *args and **kwargs"
   ]
  },
  {
   "cell_type": "markdown",
   "metadata": {},
   "source": [
    "In Python, we can pass a variable number of arguments to a function using special symbols. There are two special symbols:\n",
    "\n",
    "    *args (Non Keyword Arguments)\n",
    "    **kwargs (Keyword Arguments)\n",
    "    \n",
    "    We use *args and **kwargs as an argument when we are unsure about the number of arguments to pass in the functions."
   ]
  },
  {
   "cell_type": "code",
   "execution_count": 6,
   "metadata": {},
   "outputs": [
    {
     "name": "stdout",
     "output_type": "stream",
     "text": [
      "Sum: 8\n",
      "Sum: 22\n",
      "Sum: 17\n"
     ]
    }
   ],
   "source": [
    "def adder(*num):\n",
    "    sum = 0\n",
    "    for n in num:\n",
    "        sum = sum + n\n",
    "    print(\"Sum:\",sum)\n",
    "    \n",
    "    \n",
    "adder(3,5)\n",
    "adder(4,5,6,7)\n",
    "adder(1,2,3,5,6)"
   ]
  },
  {
   "cell_type": "code",
   "execution_count": 36,
   "metadata": {},
   "outputs": [
    {
     "name": "stdout",
     "output_type": "stream",
     "text": [
      "first == Geeks\n",
      "mid == for\n",
      "last == Geeks\n"
     ]
    }
   ],
   "source": [
    "def myFun(**kwargs):  \n",
    "    for key, value in kwargs.items(): \n",
    "        print (\"%s == %s\" %(key, value))\n",
    "\n",
    "# Driver code \n",
    "myFun(first ='Geeks', mid ='for', last='Geeks')"
   ]
  },
  {
   "cell_type": "markdown",
   "metadata": {},
   "source": [
    "# Functions Problems"
   ]
  },
  {
   "cell_type": "code",
   "execution_count": 39,
   "metadata": {},
   "outputs": [
    {
     "name": "stdout",
     "output_type": "stream",
     "text": [
      "Enter a number to check whether it is prime or not: 9\n",
      "not prime number\n"
     ]
    }
   ],
   "source": [
    "'''find if a number is prime:'''\n",
    "\n",
    "def prime(a):\n",
    "    for i in range(2, a):\n",
    "        if a%i == 0:\n",
    "            print(\"not prime number\")\n",
    "            break\n",
    "    else:\n",
    "        print(\"prime number\")\n",
    "            \n",
    "a = int(input('Enter a number to check whether it is prime or not: '))\n",
    "\n",
    "prime(a)"
   ]
  },
  {
   "cell_type": "code",
   "execution_count": 41,
   "metadata": {},
   "outputs": [
    {
     "name": "stdout",
     "output_type": "stream",
     "text": [
      "13\n",
      "35\n"
     ]
    }
   ],
   "source": [
    "'''Write a Python program to sum all the items in a list.'''\n",
    "\n",
    "def sum_list(items):\n",
    "    sum_numbers = 0\n",
    "    for x in items:\n",
    "        sum_numbers = sum_numbers + x\n",
    "    return sum_numbers\n",
    "\n",
    "print(sum_list([1,5,7]))\n",
    "print(sum_list([5,21,9]))"
   ]
  },
  {
   "cell_type": "code",
   "execution_count": 10,
   "metadata": {},
   "outputs": [
    {
     "name": "stdout",
     "output_type": "stream",
     "text": [
      "250\n"
     ]
    }
   ],
   "source": [
    "'''Write a Python program to multiply all the items in a list.'''\n",
    "\n",
    "def multiply_list(items):\n",
    "    tot = 1\n",
    "    for x in items:\n",
    "        tot = tot * x\n",
    "    return tot\n",
    "print(multiply_list([5,5,10]))"
   ]
  },
  {
   "cell_type": "code",
   "execution_count": 11,
   "metadata": {},
   "outputs": [
    {
     "name": "stdout",
     "output_type": "stream",
     "text": [
      "250\n"
     ]
    }
   ],
   "source": [
    "'''Write a Python program to multiply all the items in a list.'''\n",
    "\n",
    "def multiply_list(items):\n",
    "    tot = 1\n",
    "    for x in items:\n",
    "        tot = tot * x\n",
    "    return tot\n",
    "print(multiply_list([5,5,10]))\n"
   ]
  },
  {
   "cell_type": "code",
   "execution_count": 12,
   "metadata": {},
   "outputs": [
    {
     "name": "stdout",
     "output_type": "stream",
     "text": [
      "50\n"
     ]
    },
    {
     "data": {
      "text/plain": [
       "10"
      ]
     },
     "execution_count": 12,
     "metadata": {},
     "output_type": "execute_result"
    }
   ],
   "source": [
    "'''Write a Python program to get the largest number from a list.'''\n",
    "\n",
    "def max_num_in_list(l):\n",
    "    max1 = l[0]\n",
    "    for a in l:\n",
    "        if a > max1:\n",
    "            max1 = a\n",
    "    return max1\n",
    "\n",
    "print(max_num_in_list([20, 10, 40, 50]))\n",
    "\n",
    "a = [20, 10, 40, 50]\n",
    "min(a)"
   ]
  },
  {
   "cell_type": "code",
   "execution_count": 43,
   "metadata": {},
   "outputs": [
    {
     "name": "stdout",
     "output_type": "stream",
     "text": [
      "values is present in the dictionary\n",
      "values is not present in the dictionary\n"
     ]
    }
   ],
   "source": [
    "''' Write a Python program to check if a given key already exists in a dictionary.\n",
    "d = {1: 10, 2: 20, 3: 30, 4: 40, 5: 50, 6: 60}'''\n",
    "\n",
    "def is_key_present(x):\n",
    "    if x in d.values():\n",
    "        print('values is present in the dictionary')\n",
    "    else:\n",
    "        print('values is not present in the dictionary')\n",
    "\n",
    "d = {1: 10, 2: 20, 3: 30, 4: 40, 5: 50, 6: 60}\n",
    "is_key_present(20)\n",
    "is_key_present(5)"
   ]
  },
  {
   "cell_type": "code",
   "execution_count": 45,
   "metadata": {},
   "outputs": [
    {
     "name": "stdout",
     "output_type": "stream",
     "text": [
      "nos are equal\n"
     ]
    }
   ],
   "source": [
    "#Max of three numbers\n",
    "\n",
    "def max3(a,b,c):\n",
    "    if a>b and a>c:\n",
    "        print(a, \" is max\")\n",
    "    elif b>a and b>c:\n",
    "        print(b, \"is max\")\n",
    "    elif c>a and c>b:\n",
    "        print(c, \"is max\")\n",
    "    elif a==b==c:\n",
    "        print(\"nos are equal\")\n",
    "        \n",
    "max3(5,5,5)"
   ]
  },
  {
   "cell_type": "code",
   "execution_count": 15,
   "metadata": {},
   "outputs": [
    {
     "name": "stdout",
     "output_type": "stream",
     "text": [
      "7654321\n"
     ]
    }
   ],
   "source": [
    "'given a string, return the reverse of the string'\n",
    "\n",
    "def string_reverse(str1):\n",
    "    rstr1 = ''\n",
    "    x = len(str1) \n",
    "    while x > 0:\n",
    "        rstr1 = rstr1 + str1[x-1] \n",
    "        x = x - 1\n",
    "    return rstr1\n",
    "print(string_reverse('1234567'))"
   ]
  },
  {
   "cell_type": "code",
   "execution_count": 46,
   "metadata": {},
   "outputs": [
    {
     "data": {
      "text/plain": [
       "'7654321'"
      ]
     },
     "execution_count": 46,
     "metadata": {},
     "output_type": "execute_result"
    }
   ],
   "source": [
    "def string_reverse(str1):\n",
    "    return str1[::-1]\n",
    "string_reverse('1234567')"
   ]
  },
  {
   "cell_type": "code",
   "execution_count": 17,
   "metadata": {},
   "outputs": [
    {
     "data": {
      "text/plain": [
       "'7654321'"
      ]
     },
     "execution_count": 17,
     "metadata": {},
     "output_type": "execute_result"
    }
   ],
   "source": [
    "s = '1234567'\n",
    "s[::-1]"
   ]
  },
  {
   "cell_type": "code",
   "execution_count": 18,
   "metadata": {},
   "outputs": [
    {
     "data": {
      "text/plain": [
       "'d'"
      ]
     },
     "execution_count": 18,
     "metadata": {},
     "output_type": "execute_result"
    }
   ],
   "source": [
    "x=''\n",
    "y='d'\n",
    "x+y"
   ]
  },
  {
   "cell_type": "code",
   "execution_count": 19,
   "metadata": {},
   "outputs": [
    {
     "name": "stdout",
     "output_type": "stream",
     "text": [
      "8\n",
      "343\n",
      "1000\n"
     ]
    }
   ],
   "source": [
    "# define a function to get cube of a number\n",
    "\n",
    "def cube(a):\n",
    "    c = a*a*a\n",
    "    return c\n",
    "\n",
    "print(cube(2))\n",
    "print(cube(7))\n",
    "print(cube(10))"
   ]
  },
  {
   "cell_type": "code",
   "execution_count": 20,
   "metadata": {},
   "outputs": [
    {
     "name": "stdout",
     "output_type": "stream",
     "text": [
      "d\n",
      "dlroW olleH\n"
     ]
    }
   ],
   "source": [
    "def s_reverse(str1):\n",
    "    rstr = str1[::-1]\n",
    "    return rstr\n",
    "\n",
    "s_reverse(\"1234567\")\n",
    "\n",
    "str1 =\"abcd\"\n",
    "x = len(str1)\n",
    "\n",
    "print(str1[x-1])\n",
    "\n",
    "txt = \"Hello World\"[::-1]\n",
    "print(txt)"
   ]
  },
  {
   "cell_type": "code",
   "execution_count": 21,
   "metadata": {},
   "outputs": [
    {
     "name": "stdout",
     "output_type": "stream",
     "text": [
      "Original String :  The quick Brown Fox\n",
      "No. of Upper case characters :  3\n",
      "No. of Lower case Characters :  13\n"
     ]
    }
   ],
   "source": [
    "def string_test(s):\n",
    "    d={\"UPPER_CASE\":0, \"LOWER_CASE\":0}\n",
    "    for c in s:\n",
    "        if c.isupper():\n",
    "            d[\"UPPER_CASE\"]+=1\n",
    "        elif c.islower():\n",
    "            d[\"LOWER_CASE\"]+=1\n",
    "        else:\n",
    "            pass\n",
    "        #print(c, d[\"UPPER_CASE\"], d[\"LOWER_CASE\"])\n",
    "    print (\"Original String : \", s)\n",
    "    print (\"No. of Upper case characters : \", d[\"UPPER_CASE\"])\n",
    "    print (\"No. of Lower case Characters : \", d[\"LOWER_CASE\"])\n",
    "\n",
    "string_test('The quick Brown Fox')"
   ]
  },
  {
   "cell_type": "code",
   "execution_count": 22,
   "metadata": {},
   "outputs": [
    {
     "data": {
      "text/plain": [
       "True"
      ]
     },
     "execution_count": 22,
     "metadata": {},
     "output_type": "execute_result"
    }
   ],
   "source": [
    "s = 'a'\n",
    "s.islower()"
   ]
  },
  {
   "cell_type": "code",
   "execution_count": 23,
   "metadata": {},
   "outputs": [
    {
     "data": {
      "text/plain": [
       "[1, 2, 3, 4, 5]"
      ]
     },
     "execution_count": 23,
     "metadata": {},
     "output_type": "execute_result"
    }
   ],
   "source": [
    "def unique_list(l):\n",
    "    x = []\n",
    "    for a in l:\n",
    "        if a not in x:\n",
    "            x.append(a)\n",
    "#         print(x)\n",
    "    return x\n",
    "\n",
    "unique_list([1,2,3,3,3,3,4,4,5])"
   ]
  },
  {
   "cell_type": "code",
   "execution_count": 24,
   "metadata": {},
   "outputs": [
    {
     "data": {
      "text/plain": [
       "[1, 2, 3, 4, 5]"
      ]
     },
     "execution_count": 24,
     "metadata": {},
     "output_type": "execute_result"
    }
   ],
   "source": [
    "def unique (list1):\n",
    "    list2 = set(list1)\n",
    "    list3 = list(list2)\n",
    "    return list3\n",
    "unique([1,2,3,3,3,3,4,4,5]) "
   ]
  },
  {
   "cell_type": "code",
   "execution_count": 25,
   "metadata": {},
   "outputs": [
    {
     "name": "stdout",
     "output_type": "stream",
     "text": [
      "prime number\n"
     ]
    }
   ],
   "source": []
  },
  {
   "cell_type": "code",
   "execution_count": null,
   "metadata": {},
   "outputs": [],
   "source": []
  }
 ],
 "metadata": {
  "kernelspec": {
   "display_name": "Python 3",
   "language": "python",
   "name": "python3"
  },
  "language_info": {
   "codemirror_mode": {
    "name": "ipython",
    "version": 3
   },
   "file_extension": ".py",
   "mimetype": "text/x-python",
   "name": "python",
   "nbconvert_exporter": "python",
   "pygments_lexer": "ipython3",
   "version": "3.7.4"
  }
 },
 "nbformat": 4,
 "nbformat_minor": 2
}
