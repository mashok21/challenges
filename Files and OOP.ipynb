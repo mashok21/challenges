{
 "cells": [
  {
   "cell_type": "code",
   "execution_count": 1,
   "metadata": {},
   "outputs": [
    {
     "ename": "FileNotFoundError",
     "evalue": "[Errno 2] No such file or directory: 'file.txt'",
     "output_type": "error",
     "traceback": [
      "\u001b[1;31m---------------------------------------------------------------------------\u001b[0m",
      "\u001b[1;31mFileNotFoundError\u001b[0m                         Traceback (most recent call last)",
      "\u001b[1;32m<ipython-input-1-49694994fd6b>\u001b[0m in \u001b[0;36m<module>\u001b[1;34m\u001b[0m\n\u001b[1;32m----> 1\u001b[1;33m \u001b[0mf\u001b[0m \u001b[1;33m=\u001b[0m \u001b[0mopen\u001b[0m\u001b[1;33m(\u001b[0m\u001b[1;34m'file.txt'\u001b[0m\u001b[1;33m,\u001b[0m \u001b[1;34m'r'\u001b[0m\u001b[1;33m)\u001b[0m\u001b[1;33m\u001b[0m\u001b[1;33m\u001b[0m\u001b[0m\n\u001b[0m\u001b[0;32m      2\u001b[0m \u001b[0mprint\u001b[0m\u001b[1;33m(\u001b[0m\u001b[0mf\u001b[0m\u001b[1;33m.\u001b[0m\u001b[0mread\u001b[0m\u001b[1;33m(\u001b[0m\u001b[1;36m20\u001b[0m\u001b[1;33m)\u001b[0m\u001b[1;33m)\u001b[0m\u001b[1;33m\u001b[0m\u001b[1;33m\u001b[0m\u001b[0m\n\u001b[0;32m      3\u001b[0m \u001b[0mprint\u001b[0m\u001b[1;33m(\u001b[0m\u001b[1;34m'***'\u001b[0m\u001b[1;33m)\u001b[0m\u001b[1;33m\u001b[0m\u001b[1;33m\u001b[0m\u001b[0m\n\u001b[0;32m      4\u001b[0m \u001b[0mprint\u001b[0m\u001b[1;33m(\u001b[0m\u001b[0mf\u001b[0m\u001b[1;33m.\u001b[0m\u001b[0mread\u001b[0m\u001b[1;33m(\u001b[0m\u001b[1;33m)\u001b[0m\u001b[1;33m)\u001b[0m\u001b[1;33m\u001b[0m\u001b[1;33m\u001b[0m\u001b[0m\n",
      "\u001b[1;31mFileNotFoundError\u001b[0m: [Errno 2] No such file or directory: 'file.txt'"
     ]
    }
   ],
   "source": [
    "f = open('file.txt', 'r')\n",
    "print(f.read(20))\n",
    "print('***')\n",
    "print(f.read())"
   ]
  },
  {
   "cell_type": "code",
   "execution_count": 4,
   "metadata": {},
   "outputs": [
    {
     "name": "stdout",
     "output_type": "stream",
     "text": [
      "string is : He\n",
      "current file position: 2\n",
      "string is: Hello\n",
      "hi\n",
      "where are you\n",
      "when are you \n",
      "which are you\n",
      "hope\n",
      "will\n",
      "come t\n",
      "to me\n",
      "pytho is \n",
      "pythoin is the great\n",
      "c is better\n",
      "i am better\n",
      "you are better\n"
     ]
    }
   ],
   "source": [
    "f = open('file.txt', 'r')\n",
    "data = f.read(2)\n",
    "print('string is :', data)\n",
    "position = f.tell()\n",
    "print('current file position:', position)\n",
    "position = f.seek(0,0)\n",
    "data = f.read()\n",
    "print('string is:', data)\n",
    "f.close()"
   ]
  },
  {
   "cell_type": "code",
   "execution_count": 6,
   "metadata": {},
   "outputs": [
    {
     "ename": "FileNotFoundError",
     "evalue": "[WinError 2] The system cannot find the file specified: 'file.txt' -> 'new_file.txt'",
     "output_type": "error",
     "traceback": [
      "\u001b[1;31m---------------------------------------------------------------------------\u001b[0m",
      "\u001b[1;31mFileNotFoundError\u001b[0m                         Traceback (most recent call last)",
      "\u001b[1;32m<ipython-input-6-3cb547f3c391>\u001b[0m in \u001b[0;36m<module>\u001b[1;34m\u001b[0m\n\u001b[0;32m      1\u001b[0m \u001b[1;32mimport\u001b[0m \u001b[0mos\u001b[0m\u001b[1;33m\u001b[0m\u001b[1;33m\u001b[0m\u001b[0m\n\u001b[1;32m----> 2\u001b[1;33m \u001b[0mos\u001b[0m\u001b[1;33m.\u001b[0m\u001b[0mrename\u001b[0m\u001b[1;33m(\u001b[0m\u001b[1;34m'file.txt'\u001b[0m\u001b[1;33m,\u001b[0m \u001b[1;34m'new_file.txt'\u001b[0m\u001b[1;33m)\u001b[0m\u001b[1;33m\u001b[0m\u001b[1;33m\u001b[0m\u001b[0m\n\u001b[0m",
      "\u001b[1;31mFileNotFoundError\u001b[0m: [WinError 2] The system cannot find the file specified: 'file.txt' -> 'new_file.txt'"
     ]
    }
   ],
   "source": [
    "import os\n",
    "os.rename('file.txt', 'new_file.txt')"
   ]
  },
  {
   "cell_type": "code",
   "execution_count": 8,
   "metadata": {},
   "outputs": [
    {
     "name": "stdout",
     "output_type": "stream",
     "text": [
      "my first file \n",
      "this file\n",
      "contains three lines\n",
      "\n"
     ]
    }
   ],
   "source": [
    "with open('file.txt', 'w') as f:\n",
    "    f.write('my first file \\n')\n",
    "    f.write('this file\\n')\n",
    "    f.write('contains three lines\\n')\n",
    "    \n",
    "with open('file.txt', 'r') as f:\n",
    "    data = f.read()\n",
    "    print(data)"
   ]
  },
  {
   "cell_type": "code",
   "execution_count": 10,
   "metadata": {},
   "outputs": [
    {
     "name": "stdout",
     "output_type": "stream",
     "text": [
      "my first file \n",
      "this file\n",
      "contains three lines\n",
      "\n"
     ]
    }
   ],
   "source": [
    "with open('file.txt', 'w') as f:\n",
    "    f.write('my first file \\n')\n",
    "    f.write('this file\\n')\n",
    "    f.write('contains three lines\\n')\n",
    "    \n",
    "with open('file.txt', 'r') as f:\n",
    "    data = f.read()\n",
    "    print(data)"
   ]
  },
  {
   "cell_type": "code",
   "execution_count": 13,
   "metadata": {},
   "outputs": [
    {
     "data": {
      "text/plain": [
       "['my first file \\n', 'this file\\n', 'contains three lines\\n']"
      ]
     },
     "execution_count": 13,
     "metadata": {},
     "output_type": "execute_result"
    }
   ],
   "source": [
    "f = open('file.txt', 'r')\n",
    "f.readlines()"
   ]
  },
  {
   "cell_type": "code",
   "execution_count": 18,
   "metadata": {},
   "outputs": [
    {
     "name": "stdout",
     "output_type": "stream",
     "text": [
      "enter file name: files.txt\n",
      "file not found\n"
     ]
    }
   ],
   "source": [
    "import os\n",
    "filename = input('enter file name: ')\n",
    "try:\n",
    "    f = open(filename, 'r')\n",
    "    for line in f:\n",
    "        print(line, end=\"\")\n",
    "    f.close\n",
    "except FileNotFoundError:\n",
    "    print('file not found')\n",
    "except PermissionError:\n",
    "    print(\"don't have permission to read the file\")\n",
    "except FileExistsError:\n",
    "    print(\"don't have the permission to read the file\")\n",
    "except:\n",
    "    print(\"unexpected error while reading the file\")\n",
    "else:\n",
    "    print('Program excecuted without any issues')"
   ]
  },
  {
   "cell_type": "markdown",
   "metadata": {},
   "source": [
    "# Basic OOP \n"
   ]
  },
  {
   "cell_type": "code",
   "execution_count": 22,
   "metadata": {},
   "outputs": [
    {
     "data": {
      "text/plain": [
       "'class class_name:\\n    def method1(self):\\n        ----\\n        ----\\n    def method2(self)\\n    \\nobj = class_name\\nobj.method1()\\nobj.method2()\\n\\n    \\n    '"
      ]
     },
     "execution_count": 22,
     "metadata": {},
     "output_type": "execute_result"
    }
   ],
   "source": [
    "\"\"\"class class_name:\n",
    "    def method1(self):\n",
    "        ----\n",
    "        ----\n",
    "    def method2(self)\n",
    "    \n",
    "obj = class_name() # creating object=\n",
    "obj.method1()\n",
    "obj.method2()\n",
    "\n",
    "    \n",
    "    \"\"\""
   ]
  },
  {
   "cell_type": "code",
   "execution_count": 28,
   "metadata": {},
   "outputs": [
    {
     "ename": "SyntaxError",
     "evalue": "invalid syntax (<ipython-input-28-070f4fda58f5>, line 9)",
     "output_type": "error",
     "traceback": [
      "\u001b[1;36m  File \u001b[1;32m\"<ipython-input-28-070f4fda58f5>\"\u001b[1;36m, line \u001b[1;32m9\u001b[0m\n\u001b[1;33m    print(\"fee is:\", (self.fee:.3f))\u001b[0m\n\u001b[1;37m                              ^\u001b[0m\n\u001b[1;31mSyntaxError\u001b[0m\u001b[1;31m:\u001b[0m invalid syntax\n"
     ]
    }
   ],
   "source": [
    "class student:\n",
    "    def get_details(self):\n",
    "        self.name = 'join'\n",
    "        self.rno = 429\n",
    "        self.fee = 50_000.00\n",
    "    def put_details(self):\n",
    "        print(\"name is:\", self.name)\n",
    "        print(\"name is:\", self.rno)\n",
    "        print(\"fee is:\", (self.fee))\n",
    "obj = student()\n",
    "obj.get_details()\n",
    "obj.put_details()"
   ]
  },
  {
   "cell_type": "code",
   "execution_count": 34,
   "metadata": {},
   "outputs": [
    {
     "name": "stdout",
     "output_type": "stream",
     "text": [
      "\n",
      "object:1st created object details\n",
      "\n",
      "name is: john\n",
      "name is: 425\n",
      "fee is: 42000.0\n",
      "database is : student\n",
      "database is: student\n",
      "object:2nd created obect details\n",
      "\n",
      "name is: abraham\n",
      "name is: 450\n",
      "fee is: 47000.0\n",
      "database is : student\n",
      "*******after student database******\n",
      "\n",
      "object:1st object details\n",
      "\n",
      "name is: john\n",
      "name is: 425\n",
      "fee is: 42000.0\n",
      "database is : john\n",
      "object:2d object details\n",
      "\n",
      "name is: abraham\n",
      "name is: 450\n",
      "fee is: 47000.0\n",
      "database is : student\n"
     ]
    }
   ],
   "source": [
    "class student:\n",
    "    database = 'student'\n",
    "    def get_details(self, aname, arno, afee):\n",
    "        self.name = aname\n",
    "        self.rno = arno\n",
    "        self.fee = afee\n",
    "    def put_details(self):\n",
    "        print(\"name is:\", self.name)\n",
    "        print(\"name is:\", self.rno)\n",
    "        print(\"fee is:\", (self.fee))\n",
    "        print('database is :', self.database)\n",
    "s1 = student()\n",
    "s2 = student()\n",
    "print()\n",
    "print('object:1st created object details\\n')\n",
    "s1.get_details(aname ='john', arno= 425, afee=42000.0)\n",
    "s1.put_details()\n",
    "print('database is:', student.database)\n",
    "print('object:2nd created obect details\\n')\n",
    "s2.get_details(aname = 'abraham', arno = 450, afee = 47000.0)\n",
    "s2.put_details()\n",
    "print('*******after student database******\\n')\n",
    "s1.database='john'\n",
    "print('object:1st object details\\n')\n",
    "s1.put_details()\n",
    "print('object:2d object details\\n')\n",
    "s2.put_details()"
   ]
  },
  {
   "cell_type": "code",
   "execution_count": null,
   "metadata": {},
   "outputs": [],
   "source": []
  }
 ],
 "metadata": {
  "kernelspec": {
   "display_name": "Python 3",
   "language": "python",
   "name": "python3"
  },
  "language_info": {
   "codemirror_mode": {
    "name": "ipython",
    "version": 3
   },
   "file_extension": ".py",
   "mimetype": "text/x-python",
   "name": "python",
   "nbconvert_exporter": "python",
   "pygments_lexer": "ipython3",
   "version": "3.8.8"
  }
 },
 "nbformat": 4,
 "nbformat_minor": 2
}
